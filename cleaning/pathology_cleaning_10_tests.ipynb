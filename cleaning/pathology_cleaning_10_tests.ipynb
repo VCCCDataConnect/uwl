{
 "cells": [
  {
   "cell_type": "markdown",
   "id": "71df2285",
   "metadata": {},
   "source": [
    "\n",
    "# Cleaning pathology data\n",
    "\n",
    "---\n",
    "\n",
    "**Author**: Alex Lee\n",
    "\n",
    "**Institution**: University of Melbourne and Victorian Comprehensive Cancer Centre Alliance\n",
    "\n",
    "**Date**: 08-03-23 (Updated 19-04-23 to include updated Calcium values)\n",
    "\n",
    "**Name**: Data cleaning for ten pathology tests in primary care data\n",
    "\n",
    "**Type**: Pathology tests\n",
    "\n",
    "**Date range**: 2000 - 2020\n",
    "\n",
    "**Data sources**:\n",
    "\n",
    "- Patron (PAT027) primary care database\n",
    "- NPS MedicineWise primary care database\n",
    "\n",
    "**Reference**:\n",
    "\n",
    "- (reference to paper on UWL)\n",
    "\n",
    "---\n",
    "\n",
    "\n",
    "\n",
    "## Description\n",
    "\n",
    "The notebook requires two primary care tables: pathology and patient demographics. These can be from either Patron or NPS, but they need to be structured as shown below.\n",
    "\n",
    "**Pathology**:\n",
    "\n",
    "| patientid | result_dte | result_name | result_value | units |\n",
    "| --- | --- | --- | --- | --- |\n",
    "| 3 | 23-11-2009 | HAEMOGLOBIN | 200 | mg/L |\n",
    "| 143 | 09-03-2008 | ALBUMIN | 45 | g/L |\n",
    "\n",
    "**Patient**:\n",
    "\n",
    "| usi | patientid | gender_code | year_of_birth | \n",
    "| --- | --- | --- | --- |\n",
    "| 2346 | 3 | Female | 1963 | \n",
    "| 766786 | 143 | Male | 1973 | \n",
    "\n",
    "\n",
    "\n",
    "The result is a new pathology table that looks like:\n",
    "\n",
    "| patientid | usi | result_dte | result_name | result_value | units | gender | age | numeric_value | result_value_cleaned | plausible_range | value_range | value_type | units_standard | result_name_standard | \n",
    "| --- | --- | --- | --- | --- | --- | --- | --- | --- | --- | --- | --- | --- | --- | --- |\n",
    "| 3 | 0001230100 | 23-11-2009 | HAEMOGLOBIN | 200 | g/L | 1956 | Male | 61 | False | 200.0 | True | normal | numeric | g/L | HAEMOGLOBIN | \n",
    "\n",
    "\n",
    "## How to run this notebook\n",
    "\n",
    "The notebook should be run in the following order, based on the section numbers:\n",
    "\n",
    "1) Define the transformation functions\n",
    "\n",
    "2) Choose a pathology test\n",
    "\n",
    "3) Carry out the transformations\n",
    "\n",
    "4) Check the summary stats to detect any anomalies\n",
    "\n",
    "5) Write the cleaned data"
   ]
  },
  {
   "cell_type": "code",
   "execution_count": 12,
   "id": "e8547289",
   "metadata": {},
   "outputs": [],
   "source": [
    "import matplotlib.pyplot as plt\n",
    "import numpy as np\n",
    "import pandas as pd\n",
    "import re\n",
    "import seaborn as sns\n",
    "\n",
    "sns.set()\n",
    "%matplotlib inline"
   ]
  },
  {
   "cell_type": "markdown",
   "id": "26956614",
   "metadata": {},
   "source": [
    "\n",
    "## 1. Data transformation functions\n",
    "\n",
    "These are to perform slightly more complex data transformations:\n",
    "- Replacing non-numeric values\n",
    "- Scaling values by a given factor\n",
    "- Converting number ranges to median values\n",
    "- Create range variables\n",
    "- Create flags based on the type of result value (e.g., a range, numeric or not)"
   ]
  },
  {
   "cell_type": "code",
   "execution_count": 2,
   "id": "b2c1d738",
   "metadata": {},
   "outputs": [],
   "source": [
    "def replace_values(df, column, replacements):\n",
    "    df['result_value_cleaned'] = df[column]\n",
    "    for key, value in replacements.items():\n",
    "        df['result_value_cleaned'] = df.result_value_cleaned.str.replace(key, value, regex=True)\n",
    "    return df"
   ]
  },
  {
   "cell_type": "code",
   "execution_count": 3,
   "id": "10b3e275",
   "metadata": {},
   "outputs": [],
   "source": [
    "def create_range_variable(df, range_value_mapping):\n",
    "    df.loc[:, 'value_range'] = ''\n",
    "    for value_range, range_description in range_value_mapping.items():\n",
    "        df.loc[df.result_value_cleaned.between(*value_range), 'value_range'] = range_description\n",
    "    return df"
   ]
  },
  {
   "cell_type": "code",
   "execution_count": 4,
   "id": "69c69e1b",
   "metadata": {},
   "outputs": [],
   "source": [
    "def range_to_median(df):\n",
    "    # regex for strings involving ranges of values\n",
    "    range_patterns = [r'^[0-9]+\\s*\\-\\s*[0-9]+$', \n",
    "                      r'^[0-9]+\\.[0-9]+\\s*\\-\\s*[0-9]+$', \n",
    "                      r'^[0-9]+\\s*\\-\\s*[0-9]+\\.[0-9]+$',\n",
    "                      r'^[0-9]+\\.[0-9]+\\s*\\-\\s*[0-9]+\\.[0-9]+$']\n",
    "    \n",
    "    range_pattern = r'|'.join(range_patterns)\n",
    "\n",
    "    # check if there are range values\n",
    "    if df['result_value'].str.contains(range_pattern).sum() == 0:\n",
    "        return df\n",
    "    else:\n",
    "        # subset of data with ranges\n",
    "        range_mid = (\n",
    "            df\n",
    "            .query(f'result_value.str.contains(\"{range_pattern}\")')\n",
    "            .result_value.str.split('-', expand=True)\n",
    "            .rename(columns={0: 'value_min', 1: 'value_max'})\n",
    "            .assign(value_min=lambda df_: df_.value_min.astype(float), \n",
    "                    value_max=lambda df_: df_.value_max.astype(float))\n",
    "            .apply(lambda r: 0.5*(r['value_max'] + r['value_min']), axis=1)\n",
    "        )\n",
    "        \n",
    "        df.loc[range_mid.index, 'result_value_cleaned'] = range_mid\n",
    "        \n",
    "        return df"
   ]
  },
  {
   "cell_type": "code",
   "execution_count": 5,
   "id": "796a4f40",
   "metadata": {},
   "outputs": [],
   "source": [
    "def create_value_type(df, value_to_type):\n",
    "    df['value_type'] = 'numeric'\n",
    "    for value, value_type in value_to_type.items():\n",
    "        df.loc[df['result_value'].str.contains(value, regex=True, na=False), 'value_type'] = value_type\n",
    "    return df"
   ]
  },
  {
   "cell_type": "code",
   "execution_count": 6,
   "id": "040e98ed",
   "metadata": {},
   "outputs": [],
   "source": [
    "def map_values(dataset, mapping, column=\"value_range\"):\n",
    "    \"\"\"\n",
    "    Given a dataset and a value mapping, produce a new column that\n",
    "    takes on values based on those specified in the mapping\n",
    "    \n",
    "    Args:\n",
    "    dataset (pd.DataFrame): the dataset to map values from\n",
    "    mapping (list of dict): each dict contains inputs and outputs describing\n",
    "        the mapping\n",
    "    column (str, default=\"value_range\"): name of new column\n",
    "        \n",
    "    Return:\n",
    "    dataset_updated (pd.DataFrame): dataset with additional column\n",
    "    \"\"\"\n",
    "    dataset[column] = ''\n",
    "    \n",
    "    for mapping_element in mapping:\n",
    "        inputs = mapping_element['input']\n",
    "        output = mapping_element['output']\n",
    "        \n",
    "        # creates the filter to the rows that satisfy all conditions in mapping_element\n",
    "        condition = pd.Series(index=dataset.index, data=True)\n",
    "        for key, value in inputs.items():\n",
    "            if isinstance(value, tuple):\n",
    "                value_min, value_max = value\n",
    "                condition = condition & (dataset[key] <= value_max) & (dataset[key] >= value_min)\n",
    "            else:\n",
    "                condition = condition & (dataset[key] == value)\n",
    "        dataset.loc[condition, column] = output\n",
    "        \n",
    "    return dataset"
   ]
  },
  {
   "cell_type": "code",
   "execution_count": 7,
   "id": "a0e4ea22",
   "metadata": {},
   "outputs": [],
   "source": [
    "def scale_values(pathology, scale_units, scale_factor):\n",
    "    \"\"\"\n",
    "    Scale a subset of the pathology results\n",
    "\n",
    "    Args:\n",
    "    pathology (pd.DataFrame): pathology dataset\n",
    "    scale_units (list of str): specific subset of units to scale values of\n",
    "    scale_factor (float): amount the multiply the above subset of values by\n",
    "\n",
    "    Return:\n",
    "    pathology (pd.DataFrame): dataframe with scaled result values\n",
    "    \"\"\"\n",
    "\n",
    "    pathology.loc[pathology['units'].isin(scale_units), 'result_value_cleaned'] = \\\n",
    "        pathology.query('units in @scale_units')['result_value_cleaned'] * scale_factor\n",
    "\n",
    "    return pathology"
   ]
  },
  {
   "cell_type": "code",
   "execution_count": 8,
   "id": "ca2cccfe",
   "metadata": {},
   "outputs": [],
   "source": [
    "def clean_pathology_data(df, test_data):\n",
    "    \"\"\"\n",
    "    Clean a given pathology data\n",
    "    \n",
    "    Args\n",
    "    ----\n",
    "    df (pd.DataFrame): input pathology data\n",
    "    test_data (dict): the meta data used to filter to the appropriate pathology test\n",
    "    \"\"\"\n",
    "    \n",
    "    test_name = test_data['test_name']\n",
    "    patterns_test = test_data['test_regex']\n",
    "    plausible_range = test_data['plausible_range']\n",
    "    \n",
    "    scale_units = test_data['scale_units']\n",
    "    scale_factor = test_data['scale_factor']\n",
    "    \n",
    "    units_keep = test_data['units_to_keep']\n",
    "    units_remove = test_data['units_to_remove']\n",
    "    units = test_data['units_standard']\n",
    "    \n",
    "    range_pattern = test_data['range_pattern']\n",
    "    value_types = test_data['value_types']\n",
    "    \n",
    "    weird_values_replace = test_data['replacement_rules']\n",
    "    mapping = test_data['mapping']\n",
    "\n",
    "    pattern_units1 = r'|'.join(units_keep)\n",
    "    pattern_units2 = r'|'.join(units_remove)\n",
    "    \n",
    "    df_cleaned = (\n",
    "        df\n",
    "        .assign(result_name=lambda df_: df_.result_name.str.upper().str.strip(), \n",
    "                result_value=lambda df_: df_.result_value.str.strip())\n",
    "        .query(f'result_name.str.strip().str.upper().str.match(\"{patterns_test}\", na=False)')\n",
    "        .query('result_value.isnull() == False')\n",
    "        .assign(numeric_value=pd.to_numeric(pathology.result_value, errors='coerce').isnull() == False)\n",
    "        .query(f'units.str.contains(\"{pattern_units1}\", regex=True, na=True) == True')\n",
    "        .query(f'units.str.contains(\"{pattern_units2}\", regex=True, na=False) == False')\n",
    "        .pipe(replace_values, 'result_value', weird_values_replace)\n",
    "        .pipe(range_to_median)\n",
    "        .assign(result_value_cleaned=lambda df_: df_.result_value_cleaned.replace(r'^$', np.nan, regex=True))\n",
    "        .assign(result_value_cleaned=lambda df_: pd.to_numeric(df_.result_value_cleaned, errors='coerce').astype(float))\n",
    "        .assign(plausible_range=lambda df_: df_.result_value_cleaned.between(*plausible_range))\n",
    "        .pipe(scale_values, scale_units, scale_factor)\n",
    "        .pipe(map_values, mapping)\n",
    "        .pipe(create_value_type, value_types)\n",
    "        .assign(units_standard=units)\n",
    "        .assign(result_name_standard=test_name)\n",
    "    )\n",
    "    \n",
    "    return df_cleaned"
   ]
  },
  {
   "cell_type": "code",
   "execution_count": 9,
   "id": "9a4de674",
   "metadata": {},
   "outputs": [],
   "source": [
    "range_patterns = [r'^[0-9]+\\s*\\-\\s*[0-9]+$', \n",
    "                  r'^[0-9]+\\.[0-9]+\\s*\\-\\s*[0-9]+$', \n",
    "                  r'^[0-9]+\\s*\\-\\s*[0-9]+\\.[0-9]+$',\n",
    "                  r'^[0-9]+\\.[0-9]+\\s*\\-\\s*[0-9]+\\.[0-9]+$']\n",
    "\n",
    "range_pattern = r'|'.join(range_patterns)"
   ]
  },
  {
   "cell_type": "markdown",
   "id": "0d7fc916",
   "metadata": {},
   "source": [
    "## 2. Pathlogy test definitions\n",
    "\n",
    "Each of the 10 pathology tests that we are using are defined below. The key elements of these definitions are:\n",
    "- The set regular expression patterns to match to the result_name field\n",
    "- Which records (if any) to remove and which to keep based on their units\n",
    "- The standard units of the test\n",
    "- The standard name of the test\n",
    "- The definitions of reference ranges (e.g., low, normal, elevated)\n",
    "- Which value ranges are biologically plausible\n",
    "\n",
    "For this study we have done the cleaning and mapping for the following tests:\n",
    "- Albumin\n",
    "- Alkaline Phosphatase\n",
    "- Bilirubin\n",
    "- Calcium\n",
    "- C-Reactive Protein\n",
    "- Creatinine\n",
    "- ESR\n",
    "- Haemoglobin\n",
    "- Leucocytes\n",
    "- Platelets"
   ]
  },
  {
   "cell_type": "code",
   "execution_count": 10,
   "id": "ae81d61c",
   "metadata": {},
   "outputs": [],
   "source": [
    "# flags for ranges, inequalities etc\n",
    "value_types = {r'.[0-9]+\\-[0-9]+.': 'range', \n",
    "               r'\\<.+|<.+|^[0-9]+\\-': 'maximum', \n",
    "               r'\\>.+|>.+|^[0-9]+\\+': 'minimum', \n",
    "               r'^[^0-9]+$': np.nan}"
   ]
  },
  {
   "cell_type": "code",
   "execution_count": 11,
   "id": "bc8b51bf",
   "metadata": {},
   "outputs": [],
   "source": [
    "# covers: replacing inequalities, removing non-numeric strings\n",
    "weird_values_replace = {r'>\\\\S\\\\([0-9.]+)': '\\g<1>',\n",
    "                        r'>\\s?([0-9.]+)': '\\g<1>',\n",
    "                        r'>\\s*\\^([0-9.]+)': '\\g<1>',\n",
    "                        r'>\\^([0-9.]+)': '\\g<1>',\n",
    "                        r'>\\s*([0-9.]+)': '\\g<1>',\n",
    "                        r'>\\s?\\^([0-9.]+)': '\\g<1>',\n",
    "                        r'<\\\\S\\\\([0-9.]+)': '\\g<1>',\n",
    "                        r'<\\s?([0-9.]+)': '\\g<1>',\n",
    "                        r'<\\s*\\^([0-9.]+)': '\\g<1>',\n",
    "                        r'<\\^([0-9.]+)': '\\g<1>',\n",
    "                        r'<\\s*([0-9.]+)': '\\g<1>',\n",
    "                        r'<\\s?\\^([0-9.]+)': '\\g<1>',\n",
    "                        r'^([0-9]+)\\+$': '\\g<1>',\n",
    "                        r'^([0-9.]+)\\+$': '\\g<1>',\n",
    "                        r'^([0-9]+)\\-$': '\\g<1>',\n",
    "                        r'^([0-9.]+)\\-$': '\\g<1>',\n",
    "                        r'^([0-9]+)\\`$': '\\g<1>',\n",
    "                        r'^([0-9.]+)\\`$': '\\g<1>',\n",
    "                        r'^([0-9\\.]+)[A-Za-z\\.\\s]+$': '\\g<1>', \n",
    "                        r'^[0]*\\,([0-9]{2})$': '\\g<1>',\n",
    "                        r'^[^0-9\\.]+$': '', \n",
    "                        r'([0-9\\.]{3}).+': '\\g<1>', \n",
    "                        r'(^[^0-9\\.]+$)': ''}"
   ]
  },
  {
   "cell_type": "markdown",
   "id": "6e3b0ac3",
   "metadata": {},
   "source": [
    "### Alkaline Phosphatase"
   ]
  },
  {
   "cell_type": "code",
   "execution_count": 12,
   "id": "fd118e88",
   "metadata": {},
   "outputs": [],
   "source": [
    "# relevant patterns (define the test)\n",
    "alp_patterns = ['^ALP$', \n",
    "                '^ALP (SERUM)$', \n",
    "                '.*ALKALINE PHOS.*', \n",
    "                '.*ALK PHOS.*', \n",
    "                '.*ALK\\. PHOS.*', \n",
    "                '^ALKALINE PHOS.*', \n",
    "                '^ALK PHOS.*',\n",
    "                '^ALK\\. PHOS.*']\n",
    "\n",
    "alp_regex = r'|'.join(alp_patterns)"
   ]
  },
  {
   "cell_type": "code",
   "execution_count": 13,
   "id": "ccab41f4",
   "metadata": {},
   "outputs": [],
   "source": [
    "alp_mapping = [{'input': {'result_value_cleaned': (0, 30-0.0001)}, 'output': 'low'}, \n",
    "               {'input': {'result_value_cleaned': (30, 130)}, 'output': 'normal'},\n",
    "               {'input': {'result_value_cleaned': (130+0.0001, 180)}, 'output': 'high'},\n",
    "               {'input': {'result_value_cleaned': (180+0.0001, 10000000)}, 'output': 'abnormal_high'}]"
   ]
  },
  {
   "cell_type": "code",
   "execution_count": 14,
   "id": "07af98ec",
   "metadata": {},
   "outputs": [],
   "source": [
    "alp_metadata = {'test_name': 'ALP', \n",
    "                'test_regex': alp_regex,\n",
    "                'plausible_range': (30, 150),\n",
    "                'scale_units': ['U/L'],\n",
    "                'scale_factor': 1,\n",
    "                'units_to_keep': ['.+', ''],\n",
    "                'units_to_remove': [r'^U/g$', r'^U/g Protein$'],\n",
    "                'units_standard': 'U/L',\n",
    "                'range_pattern': range_pattern, \n",
    "                'value_types': value_types, \n",
    "                'replacement_rules': weird_values_replace, \n",
    "                'mapping': alp_mapping}"
   ]
  },
  {
   "cell_type": "markdown",
   "id": "78062bf0",
   "metadata": {},
   "source": [
    "### Albumin"
   ]
  },
  {
   "cell_type": "code",
   "execution_count": 13,
   "id": "bc28c3e1",
   "metadata": {},
   "outputs": [],
   "source": [
    "# relevant patterns (define the test)\n",
    "albumin_patterns = [r'^ALBUMIN$', \n",
    "                    r'^ALBUMIN[\\s\\:\\.]+$',\n",
    "                    r'^S ALBUMIN$', \n",
    "                    r'^S ALBUMIN[\\s\\:\\.]$',\n",
    "                    r'^SERUM ALBUMIN$', \n",
    "                    r'^SERUM ALBUMIN[\\s\\:\\.]+$',\n",
    "                    r'^ALBUMIN[\\.\\s]+$', \n",
    "                    r'^ALBUMIN \\(SERUM\\)[\\s\\.\\:]+$', \n",
    "                    r'^ALBUMIN \\(SERUM\\)$',\n",
    "                    r'^ALBUMIN \\(CALCULATED\\)$', \n",
    "                    r'^ALB$']\n",
    "\n",
    "albumin_regex = r'|'.join(albumin_patterns)"
   ]
  },
  {
   "cell_type": "code",
   "execution_count": 14,
   "id": "d0817b7d",
   "metadata": {},
   "outputs": [],
   "source": [
    "albumin_mapping = [{'input': {'result_value_cleaned': (0, 35-0.001)}, 'output': 'low'}, \n",
    "                   {'input': {'result_value_cleaned': (35, 50)}, 'output': 'normal'},\n",
    "                   {'input': {'result_value_cleaned': (50+0.001, 100)}, 'output': 'high'},\n",
    "                   {'input': {'result_value_cleaned': (100+0.001, 10000000)}, 'output': 'abnormal_high'}]"
   ]
  },
  {
   "cell_type": "code",
   "execution_count": 15,
   "id": "c7a48ea9",
   "metadata": {},
   "outputs": [],
   "source": [
    "albumin_metadata = {'test_name': 'ALBUMIN', \n",
    "                    'test_regex': albumin_regex,\n",
    "                    'plausible_range': (0, 100),\n",
    "                    'scale_units': ['g/L'],\n",
    "                    'scale_factor': 1,\n",
    "                    'units_to_keep': ['.+', ''],\n",
    "                    'units_to_remove': ['mg/L', 'ug/ml'],\n",
    "                    'units_standard': 'g/L',\n",
    "                    'range_pattern': range_pattern, \n",
    "                    'value_types': value_types, \n",
    "                    'replacement_rules': weird_values_replace, \n",
    "                    'mapping': albumin_mapping}"
   ]
  },
  {
   "cell_type": "markdown",
   "id": "921a358b",
   "metadata": {},
   "source": [
    "### Bilirubin"
   ]
  },
  {
   "cell_type": "code",
   "execution_count": 16,
   "id": "27f555b1",
   "metadata": {},
   "outputs": [],
   "source": [
    "# relevant patterns (define the test)\n",
    "bilirubin_patterns = ['^TOTAL BILIRUBIN$', \n",
    "            r'^TOTAL BILIRUBIN[\\s\\:]+$',\n",
    "            '^BILIRUBIN \\(TOTAL\\)$', \n",
    "            '^S BILIRUBIN[\\s\\:]+$', \n",
    "            '^S BILIRUBIN$', \n",
    "            '^BILIRUBIN\\,TOTAL$', \n",
    "            '^TOTALBILI.*', \n",
    "            '^BILIRUBIN$', \n",
    "            '^BILIRUBIN \\- TOTAL$', \n",
    "            '^SERUM BILIRUBIN$', \n",
    "            '^BILIRUBIN TOTAL$',\n",
    "            '^BILIRUBIN[\\s\\.\\:]+', \n",
    "            '^P TOTAL BILIRUBIN$', \n",
    "            'BILIRUBIN TOTAL \\(ADULT\\)']\n",
    "\n",
    "bilirubin_regex = r'|'.join(bilirubin_patterns)"
   ]
  },
  {
   "cell_type": "code",
   "execution_count": 17,
   "id": "1eb7c43d",
   "metadata": {},
   "outputs": [],
   "source": [
    "bilirubin_mapping = [{'input': {'result_value_cleaned': (0, 3-0.001)}, 'output': 'low'}, \n",
    "           {'input': {'result_value_cleaned': (3, 17+0.001)}, 'output': 'normal'},\n",
    "           {'input': {'result_value_cleaned': (17 +0.001, 100)}, 'output': 'high'},\n",
    "           {'input': {'result_value_cleaned': (100.00001, 10000000)}, 'output': 'abnormal_high'}]"
   ]
  },
  {
   "cell_type": "code",
   "execution_count": 18,
   "id": "dd855d0d",
   "metadata": {},
   "outputs": [],
   "source": [
    "bilirubin_metadata = {'test_name': 'BILIRUBIN', \n",
    "                      'test_regex': bilirubin_regex,\n",
    "                      'plausible_range': (0.1, 25),\n",
    "                      'scale_units': ['umol/L'],\n",
    "                      'scale_factor': 1,\n",
    "                      'units_to_keep': ['.+', ''],\n",
    "                      'units_to_remove': ['----'],\n",
    "                      'units_standard': 'umol/L',\n",
    "                      'range_pattern': range_pattern, \n",
    "                      'value_types': value_types, \n",
    "                      'replacement_rules': weird_values_replace, \n",
    "                      'mapping': bilirubin_mapping}"
   ]
  },
  {
   "cell_type": "markdown",
   "id": "08097e87",
   "metadata": {},
   "source": [
    "### Calcium"
   ]
  },
  {
   "cell_type": "code",
   "execution_count": 19,
   "id": "88200ad1",
   "metadata": {},
   "outputs": [],
   "source": [
    "# relevant patterns (define the test)\n",
    "calcium_patterns = [r'^CALCIUM$',\n",
    "            r'^CALCIUM[\\s\\:\\.]+$',\n",
    "            r'^TOTAL CALCIUM$', \n",
    "            r'^TOTAL CALCIUM[\\s\\:\\.]+$',\n",
    "            r'^SERUM CALCIUM$', \n",
    "            r'^SERUM CALCIUM[\\s\\:\\.]+$',\n",
    "            r'^CALCIUM CONCENTRATION$', \n",
    "            r'^S CALCIUM$',\n",
    "            r'^S CALCIUM[\\s\\:\\.]+$',\n",
    "            r'^CALCIUM \\(TOTAL\\)$', \n",
    "            r'^CALCIUM\\, TOTAL$', \n",
    "            r'^CALCIUM SERPL\\-SCNC$', \n",
    "            r'^CALCIUM \\(CAL\\.\\)$', \n",
    "            r'^CALCIUM LEVEL[\\s\\:\\.]+$',\n",
    "            r'^CALCIUM[\\s\\.]+$', \n",
    "            r'^CALCIUM SERUM$',  \n",
    "            r'^CALCIUM SERUM[\\s\\:\\.]+$', \n",
    "            r'T\\-CALCIUM', \n",
    "            r'^CALCIUM CONC\\.$', \n",
    "            r'^CALCIUM TOTAL$', \n",
    "            r'^P CALCIUM$', \n",
    "            r'^CALCIUM[\\s\\.]+$', \n",
    "            r'^ADJUSTED CA.*$', \n",
    "            r'^CA \\(CORR\\)$', \n",
    "            r'^CA\\(CORRECTED\\)$', \n",
    "            r'^CALC ALB CORR.*$', \n",
    "            r'^CALCIUM \\(ADJUSTED\\)$', \n",
    "            r'CALCIUM \\(ALB.* ADJ.*\\)$', \n",
    "            r'CALCIUM \\(ALB\\. CORR\\.\\)$', \n",
    "            r'^CALCIUM \\(CORRECTED\\)$', \n",
    "            r'^CALCIUM\\.ADJUSTED$', \n",
    "            r'^CALCIUM CORR.*$', r'^CALCIUM\\-CORR.*$', r'^CORR.* CA.*$', r'^S CALCIUM \\(CORRECTED\\)$']\n",
    "\n",
    "calcium_regex = r'|'.join(calcium_patterns)"
   ]
  },
  {
   "cell_type": "code",
   "execution_count": 20,
   "id": "4d212db4",
   "metadata": {},
   "outputs": [],
   "source": [
    "calcium_mapping = [{'input': {'result_value_cleaned': (0, 2.12-0.0001)}, 'output': 'low'}, \n",
    "                   {'input': {'result_value_cleaned': (2.12, 2.6)}, 'output': 'normal'},\n",
    "                   {'input': {'result_value_cleaned': (2.6+0.00001, 5.0)}, 'output': 'high'},\n",
    "                   {'input': {'result_value_cleaned': (5, 10000000)}, 'output': 'abnormal_high'}]"
   ]
  },
  {
   "cell_type": "code",
   "execution_count": 21,
   "id": "03bcc814",
   "metadata": {},
   "outputs": [],
   "source": [
    "calcium_metadata = {'test_name': 'CALCIUM', \n",
    "                      'test_regex': calcium_regex,\n",
    "                      'plausible_range': (1, 5),\n",
    "                      'scale_units': ['mmol/L'],\n",
    "                      'scale_factor': 1,\n",
    "                      'units_to_keep': ['.+', ''],\n",
    "                      'units_to_remove': [r'mmol/day', r'mmol/d', r'mmol/24h'],\n",
    "                      'units_standard': 'mmol/L',\n",
    "                      'range_pattern': range_pattern, \n",
    "                      'value_types': value_types, \n",
    "                      'replacement_rules': weird_values_replace, \n",
    "                      'mapping': calcium_mapping}"
   ]
  },
  {
   "cell_type": "markdown",
   "id": "c1e59e72",
   "metadata": {},
   "source": [
    "### C-Reactive Protein"
   ]
  },
  {
   "cell_type": "code",
   "execution_count": 22,
   "id": "7418d817",
   "metadata": {},
   "outputs": [],
   "source": [
    "# relevant patterns (define the test)\n",
    "crp_patterns = ['.*CRP.*', \n",
    "            'C REACTIVE PROTEIN.*', \n",
    "            'C\\-REACTIVE PROTEIN.*', \n",
    "            'S C\\-REACTIVE PROTEIN.*', \n",
    "            'SERUM C\\-REACTIVE PROTEIN.*']\n",
    "\n",
    "crp_regex = r'|'.join(crp_patterns)"
   ]
  },
  {
   "cell_type": "code",
   "execution_count": 23,
   "id": "c4cdcd3e",
   "metadata": {},
   "outputs": [],
   "source": [
    "crp_mapping = [{'input': {'result_value_cleaned': (10+0.0001, 2000)}, 'output': 'elevated'}, \n",
    "               {'input': {'result_value_cleaned': (0, 10)}, 'output': 'normal'}]"
   ]
  },
  {
   "cell_type": "code",
   "execution_count": 24,
   "id": "b2bd23eb",
   "metadata": {},
   "outputs": [],
   "source": [
    "crp_metadata = {'test_name': 'CRP', \n",
    "                      'test_regex': crp_regex,\n",
    "                      'plausible_range': (0, 2000),\n",
    "                      'scale_units': ['mg/L'],\n",
    "                      'scale_factor': 1,\n",
    "                      'units_to_keep': ['.+', ''],\n",
    "                      'units_to_remove': ['^g/L', '.?U/L'],\n",
    "                      'units_standard': 'mg/L',\n",
    "                      'range_pattern': range_pattern, \n",
    "                      'value_types': value_types, \n",
    "                      'replacement_rules': weird_values_replace, \n",
    "                      'mapping': crp_mapping}"
   ]
  },
  {
   "cell_type": "markdown",
   "id": "bf678c3c",
   "metadata": {},
   "source": [
    "### Creatinine"
   ]
  },
  {
   "cell_type": "code",
   "execution_count": 25,
   "id": "5785ba60",
   "metadata": {},
   "outputs": [],
   "source": [
    "# relevant patterns (define the test)\n",
    "creatinine_patterns = [r'^CREATININE$', \n",
    "            r'^CREATININE CONCENTRATION$', \n",
    "            r'^CREATININE CONCENTRATION[\\s\\:]+$', \n",
    "            r'^SERUM CREATININE$', \n",
    "            r'^SERUM CREATININE[\\s\\:]+$',\n",
    "            r'^S CREATININE$', \n",
    "            r'^S CREATININE[\\s\\:]+$',\n",
    "            r'^CREATININE (SERUM)$'\n",
    "            r'CREATININE \\(BLOOD\\)', \n",
    "            r'^CREATININE \\(UMOL\\/L\\)$', \n",
    "            r'^CREATININE POCT$', \n",
    "            r'^CREATININE[\\s\\.]+$', \n",
    "            r'CREATININE \\(IDMS\\)', \n",
    "            r'^CREATININE \\- POCT$', \n",
    "            r'^CREATININE \\(SERUM\\/PLASMA\\; MOLES\\/VOLUME\\)$', \n",
    "            r'^CREATININE\\-I$', \n",
    "            r'^CREATININE \\(MMOL\\/L\\)$', \n",
    "            r'^CREATININE[\\s\\.\\:]+$', \n",
    "            r'^P CREATININE$', \n",
    "            r'^SERUM CREAT\\.{0,1}$']\n",
    "\n",
    "creatinine_regex = r'|'.join(creatinine_patterns)"
   ]
  },
  {
   "cell_type": "code",
   "execution_count": 26,
   "id": "b99210f4",
   "metadata": {},
   "outputs": [],
   "source": [
    "# general specification of subset of data -> range mapping\n",
    "# assume only age, sex, other ordinal value, result_value\n",
    "creatinine_mapping = [{'input': {'gender': 'Male', 'result_value_cleaned': (60, 106)}, 'output': 'normal'}, \n",
    "           {'input': {'gender': 'Male', 'result_value_cleaned': (0, 60-0.0001)}, 'output': 'low'}, \n",
    "           {'input': {'gender': 'Male', 'result_value_cleaned': (106+0.0001, 100000)}, 'output': 'high'}, \n",
    "           {'input': {'gender': 'Female', 'result_value_cleaned': (45, 80)}, 'output': 'normal'}, \n",
    "           {'input': {'gender': 'Female', 'result_value_cleaned': (0, 45-0.001)}, 'output': 'low'},\n",
    "           {'input': {'gender': 'Female', 'result_value_cleaned': (80+0.001, 100000)}, 'output': 'high'}]\n",
    "\n",
    "creatinine_metadata = {'test_name': 'CREATININE', \n",
    "                      'test_regex': creatinine_regex,\n",
    "                      'plausible_range': (0.1, 200),\n",
    "                      'scale_units': ['umol/L'],\n",
    "                      'scale_factor': 1,\n",
    "                      'units_to_keep': ['.+', ''],\n",
    "                      'units_to_remove': [r'^mmol.+$', r'^mg.+$'],\n",
    "                      'units_standard': 'umol/L',\n",
    "                      'range_pattern': range_pattern, \n",
    "                      'value_types': value_types, \n",
    "                      'replacement_rules': weird_values_replace, \n",
    "                      'mapping': creatinine_mapping}"
   ]
  },
  {
   "cell_type": "markdown",
   "id": "7f495c0c",
   "metadata": {},
   "source": [
    "### ESR"
   ]
  },
  {
   "cell_type": "code",
   "execution_count": 27,
   "id": "0970ffb7",
   "metadata": {},
   "outputs": [],
   "source": [
    "# relevant patterns (define the test)\n",
    "esr_patterns = ['ERYTHROCYTE SEDIMENTATION RATE', \n",
    "            'ERYTHROCYTE SED RATE', \n",
    "            '^ESR.*', \n",
    "            '^E\\.S\\.R.*']\n",
    "\n",
    "esr_regex = r'|'.join(esr_patterns)"
   ]
  },
  {
   "cell_type": "code",
   "execution_count": 28,
   "id": "290b580a",
   "metadata": {},
   "outputs": [],
   "source": [
    "# general specification of subset of data -> range mapping\n",
    "# assume only age, sex, other ordinal value, result_value\n",
    "esr_mapping = [{'input': {'gender': 'Male', 'age': (0, 65), 'result_value_cleaned': (0, 10)}, 'output': 'normal'}, \n",
    "           {'input': {'gender': 'Male', 'age': (0, 65), 'result_value_cleaned': (10+0.0001, 10000)}, 'output': 'high'}, \n",
    "           {'input': {'gender': 'Male', 'age': (65, 130), 'result_value_cleaned': (0, 20)}, 'output': 'normal'}, \n",
    "           {'input': {'gender': 'Male', 'age': (65, 130), 'result_value_cleaned': (20+0.0001, 10000)}, 'output': 'high'},\n",
    "           {'input': {'gender': 'Female', 'age': (0, 65), 'result_value_cleaned': (0, 15)}, 'output': 'normal'}, \n",
    "           {'input': {'gender': 'Female', 'age': (0, 65), 'result_value_cleaned': (15+0.0001, 10000)}, 'output': 'high'}, \n",
    "           {'input': {'gender': 'Female', 'age': (65, 130), 'result_value_cleaned': (0, 25)}, 'output': 'normal'}, \n",
    "           {'input': {'gender': 'Female', 'age': (65, 130), 'result_value_cleaned': (25+0.0001, 10000)}, 'output': 'high'}]\n",
    "\n",
    "esr_metadata = {'test_name': 'ESR', \n",
    "                      'test_regex': esr_regex,\n",
    "                      'plausible_range': (0, 200),\n",
    "                      'scale_units': ['mm/H'],\n",
    "                      'scale_factor': 1,\n",
    "                      'units_to_keep': ['.+', ''],\n",
    "                      'units_to_remove': ['----'],\n",
    "                      'units_standard': 'mm/H',\n",
    "                      'range_pattern': range_pattern, \n",
    "                      'value_types': value_types, \n",
    "                      'replacement_rules': weird_values_replace, \n",
    "                      'mapping': esr_mapping}"
   ]
  },
  {
   "cell_type": "markdown",
   "id": "b5ff4e66",
   "metadata": {},
   "source": [
    "### Haemoglobin"
   ]
  },
  {
   "cell_type": "code",
   "execution_count": 29,
   "id": "d45b5f95",
   "metadata": {},
   "outputs": [],
   "source": [
    "haemoglobin_patterns = ['^HAEMAGLOBIN$', \n",
    "                        '^HAEMOGLOBIN$', \n",
    "                        '^HAEMOGLOBIN \\(CALC\\)$', \n",
    "                        '^HAEMOGLOBIN \\(GEM\\)$', \n",
    "                        '^HAEMOGLOBIN\\s{0,1}[\\.\\s:;]+$', \n",
    "                        '^HAEMOGLOBIN;TOTAL$', \n",
    "                        '^HB$', \n",
    "                        '^HEMOGLOBIN$',\n",
    "                        '^HGB$', \n",
    "                        '^TOTAL HAEMOGLOBIN$', \n",
    "                        '^TOTAL HB$']\n",
    "\n",
    "haemoglobin_regex = r'|'.join(haemoglobin_patterns)"
   ]
  },
  {
   "cell_type": "code",
   "execution_count": 30,
   "id": "01399a14",
   "metadata": {},
   "outputs": [],
   "source": [
    "pattern_units1 = r'|'.join(['.+', ''])\n",
    "pattern_units2 = r'|'.join(['mg/L', 'ug/ml'])"
   ]
  },
  {
   "cell_type": "code",
   "execution_count": 33,
   "id": "2cf64651",
   "metadata": {},
   "outputs": [],
   "source": [
    "# general specification of subset of data -> range mapping\n",
    "# assume only age, sex, other ordinal value, result_value\n",
    "haemoglobin_mapping = [{'input': {'gender': 'Male', 'result_value_cleaned': (130, 180)}, 'output': 'normal'}, \n",
    "           {'input': {'gender': 'Male', 'result_value_cleaned': (0, 130-0.0001)}, 'output': 'low'}, \n",
    "           {'input': {'gender': 'Male', 'result_value_cleaned': (180 + 0.0001, 100000)}, 'output': 'high'}, \n",
    "           {'input': {'gender': 'Female', 'result_value_cleaned': (115, 160)}, 'output': 'normal'}, \n",
    "           {'input': {'gender': 'Female', 'result_value_cleaned': (0, 115-0.0001)}, 'output': 'low'},\n",
    "           {'input': {'gender': 'Female', 'result_value_cleaned': (160+0.0001, 100000)}, 'output': 'high'}]\n",
    "\n",
    "haemoglobin_metadata = {'test_name': 'HAEMOGLOBIN', \n",
    "                      'test_regex': haemoglobin_regex,\n",
    "                      'plausible_range': (30, 250),\n",
    "                      'scale_units': ['g/dl', 'g/dL'],\n",
    "                      'scale_factor': 10,\n",
    "                      'units_to_keep': ['.+', ''],\n",
    "                      'units_to_remove': ['mg/L', 'ug/ml'],\n",
    "                      'units_standard': 'g/L',\n",
    "                      'range_pattern': range_pattern, \n",
    "                      'value_types': value_types, \n",
    "                      'replacement_rules': weird_values_replace, \n",
    "                      'mapping': haemoglobin_mapping}"
   ]
  },
  {
   "cell_type": "markdown",
   "id": "ed461ad9",
   "metadata": {},
   "source": [
    "### Leucocytes"
   ]
  },
  {
   "cell_type": "code",
   "execution_count": 34,
   "id": "b2703c78",
   "metadata": {},
   "outputs": [],
   "source": [
    "# relevant patterns (define the test)\n",
    "patterns = [r'.*LEUCOCYTE COUNT.*', \n",
    "            r'^LEUCOCYTES$', \n",
    "            r'^LEUKOCYTES$', \n",
    "            r'LEUC'\n",
    "            r'^WBC$', \n",
    "            r'^WCC$', \n",
    "            r'WHITE CELL', \n",
    "            r'^WHITECELLCOUNT$', \n",
    "            r'^WHITE CELL']\n",
    "\n",
    "leucocytes_regex = r'|'.join(patterns)"
   ]
  },
  {
   "cell_type": "code",
   "execution_count": 35,
   "id": "670276cd",
   "metadata": {},
   "outputs": [],
   "source": [
    "# general specification of subset of data -> range mapping\n",
    "# assume only age, sex, other ordinal value, result_value\n",
    "leucocytes_mapping = [{'input': {'result_value_cleaned': (0, 4.0-0.0001)}, 'output': 'low'}, \n",
    "           {'input': {'result_value_cleaned': (4.0, 11)}, 'output': 'normal'}, \n",
    "           {'input': {'result_value_cleaned': (11+0.0001, 25)}, 'output': 'high'}, \n",
    "           {'input': {'result_value_cleaned': (25+0.0001, 1000000000)}, 'output': 'abnormal_high'}]\n",
    "\n",
    "leucocytes_metadata = {'test_name': 'LEUCOCYTES', \n",
    "                      'test_regex': leucocytes_regex,\n",
    "                      'plausible_range': (0, 100),\n",
    "                      'scale_units': ['nL'],\n",
    "                      'scale_factor': 1,\n",
    "                      'units_to_keep': ['9', 'nL'],\n",
    "                      'units_to_remove': ['----'],\n",
    "                      'units_standard': 'nL',\n",
    "                      'range_pattern': range_pattern, \n",
    "                      'value_types': value_types, \n",
    "                      'replacement_rules': weird_values_replace, \n",
    "                      'mapping': leucocytes_mapping}"
   ]
  },
  {
   "cell_type": "markdown",
   "id": "6f4f368e",
   "metadata": {},
   "source": [
    "### Platelets"
   ]
  },
  {
   "cell_type": "code",
   "execution_count": 36,
   "id": "a250e614",
   "metadata": {},
   "outputs": [],
   "source": [
    "# relevant patterns (define the test)\n",
    "platelets_patterns = ['PLATELET COUNT', \n",
    "                      'PLATELET COUNT[\\s\\.\\;\\:]$', \n",
    "                      'PLATELETCOUNT', \n",
    "                      '^PLATELETS[\\s\\.\\:\\;]+$', \n",
    "                      '^PLATELETS$', # modify regex\n",
    "                      '^PLATELET$', \n",
    "                      '^PLAT$', \n",
    "                      '^PLT$', \n",
    "                      '^PLTI$', \n",
    "                      '^PLTS$',\n",
    "                      '^PLAT COUNT$', \n",
    "                      '^PLATELET \\# BLD AUTO$', \n",
    "                      '^[\\s\\.]+PLATELET.']\n",
    "\n",
    "platelets_regex = r'|'.join(platelets_patterns)"
   ]
  },
  {
   "cell_type": "code",
   "execution_count": 37,
   "id": "f72dced2",
   "metadata": {},
   "outputs": [],
   "source": [
    "# general specification of subset of data -> range mapping\n",
    "# assume only age, sex, other ordinal value, result_value\n",
    "platelets_mapping = [{'input': {'result_value_cleaned': (0, 149.9999)}, 'output': 'low'}, \n",
    "           {'input': {'result_value_cleaned': (150, 400)}, 'output': 'normal'}, \n",
    "           {'input': {'result_value_cleaned': (400.00001, 1000000000)}, 'output': 'high'}]\n",
    "\n",
    "platelets_metadata = {'test_name': 'PLATELETS', \n",
    "                      'test_regex': platelets_regex,\n",
    "                      'plausible_range': (10, 1000),\n",
    "                      'scale_units': ['nL'],\n",
    "                      'scale_factor': 1,\n",
    "                      'units_to_keep': ['.+', ''],\n",
    "                      'units_to_remove': ['----'],\n",
    "                      'units_standard': 'nL',\n",
    "                      'range_pattern': range_pattern, \n",
    "                      'value_types': value_types, \n",
    "                      'replacement_rules': weird_values_replace, \n",
    "                      'mapping': platelets_mapping}"
   ]
  },
  {
   "cell_type": "markdown",
   "id": "ff61cf36",
   "metadata": {},
   "source": [
    "## 3. Load data"
   ]
  },
  {
   "cell_type": "code",
   "execution_count": 38,
   "id": "4011563c",
   "metadata": {},
   "outputs": [],
   "source": [
    "# for NPS data\n",
    "source_folder1 = \"M:/Working/DataAnalysis/CleanAndStructure/DataFiles\"\n",
    "\n",
    "# for Patron data\n",
    "source_folder = \"M:/Working/AL/projects/weight_loss/outputs/patron_data_extracts\""
   ]
  },
  {
   "cell_type": "code",
   "execution_count": 39,
   "id": "57e04bb6",
   "metadata": {},
   "outputs": [],
   "source": [
    "# for NPS data\n",
    "filename_pathology = \"NPS_PathologyResults_202005.csv\"\n",
    "filename_patient = \"NPS_Patient_202107.csv\"\n",
    "\n",
    "# for Patron data\n",
    "#filename_pathology = \"patron_pathology_data_310123.csv\"\n",
    "#filename_pathology_pat12 = \"PAT012_ivx_idvl_tst.parquet\"\n",
    "#filename_patient = \"PAT012_pat_pat_dtl.parquet\""
   ]
  },
  {
   "cell_type": "code",
   "execution_count": null,
   "id": "166827a9",
   "metadata": {},
   "outputs": [],
   "source": [
    "# nps\n",
    "pathology = pd.read_csv(f'{source_folder1}/{filename_pathology}')\n",
    "patient = pd.read_csv(f'{source_folder1}/{filename_patient}')\n",
    "\n",
    "# patron\n",
    "#pathology = pd.read_parquet(f'{source_folder1}/{filename_pathology_pat12}')\n",
    "#patient = pd.read_parquet(f'{source_folder1}/{filename_patient}')"
   ]
  },
  {
   "cell_type": "code",
   "execution_count": 41,
   "id": "61d27443",
   "metadata": {},
   "outputs": [],
   "source": [
    "# only required for patron\n",
    "patient.query('Source_System == \"ZM\"').Patient_USI.to_csv('M:/Working/DataAnalysis/CleanAndStructure/PAT012_ZM_USI.csv', index=False)"
   ]
  },
  {
   "cell_type": "code",
   "execution_count": 42,
   "id": "4762f0db",
   "metadata": {},
   "outputs": [],
   "source": [
    "# this is only needed for patron data\n",
    "pathology = (\n",
    "    pathology\n",
    "    .rename(columns={'Patient_PPN': 'patientid', \n",
    "                     'Patient_USI': 'usi', \n",
    "                     'Age_at_Event': 'age', \n",
    "                     'Result_Date': 'result_dte', \n",
    "                     'Result_Name': 'result_name', \n",
    "                     'Result_Value': 'result_value', \n",
    "                     'Result_Units': 'units', \n",
    "                     'LOINC_Code': 'loinc_code', \n",
    "                     'Source_System': 'source_system'})\n",
    ")\n",
    "\n",
    "patient = (\n",
    "    patient\n",
    "    .rename(columns={'Patient_PPN': 'patientid', \n",
    "                     'Patient_USI': 'usi', \n",
    "                     'YearOfBirth': 'year_of_birth', \n",
    "                     'PATRON_Gender_Lkp': 'gender_code'})\n",
    ")"
   ]
  },
  {
   "cell_type": "code",
   "execution_count": 41,
   "id": "eefc08bf",
   "metadata": {},
   "outputs": [],
   "source": [
    "# for NPS\n",
    "# mapping between patientid and gender\n",
    "patientid_to_gender = dict(\n",
    "    patient[['patientid', 'gender_code']]\n",
    "    .drop_duplicates()\n",
    "    .groupby('patientid', as_index=False)\n",
    "    .first()\n",
    "    .values\n",
    ")\n",
    "\n",
    "# mapping between patientid and year of birth\n",
    "patientid_to_yob = dict(\n",
    "    patient[['patientid', 'year_of_birth']]\n",
    "    .drop_duplicates()\n",
    "    .groupby('patientid', as_index=False)\n",
    "    .first()\n",
    "    .values\n",
    ")\n",
    "\n",
    "# add gender and year of birth columns\n",
    "pathology = (\n",
    "    pathology\n",
    "    .assign(yob=lambda df_: df_.patientid.map(patientid_to_yob),\n",
    "            gender=lambda df_: df_.patientid.map(patientid_to_gender),\n",
    "            result_dte=lambda df_: pd.to_datetime(df_.result_dte),\n",
    "            age=lambda df_: df_.result_dte.dt.year - df_.yob)\n",
    ")"
   ]
  },
  {
   "cell_type": "markdown",
   "id": "a2a22ff7",
   "metadata": {},
   "source": [
    "## 4. Transform the data\n",
    "\n",
    "The following steps\n",
    "- Filter to pathology result names that corrrespond to the required test\n",
    "- Remove rows with missing values\n",
    "- Create a flag for whether column is numeric or contains other characters\n",
    "- Remove rows with incorrect units\n",
    "- Clean the non-numeric values based on specific rules from regular expressions\n",
    "- Convert the 'range values', i.e., values such as '5-10' to their median\n",
    "- Replace empty strings with nan\n",
    "- Convert the cleaned result values to float\n",
    "- Create a column that flags those values that are and aren't biologically plausible\n",
    "- Create a column that categorises values into different normal / abnormal categories\n",
    "- Create a column for the type of value that is in the result, e.g., a range, a max, a min\n",
    "- Create a column for the unit (so there is only one way of describing the units)\n",
    "- Create a column for the standard path test name"
   ]
  },
  {
   "cell_type": "code",
   "execution_count": 42,
   "id": "c3c5729c",
   "metadata": {},
   "outputs": [],
   "source": [
    "pathology_metadata_list = [albumin_metadata, \n",
    "                           alp_metadata, \n",
    "                           bilirubin_metadata, \n",
    "                           calcium_metadata,\n",
    "                           creatinine_metadata, \n",
    "                           crp_metadata, \n",
    "                           esr_metadata, \n",
    "                           haemoglobin_metadata, \n",
    "                           leucocytes_metadata, \n",
    "                           platelets_metadata]"
   ]
  },
  {
   "cell_type": "code",
   "execution_count": 43,
   "id": "8c02b84f",
   "metadata": {},
   "outputs": [],
   "source": [
    "output_folder = \"M:/Working/AL/Projects/weight_loss/outputs\""
   ]
  },
  {
   "cell_type": "code",
   "execution_count": null,
   "id": "42a007ae",
   "metadata": {},
   "outputs": [],
   "source": [
    "for metadata in pathology_metadata_list[4:]:\n",
    "    print(f\"Cleaning data for {metadata['test_name']}\")\n",
    "    pathology_cleaned = clean_pathology_data(pathology, metadata)\n",
    "    pathology_cleaned.to_parquet(f'{output_folder}/pathology_nps_{metadata[\"test_name\"].lower()}_cleaned_Vic_ranges_200923.parquet')"
   ]
  },
  {
   "cell_type": "markdown",
   "id": "d49fe1f2",
   "metadata": {},
   "source": [
    "\n",
    "## 5. Basic summary stats\n",
    "\n",
    "For diagnosing issues with the data transformations"
   ]
  },
  {
   "cell_type": "code",
   "execution_count": 203,
   "id": "e3a59b44",
   "metadata": {},
   "outputs": [],
   "source": [
    "df = pd.read_parquet(f'{output_folder}/pathology_patron_creatinine_cleaned_BN_ranges_130423.parquet')"
   ]
  },
  {
   "cell_type": "code",
   "execution_count": 212,
   "id": "ca283435",
   "metadata": {},
   "outputs": [],
   "source": [
    "test_values2 = df.query('units.isnull() == False').result_value_cleaned.values"
   ]
  },
  {
   "cell_type": "code",
   "execution_count": 2,
   "id": "d1378e69",
   "metadata": {},
   "outputs": [],
   "source": [
    "df.shape[0] - df_temp.shape[0]"
   ]
  },
  {
   "cell_type": "code",
   "execution_count": 171,
   "id": "65a03418",
   "metadata": {},
   "outputs": [],
   "source": [
    "df_temp = df.query('units.isnull()')"
   ]
  },
  {
   "cell_type": "code",
   "execution_count": 1,
   "id": "76528a0c",
   "metadata": {},
   "outputs": [],
   "source": [
    "df_temp.loinc_code.value_counts()"
   ]
  },
  {
   "cell_type": "markdown",
   "id": "166af34e",
   "metadata": {},
   "source": [
    "## 6. Write the cleaned data"
   ]
  },
  {
   "cell_type": "code",
   "execution_count": 35,
   "id": "4737696d",
   "metadata": {},
   "outputs": [],
   "source": [
    "output_folder = 'M:/Working/AL/projects/weight_loss/outputs'"
   ]
  },
  {
   "cell_type": "code",
   "execution_count": 37,
   "id": "5461f77b",
   "metadata": {},
   "outputs": [],
   "source": [
    "pathology_cleaned.to_parquet(f'{output_folder}/pathology_nps_platelets_cleaned_130323.parquet')"
   ]
  }
 ],
 "metadata": {
  "kernelspec": {
   "display_name": "Python 3 (ipykernel)",
   "language": "python",
   "name": "python3"
  },
  "language_info": {
   "codemirror_mode": {
    "name": "ipython",
    "version": 3
   },
   "file_extension": ".py",
   "mimetype": "text/x-python",
   "name": "python",
   "nbconvert_exporter": "python",
   "pygments_lexer": "ipython3",
   "version": "3.9.12"
  }
 },
 "nbformat": 4,
 "nbformat_minor": 5
}
