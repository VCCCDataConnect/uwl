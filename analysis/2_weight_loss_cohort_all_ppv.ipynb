{
 "cells": [
  {
   "cell_type": "markdown",
   "id": "f59219cb",
   "metadata": {},
   "source": [
    "# Calculations of PPVs for UWL cohort\n",
    "\n",
    "16 Feb 2023\n",
    "\n",
    "---\n",
    "\n",
    "## Description\n",
    "\n",
    "This notebook details the calculation of the diagnostic accuracy statistics from the cohort of Unexpected Weight Loss (UWL) patients and allows for comparison with the UK study\n",
    "\n",
    "Statistics calculated include:\n",
    "- PPVs for the UWL cohort for each subcohort defined by age group and sex\n",
    "- PPVs for the UWL cohort for each subcohort defined by age group and pathology test group\n",
    "\n",
    "These statistics are then calculated for each of the UWL cohorts defined solely in terms of 'Unintended', i.e., without the 'Intent unknown' category."
   ]
  },
  {
   "cell_type": "markdown",
   "id": "6c31d61d",
   "metadata": {},
   "source": [
    "## 0.1. Config"
   ]
  },
  {
   "cell_type": "code",
   "execution_count": 1,
   "id": "a0e7ec32",
   "metadata": {},
   "outputs": [],
   "source": [
    "import matplotlib.pyplot as plt\n",
    "import numpy as np\n",
    "import pandas as pd\n",
    "import plotly.express as px\n",
    "import re\n",
    "from scipy.stats import binomtest\n",
    "import seaborn as sns\n",
    "\n",
    "sns.set()\n",
    "%matplotlib inline"
   ]
  },
  {
   "cell_type": "code",
   "execution_count": 2,
   "id": "f0523a0e",
   "metadata": {},
   "outputs": [],
   "source": [
    "pd.set_option(\"display.max_rows\", 1000)\n",
    "pd.set_option(\"display.max_columns\", 100)"
   ]
  },
  {
   "cell_type": "markdown",
   "id": "eef6b0ba",
   "metadata": {},
   "source": [
    "## 0.2. Load data"
   ]
  },
  {
   "cell_type": "code",
   "execution_count": 3,
   "id": "b2385a53",
   "metadata": {},
   "outputs": [],
   "source": [
    "source_folder1 = 'M:/Working/DataAnalysis/CleanAndStructure/DataFiles'\n",
    "source_folder2 = \"M:/Working/AL/projects/weight_loss/outputs\"\n",
    "source_folder3 = \"M:/Working/MDAP_Collaboration/data/original/NPS_Complete\"\n",
    "source_folder4 = \"M:/Working/DataAnalysis/RCOLD/DataFiles\"\n",
    "\n",
    "filename_cohort = 'uwl_cohort_patron_300823.parquet'\n",
    "filename_patient = \"nps_patron_with_age_groups_Vic_ranges_300823.parquet\" # includes the age group fields\n",
    "filename_patient = 'nps_patron_with_age_groups_uk_ranges_201223.parquet'\n",
    "\n",
    "filename_cohort = 'uwl_cohort_patron_nps_no_u18_300823.parquet'\n",
    "filename_cohort = 'uwl_cohort_cleanest_201223.parquet'\n",
    "\n",
    "filename_cancer = 'VAED_Cancers_coded.csv'"
   ]
  },
  {
   "cell_type": "code",
   "execution_count": 4,
   "id": "a276c0c9",
   "metadata": {},
   "outputs": [],
   "source": [
    "# the cohort of all weight related patients\n",
    "#cohort_base = pd.read_parquet(f'{source_folder2}/{filename_cohort}')\n",
    "cohort_base = pd.read_parquet(f'{source_folder2}/{filename_cohort}')\n",
    "\n",
    "# patient table\n",
    "#patient = pd.read_parquet(f'{source_folder2}/{filename_patient}')\n",
    "patient = pd.read_parquet(f'{source_folder2}/{filename_patient}')\n",
    "\n",
    "# filter to those patients in the cohort who do not have a weight increase\n",
    "cohort = cohort_base.query('weight_increase == False')\n",
    "\n",
    "#pathology = pd.read_csv(f'{source_folder2}/{filename_pathology}')\n",
    "cancer = pd.read_csv(f'{source_folder4}/{filename_cancer}')"
   ]
  },
  {
   "cell_type": "code",
   "execution_count": 5,
   "id": "67f5a923",
   "metadata": {},
   "outputs": [],
   "source": [
    "usi_uwl = cohort.query('usi_linked == True').query('uwl_flag == True').usi.unique()"
   ]
  },
  {
   "cell_type": "code",
   "execution_count": 6,
   "id": "c3c19e10",
   "metadata": {},
   "outputs": [],
   "source": [
    "# time difference between event and index date\n",
    "time_differences = (\n",
    "    cohort\n",
    "    .groupby('usi')\n",
    "    .apply(lambda g: g[g['index_case'] == True]['dte'].values[0] - g['dte'])\n",
    ")\n",
    "\n",
    "cohort['index_date_dt'] = time_differences.values"
   ]
  },
  {
   "cell_type": "code",
   "execution_count": 7,
   "id": "0c9ce43f",
   "metadata": {},
   "outputs": [],
   "source": [
    "# standardize the USI values to be left zero-padded 10 digits\n",
    "cohort = (\n",
    "    cohort\n",
    "    .query('usi in @usi_uwl')\n",
    "    .assign(usi=lambda df_: df_.usi.astype(str).str.pad(width=10, side='left', fillchar='0'))\n",
    ")\n",
    "\n",
    "patient = (\n",
    "    patient\n",
    "   .assign(usi=lambda df_: df_.usi.astype(str).str.pad(width=10, side='left', fillchar='0'))\n",
    ")"
   ]
  },
  {
   "cell_type": "code",
   "execution_count": 8,
   "id": "bd474dff",
   "metadata": {},
   "outputs": [],
   "source": [
    "usi_uwl = cohort['usi'].unique()\n",
    "patient_uwl = patient[patient['usi'].isin(usi_uwl)]"
   ]
  },
  {
   "cell_type": "code",
   "execution_count": 1,
   "id": "ea97c676",
   "metadata": {},
   "outputs": [],
   "source": [
    "#cohort.shape, patient_uwl.shape, patient_uwl.usi.unique().shape"
   ]
  },
  {
   "cell_type": "code",
   "execution_count": 2,
   "id": "70d76229",
   "metadata": {},
   "outputs": [],
   "source": [
    "#cohort.shape, patient_uwl.shape, patient_uwl.usi.unique().shape"
   ]
  },
  {
   "cell_type": "code",
   "execution_count": 3,
   "id": "ab1aea81",
   "metadata": {},
   "outputs": [],
   "source": [
    "#cohort.usi.unique().shape"
   ]
  },
  {
   "cell_type": "code",
   "execution_count": 4,
   "id": "e02d001d",
   "metadata": {},
   "outputs": [],
   "source": [
    "#cohort.columns"
   ]
  },
  {
   "cell_type": "code",
   "execution_count": 13,
   "id": "ba7814cb",
   "metadata": {},
   "outputs": [],
   "source": [
    "usi1 = cohort.query('uwl_flag == True').query('uwl_prediction == 1').usi.unique()\n",
    "usi2 = cohort.query('uwl_flag == True').query('uwl_prediction == 2').usi.unique()\n",
    "usi12 = cohort.query('uwl_flag == True').query('(uwl_prediction == 1) or (uwl_prediction == 2)').usi.unique()"
   ]
  },
  {
   "cell_type": "code",
   "execution_count": 5,
   "id": "b2188a75",
   "metadata": {},
   "outputs": [],
   "source": [
    "#cohort1 = cohort.query('usi in @usi1')\n",
    "#cohort2 = cohort.query('usi in @usi2')\n",
    "\n",
    "#usi1.shape, usi2.shape, usi12.shape"
   ]
  },
  {
   "cell_type": "code",
   "execution_count": 6,
   "id": "73a31ac6",
   "metadata": {},
   "outputs": [],
   "source": [
    "# number of cancers\n",
    "#cohort1.query('cancer_within_6months_index_date == True').usi.unique().shape, cohort2.query('cancer_within_6months_index_date == True').usi.unique().shape"
   ]
  },
  {
   "cell_type": "code",
   "execution_count": 7,
   "id": "597af5cd",
   "metadata": {},
   "outputs": [],
   "source": [
    "#cohort1.query('cancer_within_6months_index_date == True').usi.unique().shape, cohort2.query('cancer_within_6months_index_date == True').usi.unique().shape"
   ]
  },
  {
   "cell_type": "code",
   "execution_count": 8,
   "id": "4ede4855",
   "metadata": {},
   "outputs": [],
   "source": [
    "#cohort1.query('cancer_within_6months_index_date == True').usi.unique().shape[0] / usi1.shape[0] * 100, cohort2.query('cancer_within_6months_index_date == True').usi.unique().shape[0] / usi2.shape[0] * 100"
   ]
  },
  {
   "cell_type": "code",
   "execution_count": 9,
   "id": "e0cbaa2e",
   "metadata": {},
   "outputs": [],
   "source": [
    "#51 / 3616 * 100, 55 / 3903"
   ]
  },
  {
   "cell_type": "code",
   "execution_count": 10,
   "id": "bfabaa30",
   "metadata": {},
   "outputs": [],
   "source": [
    "# number of patients\n",
    "#usi1.shape, usi2.shape, usi12.shape"
   ]
  },
  {
   "cell_type": "code",
   "execution_count": 11,
   "id": "3d0254b7",
   "metadata": {},
   "outputs": [],
   "source": [
    "# number of events\n",
    "#cohort1.shape, cohort2.shape, cohort.shape"
   ]
  },
  {
   "cell_type": "code",
   "execution_count": null,
   "id": "ef13eb57",
   "metadata": {},
   "outputs": [],
   "source": [
    "# median time coverage of patients (median time between most recent and first event)\n",
    "(\n",
    "    cohort\n",
    "    .groupby('usi', as_index=False)\n",
    "    .dte.agg([np.min, np.max])\n",
    "    .reset_index()\n",
    "    .assign(time_difference=lambda df_: df_.amax-df_.amin)\n",
    "    .time_difference.dt.days.median() / 365.25\n",
    ")"
   ]
  },
  {
   "cell_type": "code",
   "execution_count": 12,
   "id": "75361c4f",
   "metadata": {},
   "outputs": [],
   "source": [
    "# number of patients with at least one weight measurement\n",
    "cohort.query('event_type == \"observation\"').query('event_subtype == \"WEIGHT\"').usi.unique().shape[0]"
   ]
  },
  {
   "cell_type": "code",
   "execution_count": null,
   "id": "aca1bf46",
   "metadata": {},
   "outputs": [],
   "source": [
    "# number of patients with at least two weight measurements in the two years before the index date\n",
    "(\n",
    "    cohort\n",
    "    .query('two_years_before == True')\n",
    "    .query('event_type == \"observation\"')\n",
    "    .query('event_subtype == \"WEIGHT\"')\n",
    "    .groupby('usi', as_index=False)\n",
    "    .size()\n",
    "    .query('size >= 2')\n",
    "    .usi.unique().shape[0]\n",
    ")"
   ]
  },
  {
   "cell_type": "code",
   "execution_count": null,
   "id": "1c508050",
   "metadata": {},
   "outputs": [],
   "source": [
    "# mean weight change in two years up to index date (for those patients with at least two weight measurements)\n",
    "usi_double_weights = (\n",
    "    cohort2\n",
    "    .query('two_years_before == True')\n",
    "    .query('event_type == \"observation\"')\n",
    "    .query('event_subtype == \"WEIGHT\"')\n",
    "    .groupby('usi', as_index=False)\n",
    "    .size()\n",
    "    .query('size >= 2')\n",
    "    .usi.unique()\n",
    ")\n",
    "\n",
    "(\n",
    "    cohort2\n",
    "    .query('two_years_before == True')\n",
    "    .query('event_type == \"observation\"')\n",
    "    .query('event_subtype == \"WEIGHT\"')\n",
    "    .query('usi in @usi_double_weights')\n",
    "    .sort_values(by=['usi', 'dte'])\n",
    "    .groupby('usi').agg(first_weight=('value', 'first'), last_weight=('value', 'last'))\n",
    "    .assign(weight_difference=lambda df_: (df_.last_weight.astype(float) - df_.first_weight.astype(float)))\n",
    "    .weight_difference.median()\n",
    ")"
   ]
  },
  {
   "cell_type": "markdown",
   "id": "a8e50f2b",
   "metadata": {},
   "source": [
    "## 0.3. Useful functions"
   ]
  },
  {
   "cell_type": "code",
   "execution_count": 26,
   "id": "d05c5515",
   "metadata": {},
   "outputs": [],
   "source": [
    "from scipy.stats import norm"
   ]
  },
  {
   "cell_type": "code",
   "execution_count": 27,
   "id": "0f778d15",
   "metadata": {},
   "outputs": [],
   "source": [
    "# for calculating Positive Predictive Values and confidence intervals\n",
    "def z_value(alpha):\n",
    "    return norm.ppf(1 - alpha/2)\n",
    "\n",
    "def calculate_ppv(tp, fp):\n",
    "    return tp / (tp + fp)\n",
    "\n",
    "def calculate_seppv(tp, fp):\n",
    "    ppv = calculate_ppv(tp, fp)\n",
    "    se = np.sqrt(ppv * (1 - ppv) / (tp + fp))\n",
    "    return se\n",
    "\n",
    "def calculate_cippv(tp, fp, alpha):\n",
    "    ppv = calculate_ppv(tp, fp)\n",
    "    se = calculate_seppv(tp, fp)\n",
    "    ci_l = ppv - z_value(alpha)*se\n",
    "    ci_r = ppv + z_value(alpha)*se\n",
    "    return ci_l, ci_r"
   ]
  },
  {
   "cell_type": "code",
   "execution_count": 28,
   "id": "373eef4d",
   "metadata": {},
   "outputs": [],
   "source": [
    "def calculate_ppv_with_ci(tp, fp):\n",
    "    p = tp / (tp + fp)\n",
    "    b = binomtest(tp, tp+fp, p)\n",
    "    ci_l, ci_r = b.proportion_ci()\n",
    "    return p, ci_l, ci_r"
   ]
  },
  {
   "cell_type": "code",
   "execution_count": 29,
   "id": "63cf1b5a",
   "metadata": {},
   "outputs": [],
   "source": [
    "def best_pathology_result(results):\n",
    "    \"\"\"\n",
    "    Given a set of results, return the one that is either \n",
    "    within one month after the index date or if this does \n",
    "    not exist then the one that is the closest in the previous \n",
    "    3 months\n",
    "    \n",
    "    Args\n",
    "    results (pd.DataFrame): dataframe with at least the following fields\n",
    "        one_month_after\n",
    "        one_months_before\n",
    "        dte\n",
    "        result\n",
    "        \n",
    "    Return\n",
    "    best_result (pd.DataFrame): most representative pathology results\n",
    "    \"\"\"\n",
    "    results_after = results[results['one_month_after'] == True]\n",
    "    results_before = results[results['three_months_before'] == True]\n",
    "    \n",
    "    if results_after.shape[0] > 0:\n",
    "        best_result = results_after.sort_values(by='index_date_dt').iloc[0:1]\n",
    "    elif results_before.shape[0] > 0:\n",
    "        best_result = results_before.sort_values(by='index_date_dt').iloc[0:1]\n",
    "    else:\n",
    "        best_result = results_after\n",
    "        \n",
    "    return best_result\n",
    "\n",
    "\n",
    "def results_in_pathology_group(results, pathology_group):\n",
    "    \"\"\"\n",
    "    Given a set of results and list of pathology test names\n",
    "    determine if the results contains them all\n",
    "    \n",
    "    Args\n",
    "    results (pd.DataFrame): dataframe with pathology data\n",
    "    pathology_group (list of str): pathology test names\n",
    "    \n",
    "    Returns\n",
    "    result_in_group (bool): True if results contains all the \n",
    "        result names\n",
    "    \"\"\"\n",
    "    results_overlap = set(results['event_subtype'].values).intersection(pathology_group)\n",
    "    results_in_group = (len(results_overlap) == len(pathology_group))\n",
    "    return results_in_group\n",
    "\n",
    "\n",
    "def calculate_cohort_counts(patients, groups=['age_group', 'gender_code'], ascending_order=[True, False]):\n",
    "    \"\"\"\n",
    "    Calculate the numbers of cancer and non-cancer patients\n",
    "    \n",
    "    Args\n",
    "    patients (pd.DataFrame): has columns usi, num_cancer_patients along with columns in groups\n",
    "    groups (list of str): the columns that define the grouping of the data\n",
    "    ascending_order (list of bool): ordering of the values for each of the columns in groups\n",
    "    \n",
    "    Returns\n",
    "    ppv_results (pd.DataFrame): patients dataframe with ppvs calculated\n",
    "    \"\"\"\n",
    "    cohort_counts = patients.groupby(groups)['cancer'].agg(num_patients=('size'), num_cancer=('sum'))\n",
    "    \n",
    "    # order the groups\n",
    "    cohort_counts = cohort_counts.sort_values(by=groups, ascending=ascending_order)\n",
    "    cohort_counts['num_no_cancer'] = cohort_counts['num_patients'] - cohort_counts['num_cancer']\n",
    "    \n",
    "    return cohort_counts"
   ]
  },
  {
   "cell_type": "code",
   "execution_count": 30,
   "id": "bcce447d",
   "metadata": {},
   "outputs": [],
   "source": [
    "def results_in_pathology_group(results, pathology_group):\n",
    "    \"\"\"\n",
    "    Given a set of results and list of pathology test names\n",
    "    determine if the results contains them all\n",
    "    \n",
    "    Args\n",
    "    results (pd.DataFrame): dataframe with pathology data\n",
    "    pathology_group (list of str): pathology test names\n",
    "    \n",
    "    Returns\n",
    "    result_in_group (bool): True if results contains all the \n",
    "        result names\n",
    "    \"\"\"\n",
    "    results_overlap = set(results['event_subtype'].values).intersection(pathology_group)\n",
    "    results_in_group = (len(results_overlap) == len(pathology_group))\n",
    "    return results_in_group"
   ]
  },
  {
   "cell_type": "markdown",
   "id": "4db71864",
   "metadata": {},
   "source": [
    "## Cohort statistics\n",
    "\n",
    "Create the 'Table 1' stats:\n",
    "- Age group breakdown\n",
    "- Sex breakdown\n",
    "- Smoking status breakdown\n",
    "- BMI breakdown\n",
    "- Cancer within 6 months breakdown"
   ]
  },
  {
   "cell_type": "code",
   "execution_count": 31,
   "id": "e7113573",
   "metadata": {},
   "outputs": [],
   "source": [
    "# calculate the bmi for each of the patients\n",
    "def calculate_bmi(df, index_date):\n",
    "    \"\"\"\n",
    "    Given a patient, calculate the BMI value either using the explicit BMI\n",
    "    or from HEIGHT and WEIGHT values were these are available. If information\n",
    "    not available then return Null.\n",
    "    \n",
    "    Use the values closest to the index date\n",
    "    \"\"\"\n",
    "    # time_difference: number of days to index date\n",
    "    # so that we can pick the closest\n",
    "    df = (\n",
    "        df.copy()\n",
    "        .assign(time_difference=(df.dte - index_date).dt.days.abs())\n",
    "    )\n",
    "    \n",
    "    event_subtypes = df.event_subtype.values\n",
    "    \n",
    "    if 'BMI' in event_subtypes:\n",
    "        return df.query('event_subtype == \"BMI\"').sort_values(by='time_difference').value.values[0]\n",
    "    else:\n",
    "        if ('HEIGHT' in event_subtypes) and ('WEIGHT' in event_subtypes):\n",
    "            height = df.query('event_subtype == \"HEIGHT\"').sort_values(by='time_difference').value.values[0]\n",
    "            weight = df.query('event_subtype == \"WEIGHT\"').sort_values(by='time_difference').value.values[0]\n",
    "            return float(weight) / ((float(height) / 100)**2)\n",
    "        else:\n",
    "            return np.nan\n"
   ]
  },
  {
   "cell_type": "code",
   "execution_count": 32,
   "id": "ef127082",
   "metadata": {},
   "outputs": [],
   "source": [
    "usi_to_index_date = dict(cohort.query('index_case == True')[['usi', 'dte']].drop_duplicates().values)"
   ]
  },
  {
   "cell_type": "code",
   "execution_count": 33,
   "id": "770e6c54",
   "metadata": {},
   "outputs": [],
   "source": [
    "cohort_obs = cohort.query('(six_months_before == True) or (three_months_after == True)')"
   ]
  },
  {
   "cell_type": "code",
   "execution_count": 34,
   "id": "b5859794",
   "metadata": {},
   "outputs": [],
   "source": [
    "usi_to_bmi_at_index = dict()\n",
    "\n",
    "# for each of the patients find the bmi\n",
    "for usi in cohort.usi.unique():\n",
    "    df_temp = cohort_obs.query(f'usi == \"{usi}\"')\n",
    "    index_date = usi_to_index_date[usi]\n",
    "    bmi = calculate_bmi(df_temp, index_date)\n",
    "    usi_to_bmi_at_index[usi] = float(bmi)"
   ]
  },
  {
   "cell_type": "code",
   "execution_count": 35,
   "id": "c399d86b",
   "metadata": {},
   "outputs": [],
   "source": [
    "patient = (\n",
    "    patient\n",
    "    .assign(bmi_at_index_date=patient.usi.map(usi_to_bmi_at_index))\n",
    ")"
   ]
  },
  {
   "cell_type": "markdown",
   "id": "c653aa71",
   "metadata": {},
   "source": [
    "### Table 1 stats"
   ]
  },
  {
   "cell_type": "code",
   "execution_count": 36,
   "id": "dc5ede0f",
   "metadata": {},
   "outputs": [],
   "source": [
    "# create table as input for PPV calculations:\n",
    "# id, age, sex, smoking status, exposure, outcome (only have exposure=1 rows)\n",
    "usi_to_outcome = dict(cohort[['usi', 'cancer_within_6months_index_date']].drop_duplicates().values)"
   ]
  },
  {
   "cell_type": "code",
   "execution_count": 13,
   "id": "50e9f3ec",
   "metadata": {},
   "outputs": [],
   "source": [
    "cohort.query('uwl_flag == True').usi.unique().shape"
   ]
  },
  {
   "cell_type": "code",
   "execution_count": 14,
   "id": "35da1441",
   "metadata": {},
   "outputs": [],
   "source": [
    "cohort[['usi', 'cancer_within_6months_index_date']].drop_duplicates().shape"
   ]
  },
  {
   "cell_type": "code",
   "execution_count": 15,
   "id": "fd6f736c",
   "metadata": {},
   "outputs": [],
   "source": [
    "cohort[['usi', 'cancer_within_6months_index_date']].drop_duplicates().cancer_within_6months_index_date.sum()"
   ]
  },
  {
   "cell_type": "code",
   "execution_count": 16,
   "id": "ba9a6ce7",
   "metadata": {},
   "outputs": [],
   "source": [
    "55 / 3903 * 100"
   ]
  },
  {
   "cell_type": "code",
   "execution_count": 17,
   "id": "466beba4",
   "metadata": {},
   "outputs": [],
   "source": [
    "patient.query('usi in @usi_uwl').usi.unique().shape"
   ]
  },
  {
   "cell_type": "code",
   "execution_count": 42,
   "id": "b8e25701",
   "metadata": {},
   "outputs": [],
   "source": [
    "# only those patients in the UWL cohort\n",
    "patient_uwl = (\n",
    "    patient.query('usi in @usi_uwl')\n",
    "    .loc[:, ['usi', 'age_at_index_date', 'age_group_at_index_date', \n",
    "             'gender_code', 'smoking_status', 'bmi_at_index_date']]\n",
    "    .assign(cancer_within_6_months=lambda df_: df_.usi.map(usi_to_outcome))\n",
    ")"
   ]
  },
  {
   "cell_type": "code",
   "execution_count": 43,
   "id": "93fe21fd",
   "metadata": {},
   "outputs": [],
   "source": [
    "# for those patients with multiple records, order the smoking status as:\n",
    "smoking_status_categories = ['Smoker', 'Ex smoker', 'Non smoker', 'Not Recorded']"
   ]
  },
  {
   "cell_type": "code",
   "execution_count": 44,
   "id": "6662c060",
   "metadata": {},
   "outputs": [],
   "source": [
    "bmi_range_values = [0, 18.5, 25, 30, 120]\n",
    "bmi_range_labels = ['underweight', 'normal', 'overweight', 'obese']"
   ]
  },
  {
   "cell_type": "code",
   "execution_count": 45,
   "id": "e7d7cdb2",
   "metadata": {},
   "outputs": [],
   "source": [
    "patient_uwl_deduped = (\n",
    "    patient_uwl\n",
    "    .assign(smoking_status=pd.Categorical(patient_uwl.smoking_status.fillna('Not Recorded'), \n",
    "                                          categories=smoking_status_categories[::-1], ordered=True))\n",
    "    .sort_values(by=['usi', 'smoking_status'], \n",
    "                 ascending=[True, False])\n",
    "    .groupby('usi')\n",
    "    .first()\n",
    "    .query('age_at_index_date >= 18')\n",
    "    .assign(bmi_range=lambda df_: \n",
    "            pd.cut(df_.bmi_at_index_date, bins=bmi_range_values, labels=bmi_range_labels).astype(str).replace('nan', 'missing'))\n",
    "    .reset_index()\n",
    ")"
   ]
  },
  {
   "cell_type": "code",
   "execution_count": 18,
   "id": "5c765b15",
   "metadata": {},
   "outputs": [],
   "source": [
    "patient_uwl_usi = patient_uwl_deduped.usi.unique()\n",
    "patient_uwl_usi.shape"
   ]
  },
  {
   "cell_type": "code",
   "execution_count": 19,
   "id": "34ed8b65",
   "metadata": {},
   "outputs": [],
   "source": [
    "cohort_usi = cohort.usi.unique()\n",
    "cohort_usi.shape"
   ]
  },
  {
   "cell_type": "code",
   "execution_count": 48,
   "id": "67f80b5b",
   "metadata": {},
   "outputs": [],
   "source": [
    "cohort_not_patient = [usi for usi in cohort_usi if usi not in patient_uwl_usi]"
   ]
  },
  {
   "cell_type": "code",
   "execution_count": 20,
   "id": "0f7a6c5d",
   "metadata": {},
   "outputs": [],
   "source": [
    "len(cohort_not_patient)"
   ]
  },
  {
   "cell_type": "code",
   "execution_count": 50,
   "id": "26fddb99",
   "metadata": {},
   "outputs": [],
   "source": [
    "#cohort.query('usi in @cohort_not_patient').uwl_label.value_counts()"
   ]
  },
  {
   "cell_type": "code",
   "execution_count": 21,
   "id": "214619b3",
   "metadata": {},
   "outputs": [],
   "source": [
    "cohort.usi.unique().shape"
   ]
  },
  {
   "cell_type": "code",
   "execution_count": 22,
   "id": "0ea9c46b",
   "metadata": {},
   "outputs": [],
   "source": [
    "patient_uwl.usi.unique().shape"
   ]
  },
  {
   "cell_type": "code",
   "execution_count": 23,
   "id": "a8fcfee2",
   "metadata": {},
   "outputs": [],
   "source": [
    "cohort.query('uwl_flag == True').usi.unique().shape"
   ]
  },
  {
   "cell_type": "code",
   "execution_count": 54,
   "id": "eb5f94a7",
   "metadata": {},
   "outputs": [],
   "source": [
    "#cohort.query('uwl_label == True').usi.unique().shape"
   ]
  },
  {
   "cell_type": "code",
   "execution_count": 55,
   "id": "4792ad20",
   "metadata": {},
   "outputs": [],
   "source": [
    "#cohort.query('uwl_label == 3').usi.unique().shape"
   ]
  },
  {
   "cell_type": "code",
   "execution_count": 24,
   "id": "4fa7ffc7",
   "metadata": {},
   "outputs": [],
   "source": [
    "num_uwl_patients = patient_uwl_deduped.shape[0]\n",
    "num_uwl_patients"
   ]
  },
  {
   "cell_type": "code",
   "execution_count": 25,
   "id": "c7849d1a",
   "metadata": {},
   "outputs": [],
   "source": [
    "patient_uwl_deduped.groupby('age_group_at_index_date').size()"
   ]
  },
  {
   "cell_type": "code",
   "execution_count": 58,
   "id": "8694d309",
   "metadata": {},
   "outputs": [],
   "source": [
    "ages = patient_uwl_deduped.age_at_index_date"
   ]
  },
  {
   "cell_type": "code",
   "execution_count": 26,
   "id": "aca9ff85",
   "metadata": {},
   "outputs": [],
   "source": [
    "patient_uwl_deduped.groupby('age_group_at_index_date').size() / num_uwl_patients * 100"
   ]
  },
  {
   "cell_type": "code",
   "execution_count": 27,
   "id": "98d39fa7",
   "metadata": {},
   "outputs": [],
   "source": [
    "patient_uwl_deduped.groupby('gender_code').size() / num_uwl_patients * 100"
   ]
  },
  {
   "cell_type": "code",
   "execution_count": 28,
   "id": "1d3a9e27",
   "metadata": {},
   "outputs": [],
   "source": [
    "patient_uwl_deduped.groupby('gender_code').size()"
   ]
  },
  {
   "cell_type": "code",
   "execution_count": 29,
   "id": "f62a878f",
   "metadata": {},
   "outputs": [],
   "source": [
    "#patient_uwl_deduped.groupby('smoking_status').size()"
   ]
  },
  {
   "cell_type": "code",
   "execution_count": 30,
   "id": "01b8d211",
   "metadata": {},
   "outputs": [],
   "source": [
    "#patient_uwl_deduped.groupby('smoking_status').size() / num_uwl_patients * 100"
   ]
  },
  {
   "cell_type": "code",
   "execution_count": 31,
   "id": "12a541cc",
   "metadata": {},
   "outputs": [],
   "source": [
    "#patient_uwl_deduped.groupby('smoking_status').size() / num_uwl_patients * 100"
   ]
  },
  {
   "cell_type": "code",
   "execution_count": 32,
   "id": "68a96c39",
   "metadata": {},
   "outputs": [],
   "source": [
    "#patient_uwl_deduped.groupby('smoking_status').size() #/ num_uwl_patients * 100"
   ]
  },
  {
   "cell_type": "code",
   "execution_count": 33,
   "id": "4253b024",
   "metadata": {},
   "outputs": [],
   "source": [
    "#patient_uwl_deduped.groupby('bmi_range').size() / num_uwl_patients * 100"
   ]
  },
  {
   "cell_type": "code",
   "execution_count": 34,
   "id": "33f67e65",
   "metadata": {},
   "outputs": [],
   "source": [
    "#patient_uwl_deduped.groupby('bmi_range').size()# / num_uwl_patients * 100"
   ]
  },
  {
   "cell_type": "code",
   "execution_count": 35,
   "id": "2f255b3c",
   "metadata": {},
   "outputs": [],
   "source": [
    "num_uwl_patients"
   ]
  },
  {
   "cell_type": "code",
   "execution_count": 36,
   "id": "8392f575",
   "metadata": {},
   "outputs": [],
   "source": [
    "patient_uwl_deduped.groupby('cancer_within_6_months').size() / num_uwl_patients * 100"
   ]
  },
  {
   "cell_type": "code",
   "execution_count": 37,
   "id": "732a8153",
   "metadata": {},
   "outputs": [],
   "source": [
    "patient_uwl_deduped.groupby('cancer_within_6_months').size()"
   ]
  },
  {
   "cell_type": "code",
   "execution_count": 71,
   "id": "bc4f8474",
   "metadata": {},
   "outputs": [],
   "source": [
    "cancer_uwl = (\n",
    "    cancer\n",
    "    .assign(usi=cancer.usi.astype(str).str.pad(width=10, side='left', fillchar='0'))\n",
    "    .assign(incidence_dte=pd.to_datetime(cancer.incidence_dte))\n",
    "    .query('usi in @usi_uwl')\n",
    "    .assign(uwl_index_date=lambda df_: df_.usi.map(usi_to_index_date))\n",
    "    .assign(days_from_index=lambda df_: (df_.incidence_dte-df_.uwl_index_date).dt.days)\n",
    "    .assign(six_months_from_index=lambda df_: (df_.days_from_index < 186) & (df_.days_from_index > 0))\n",
    ")"
   ]
  },
  {
   "cell_type": "code",
   "execution_count": 72,
   "id": "c5dbae5d",
   "metadata": {},
   "outputs": [],
   "source": [
    "usi_uwl_cancer1 = patient_uwl_deduped.query('cancer_within_6_months == True').reset_index().usi"
   ]
  },
  {
   "cell_type": "code",
   "execution_count": 38,
   "id": "aa86bc9e",
   "metadata": {},
   "outputs": [],
   "source": [
    "usi_uwl_cancer1.values.shape"
   ]
  },
  {
   "cell_type": "code",
   "execution_count": 39,
   "id": "7bfe2f4b",
   "metadata": {},
   "outputs": [],
   "source": [
    "usi_uwl_cancer1.values.shape"
   ]
  },
  {
   "cell_type": "markdown",
   "id": "4625228f",
   "metadata": {},
   "source": [
    "## Positive predictive values"
   ]
  },
  {
   "cell_type": "code",
   "execution_count": 75,
   "id": "f6abf57e",
   "metadata": {},
   "outputs": [],
   "source": [
    "def diagnostic_stats(patients, \n",
    "                     stratify_by=['age', 'sex'], \n",
    "                     cumulative_count_by=['age'], \n",
    "                     outcome=['cancer']):\n",
    "    \"\"\"\n",
    "    Calculate diagnostic stats for a patient table: true positives, false positives, PPV\n",
    "    \"\"\"\n",
    "    cumulative_stratify_by = list(set(stratify_by) - set(cumulative_count_by))\n",
    "    sort_order = [True for _ in range(len(cumulative_stratify_by))]\n",
    "    \n",
    "    df_results = (\n",
    "        patients\n",
    "        .groupby(stratify_by+outcome, as_index=False)\n",
    "        .size()\n",
    "        .pivot(index=stratify_by, columns=outcome, values='size')\n",
    "        .reset_index()\n",
    "        .rename(columns={True: 'TP', False: 'FP'})\n",
    "        .assign(PPV=lambda df_: df_.TP / (df_.TP + df_.FP) * 100)\n",
    "        .sort_values(by=stratify_by[::-1])\n",
    "        .assign(FP_cumulative=lambda df_: df_.sort_values(by=stratify_by[::-1], \n",
    "                                                          ascending=sort_order + [False])\n",
    "                .groupby(cumulative_stratify_by)['FP'].cumsum())\n",
    "        .assign(TP_cumulative=lambda df_: df_.sort_values(by=stratify_by[::-1], \n",
    "                                                          ascending=sort_order + [False])\n",
    "                .groupby(cumulative_stratify_by)['TP'].cumsum())\n",
    "        .assign(PPV_cumulative=lambda df_: df_.TP_cumulative / (df_.TP_cumulative + df_.FP_cumulative) * 100)\n",
    "    )\n",
    "    \n",
    "    return df_results"
   ]
  },
  {
   "cell_type": "markdown",
   "id": "0e4d678e",
   "metadata": {},
   "source": [
    "### Overall"
   ]
  },
  {
   "cell_type": "code",
   "execution_count": null,
   "id": "81fb5a6f",
   "metadata": {},
   "outputs": [],
   "source": [
    "df_results = (\n",
    "    patient_uwl_deduped\n",
    "    .groupby(['age_group_at_index_date', 'cancer_within_6_months'], as_index=False)\n",
    "    .size()\n",
    "    .pivot(index='age_group_at_index_date', columns='cancer_within_6_months', values='size')\n",
    "    .rename(columns={True: 'TP', False: 'FP'})\n",
    "    .reset_index()\n",
    "    .iloc[1:, :]\n",
    "    .assign(FP_cumulative=lambda df_: df_.sort_values(by='age_group_at_index_date', ascending=False).FP.cumsum()[::-1].values)\n",
    "    .assign(TP_cumulative=lambda df_: df_.sort_values(by='age_group_at_index_date', ascending=False).TP.cumsum()[::-1].values)\n",
    "    .assign(PPV_cumulative=lambda df_: df_.TP_cumulative / (df_.TP_cumulative + df_.FP_cumulative) * 100)\n",
    ").reset_index().iloc[:, 1:]\n",
    "\n",
    "df_results_ppv = (\n",
    "    pd.DataFrame(df_results.apply(lambda row: calculate_ppv_with_ci(row['TP_cumulative'], row['FP_cumulative']), axis=1)\n",
    "                 .tolist())\n",
    "    .rename(columns={0: 'ppv', 1: 'ppv_ci_l', 2: 'ppv_ci_r'})*100\n",
    ")\n",
    "\n",
    "df_results = pd.concat([df_results, df_results_ppv], axis=1).reset_index()\n",
    "df_results"
   ]
  },
  {
   "cell_type": "markdown",
   "id": "aede38ca",
   "metadata": {},
   "source": [
    "### By age and gender"
   ]
  },
  {
   "cell_type": "code",
   "execution_count": 77,
   "id": "1e4ba298",
   "metadata": {},
   "outputs": [],
   "source": [
    "df_results = (\n",
    "    diagnostic_stats(patient_uwl_deduped, \n",
    "                     stratify_by=['age_group_at_index_date', 'gender_code'], \n",
    "               #      stratify_by=['age_group_at_index_date'],\n",
    "                     cumulative_count_by=['age_group_at_index_date'],\n",
    "                     outcome=['cancer_within_6_months'])\n",
    "    .reset_index()\n",
    "    .iloc[:, 1:]\n",
    ")\n",
    "\n",
    "df_results_ppv = (\n",
    "    pd.DataFrame(df_results.apply(lambda row: calculate_ppv_with_ci(row['TP_cumulative'], \n",
    "                                                                                 row['FP_cumulative']), axis=1)\n",
    "                 .tolist())\n",
    "    .rename(columns={0: 'ppv', 1: 'ppv_ci_l', 2: 'ppv_ci_r'})*100\n",
    ")\n",
    "\n",
    "\n",
    "df_results = pd.concat([df_results, df_results_ppv], axis=1).reset_index().sort_values(by='gender_code')"
   ]
  },
  {
   "cell_type": "code",
   "execution_count": 78,
   "id": "6c70dae4",
   "metadata": {},
   "outputs": [],
   "source": [
    "df_age_sex = df_results"
   ]
  },
  {
   "cell_type": "code",
   "execution_count": null,
   "id": "31af0bf6",
   "metadata": {},
   "outputs": [],
   "source": [
    "df_age_sex"
   ]
  },
  {
   "cell_type": "markdown",
   "id": "b7d9b022",
   "metadata": {},
   "source": [
    "## 1. Positive predictive values\n",
    "\n",
    "- Cancer within next 6 months from index date\n",
    "- Patient experiences UWL event, probability of cancer within next 6 months\n",
    "\n",
    "- By age, sex\n",
    "- By pathology result, age, sex"
   ]
  },
  {
   "cell_type": "code",
   "execution_count": null,
   "id": "61fa06b6",
   "metadata": {},
   "outputs": [],
   "source": [
    "df_age_sex"
   ]
  },
  {
   "cell_type": "code",
   "execution_count": null,
   "id": "16ce9b77",
   "metadata": {},
   "outputs": [],
   "source": [
    "# change the labels of the groups\n",
    "ticklabels = df_results['gender_code'].astype(str) + \\\n",
    "', >=' + \\\n",
    "df_results['age_group_at_index_date'].str.replace('+', '').str.split('-').apply(lambda l: l[0])\n",
    "\n",
    "# plot these out\n",
    "plt.figure(figsize=(12, 8))\n",
    "plt.hlines(y=df_results.index, \n",
    "           xmin=df_results['ppv_ci_l'], \n",
    "           xmax=df_results['ppv_ci_r'], alpha=0.25)\n",
    "\n",
    "sns.scatterplot(data=df_results, x='ppv_ci_l', y='index', color='b', alpha=0.25)\n",
    "sns.scatterplot(data=df_results, x='ppv_ci_r', y='index', color='b', alpha=0.25)\n",
    "sns.scatterplot(data=df_results, x='ppv', y='index', color='k')\n",
    "\n",
    "plt.yticks(ticks=df_results['index'].values, labels=ticklabels)\n",
    "plt.xlabel('Positive Predictive Values')\n",
    "plt.ylabel('')\n",
    "plt.xlim(0, 10)\n",
    "\n",
    "plt.title('Positive predictive values of UWL patients by age group and gender')\n",
    "plt.show()"
   ]
  },
  {
   "cell_type": "code",
   "execution_count": null,
   "id": "7f3a4332",
   "metadata": {},
   "outputs": [],
   "source": [
    "# change the labels of the groups\n",
    "ticklabels = df_results['gender_code'].astype(str) + \\\n",
    "', >=' + \\\n",
    "df_results['age_group_at_index_date'].str.replace('+', '').str.split('-').apply(lambda l: l[0])\n",
    "\n",
    "# plot these out\n",
    "plt.figure(figsize=(12, 8))\n",
    "plt.hlines(y=df_results.index, \n",
    "           xmin=df_results['ppv_ci_l'], \n",
    "           xmax=df_results['ppv_ci_r'], alpha=0.25)\n",
    "\n",
    "sns.scatterplot(data=df_results, x='ppv_ci_l', y='index', color='b', alpha=0.25)\n",
    "sns.scatterplot(data=df_results, x='ppv_ci_r', y='index', color='b', alpha=0.25)\n",
    "sns.scatterplot(data=df_results, x='ppv', y='index', color='k')\n",
    "\n",
    "plt.yticks(ticks=df_results['index'].values, labels=ticklabels)\n",
    "plt.xlabel('Positive Predictive Values')\n",
    "plt.ylabel('')\n",
    "plt.xlim(0, 10)\n",
    "\n",
    "plt.title('Positive predictive values of UWL patients by age group and gender')\n",
    "plt.show()"
   ]
  },
  {
   "cell_type": "markdown",
   "id": "808251eb",
   "metadata": {},
   "source": [
    "## 1.1 PPVs with smoking status"
   ]
  },
  {
   "cell_type": "code",
   "execution_count": null,
   "id": "c20b23f3",
   "metadata": {},
   "outputs": [],
   "source": [
    "smoker = ['Smoker', 'Ex smoker']\n",
    "\n",
    "patient_uwl_deduped_smoking = (\n",
    "    patient_uwl_deduped\n",
    "    .query('smoking_status != \"Not Recorded\"')\n",
    "    .assign(smoker=lambda df_: df_.smoking_status.isin(smoker))\n",
    ")\n",
    "patient_uwl_deduped_smoking"
   ]
  },
  {
   "cell_type": "code",
   "execution_count": null,
   "id": "9a779aab",
   "metadata": {},
   "outputs": [],
   "source": [
    "patient_uwl_deduped_smoking.usi.unique().shape[0]"
   ]
  },
  {
   "cell_type": "markdown",
   "id": "8c864550",
   "metadata": {},
   "source": [
    "### By age"
   ]
  },
  {
   "cell_type": "code",
   "execution_count": 85,
   "id": "dbcc43c5",
   "metadata": {},
   "outputs": [],
   "source": [
    "df_results = (\n",
    "    diagnostic_stats(patient_uwl_deduped_smoking, \n",
    "                     stratify_by=['age_group_at_index_date', 'smoker'], \n",
    "                     cumulative_count_by=['age_group_at_index_date'],\n",
    "                     outcome=['cancer_within_6_months'])\n",
    "    .reset_index()\n",
    "    .iloc[:, 1:]\n",
    ")\n",
    "\n",
    "df_results_ppv = (\n",
    "    pd.DataFrame(df_results.apply(lambda row: calculate_ppv_with_ci(row['TP_cumulative'], \n",
    "                                                                                 row['FP_cumulative']), axis=1)\n",
    "                 .tolist())\n",
    "    .rename(columns={0: 'ppv', 1: 'ppv_ci_l', 2: 'ppv_ci_r'})*100\n",
    ")\n",
    "\n",
    "\n",
    "df_results = (\n",
    "    pd.concat([df_results, df_results_ppv], axis=1)\n",
    "    .reset_index()\n",
    "    .sort_values(by=['smoker', 'age_group_at_index_date'])\n",
    ")"
   ]
  },
  {
   "cell_type": "code",
   "execution_count": null,
   "id": "3f6a3a9c",
   "metadata": {},
   "outputs": [],
   "source": [
    "df_results"
   ]
  },
  {
   "cell_type": "code",
   "execution_count": null,
   "id": "12d5cb51",
   "metadata": {},
   "outputs": [],
   "source": [
    "df_results = (\n",
    "    patient_uwl_deduped_smoking\n",
    "    .groupby(['age_group_at_index_date', 'cancer_within_6_months'], as_index=False)\n",
    "    .size()\n",
    "    .pivot(index='age_group_at_index_date', columns='cancer_within_6_months', values='size')\n",
    "    .rename(columns={True: 'TP', False: 'FP'})\n",
    "    .reset_index()\n",
    "    .iloc[1:, :]\n",
    "    .assign(FP_cumulative=lambda df_: df_.sort_values(by='age_group_at_index_date', ascending=False).FP.cumsum()[::-1].values)\n",
    "    .assign(TP_cumulative=lambda df_: df_.sort_values(by='age_group_at_index_date', ascending=False).TP.cumsum()[::-1].values)\n",
    "    .assign(PPV_cumulative=lambda df_: df_.TP_cumulative / (df_.TP_cumulative + df_.FP_cumulative) * 100)\n",
    ").reset_index().iloc[:, 1:]\n",
    "\n",
    "df_results_ppv = (\n",
    "    pd.DataFrame(df_results.apply(lambda row: calculate_ppv_with_ci(row['TP_cumulative'], \n",
    "                                                                                 row['FP_cumulative']), axis=1)\n",
    "                 .tolist())\n",
    "    .rename(columns={0: 'ppv', 1: 'ppv_ci_l', 2: 'ppv_ci_r'})*100\n",
    ")\n",
    "\n",
    "df_results = pd.concat([df_results, df_results_ppv], axis=1).reset_index()\n",
    "df_results"
   ]
  },
  {
   "cell_type": "markdown",
   "id": "9dc23137",
   "metadata": {},
   "source": [
    "### By age and gender"
   ]
  },
  {
   "cell_type": "code",
   "execution_count": 88,
   "id": "caf73d3e",
   "metadata": {},
   "outputs": [],
   "source": [
    "df_results = (\n",
    "    diagnostic_stats(patient_uwl_deduped_smoking, \n",
    "                     stratify_by=['age_group_at_index_date', 'gender_code', 'smoker'], \n",
    "                     cumulative_count_by=['age_group_at_index_date'],\n",
    "                     outcome=['cancer_within_6_months'])\n",
    "    .reset_index()\n",
    "    .iloc[:, 1:]\n",
    ")\n",
    "\n",
    "df_results_ppv = (\n",
    "    pd.DataFrame(df_results.apply(lambda row: calculate_ppv_with_ci(row['TP_cumulative'], \n",
    "                                                                                 row['FP_cumulative']), axis=1)\n",
    "                 .tolist())\n",
    "    .rename(columns={0: 'ppv', 1: 'ppv_ci_l', 2: 'ppv_ci_r'})*100\n",
    ")\n",
    "\n",
    "\n",
    "df_results = (\n",
    "    pd.concat([df_results, df_results_ppv], axis=1)\n",
    "    .reset_index()\n",
    "    .sort_values(by=['smoker', 'gender_code', 'age_group_at_index_date'])\n",
    ")"
   ]
  },
  {
   "cell_type": "code",
   "execution_count": null,
   "id": "cca4d912",
   "metadata": {},
   "outputs": [],
   "source": [
    "df_smokers = df_results.query('smoker==True')\n",
    "df_smokers.reset_index()"
   ]
  },
  {
   "cell_type": "code",
   "execution_count": null,
   "id": "92e1f7f8",
   "metadata": {},
   "outputs": [],
   "source": [
    "df_non_smokers = df_results.query('smoker==False')\n",
    "df_non_smokers.reset_index()"
   ]
  },
  {
   "cell_type": "code",
   "execution_count": 91,
   "id": "39c579f8",
   "metadata": {},
   "outputs": [],
   "source": [
    "df_age_sex = df_age_sex.assign(group='UWL')\n",
    "df_smokers = df_smokers.assign(group='UWL in smokers')\n",
    "df_non_smokers = df_non_smokers.assign(group='UWL in non-smokers')"
   ]
  },
  {
   "cell_type": "code",
   "execution_count": 92,
   "id": "cc056ce6",
   "metadata": {},
   "outputs": [],
   "source": [
    "age_groups = ['40 - 49', '50 - 59', '60 - 69', '70 - 79', '80+']"
   ]
  },
  {
   "cell_type": "code",
   "execution_count": 93,
   "id": "ef1c03ca",
   "metadata": {},
   "outputs": [],
   "source": [
    "df_smokers_vic = (\n",
    "    df_smokers\n",
    "    .query('age_group_at_index_date in @age_groups')\n",
    "    .reset_index()\n",
    "    .loc[:, ['age_group_at_index_date', 'gender_code', 'ppv', 'ppv_ci_l', 'ppv_ci_r', 'group']]\n",
    "    .assign(order=range(10))\n",
    ")\n",
    "\n",
    "df_non_smokers_vic = (\n",
    "    df_non_smokers\n",
    "    .query('age_group_at_index_date in @age_groups')\n",
    "    .reset_index()\n",
    "    .loc[:, ['age_group_at_index_date', 'gender_code', 'ppv', 'ppv_ci_l', 'ppv_ci_r', 'group']]\n",
    "    .assign(order=range(10))\n",
    ")\n",
    "\n",
    "df_age_sex_vic = (\n",
    "    df_age_sex\n",
    "    .query('age_group_at_index_date in @age_groups')\n",
    "    .reset_index()\n",
    "    .loc[:, ['age_group_at_index_date', 'gender_code', 'ppv', 'ppv_ci_l', 'ppv_ci_r', 'group']]\n",
    "    .assign(order=range(10))\n",
    ")"
   ]
  },
  {
   "cell_type": "code",
   "execution_count": 94,
   "id": "6fc04f84",
   "metadata": {},
   "outputs": [],
   "source": [
    "df_uwl_vic = pd.concat([df_age_sex_vic, df_smokers_vic, df_non_smokers_vic]).assign(country='AU')"
   ]
  },
  {
   "cell_type": "code",
   "execution_count": 95,
   "id": "9aa82b31",
   "metadata": {},
   "outputs": [],
   "source": [
    "df_age_sex_uk = (\n",
    "    pd.DataFrame(data={'age_group_at_index_date': ['40 - 50', '50 - 59', '60 - 69', '70 - 79', '80+']*2, \n",
    "                                   'gender_code': ['Female', 'Female', 'Female', 'Female', 'Female', \n",
    "                                                   'Male', 'Male', 'Male', 'Male', 'Male'], \n",
    "                                   'ppv': [1.26, 1.47, 1.71, 1.86, 1.83, 2.54, 2.98, 3.65, 4.35, 4.58], \n",
    "                                   'ppv_ci_l': [1.14, 1.32, 1.53, 1.65, 1.56, 2.34, 2.74, 3.34, 3.94, 3.98], \n",
    "                                   'ppv_ci_r': [1.40, 1.63, 1.90, 2.09, 2.15, 2.76, 3.24, 3.98, 4.78, 5.25]})\n",
    "    .assign(group='UWL', country='UK').reset_index()\n",
    ")\n",
    "\n",
    "df_smokers_uk = (\n",
    "    pd.DataFrame(data={'age_group_at_index_date': ['40 - 50', '50 - 59', '60 - 69', '70 - 79', '80+']*2, \n",
    "                                   'gender_code': ['Female', 'Female', 'Female', 'Female', 'Female', \n",
    "                                                   'Male', 'Male', 'Male', 'Male', 'Male'], \n",
    "                                   'ppv': [1.31, 1.59, 1.90, 2.10, 2.12, 2.64, 3.06, 3.70, 4.34, 4.60], \n",
    "                                   'ppv_ci_l': [1.04, 1.27, 1.50, 1.59, 1.42, 2.26, 2.62, 3.15, 3.62, 3.51], \n",
    "                                   'ppv_ci_r': [1.61, 1.97, 2.37, 2.70, 3.03, 3.06, 3.55, 4.31, 5.16, 5.91]})\n",
    "    .assign(group='UWL in smokers', country='UK').reset_index()\n",
    ")\n",
    "\n",
    "df_non_smokers_uk = (\n",
    "    pd.DataFrame(data={'age_group_at_index_date': ['40 - 50', '50 - 59', '60 - 69', '70 - 79', '80+']*2, \n",
    "                                   'gender_code': ['Female', 'Female', 'Female', 'Female', 'Female', \n",
    "                                                   'Male', 'Male', 'Male', 'Male', 'Male'], \n",
    "                                   'ppv': [0.73, 0.90, 1.02, 1.15, 1.16, 1.58, 1.97, 2.38, 2.78, 3.38], \n",
    "                                   'ppv_ci_l': [0.57, 0.70, 0.79, 0.89, 0.87, 1.24, 1.56, 1.88, 2.17, 2.59], \n",
    "                                   'ppv_ci_r': [0.92, 1.14, 1.29, 1.46, 1.51, 1.97, 2.46, 2.96, 3.50, 4.34]})\n",
    "    .assign(group='UWL in non-smokers', country='UK').reset_index()\n",
    ")"
   ]
  },
  {
   "cell_type": "code",
   "execution_count": 96,
   "id": "2b9ebf6f",
   "metadata": {},
   "outputs": [],
   "source": [
    "df_uwl_uk = pd.concat([df_age_sex_uk, df_smokers_uk, df_non_smokers_uk]).assign(order=lambda df_: df_.index+0.25).iloc[:, 1:]"
   ]
  },
  {
   "cell_type": "code",
   "execution_count": 97,
   "id": "72238b05",
   "metadata": {},
   "outputs": [],
   "source": [
    "df_uwl_uk_vic = pd.concat([df_uwl_uk, df_uwl_vic])"
   ]
  },
  {
   "cell_type": "code",
   "execution_count": null,
   "id": "5def9fcf",
   "metadata": {},
   "outputs": [],
   "source": [
    "df_uwl_uk_vic.head(3)"
   ]
  },
  {
   "cell_type": "code",
   "execution_count": 99,
   "id": "9b0906cc",
   "metadata": {},
   "outputs": [],
   "source": [
    "ticklabels = df_uwl_uk_vic['age_group_at_index_date'].astype(str).values + ' years, ' + df_uwl_uk_vic['gender_code'].astype(str).values\n"
   ]
  },
  {
   "cell_type": "code",
   "execution_count": null,
   "id": "9b01ebfc",
   "metadata": {},
   "outputs": [],
   "source": [
    "df_uwl_uk_vic.head(3)"
   ]
  },
  {
   "cell_type": "code",
   "execution_count": 101,
   "id": "4b8b3149",
   "metadata": {},
   "outputs": [],
   "source": [
    "yticklabels = df_uwl_uk_vic.head(10).gender_code + ', ' + df_uwl_uk_vic.head(10).age_group_at_index_date"
   ]
  },
  {
   "cell_type": "code",
   "execution_count": null,
   "id": "3cd644c1",
   "metadata": {},
   "outputs": [],
   "source": [
    "df_uwl_uk_vic.query('country == \"AU\"')"
   ]
  },
  {
   "cell_type": "code",
   "execution_count": null,
   "id": "553b2d6a",
   "metadata": {},
   "outputs": [],
   "source": [
    "sns.set_style('white')\n",
    "g = sns.FacetGrid(data=df_uwl_uk_vic, col='group', height=5, aspect=0.85)\n",
    "g.map(sns.scatterplot, 'ppv', 'order', 'country')\n",
    "\n",
    "for col_val, ax in g.axes_dict.items():\n",
    "    df_temp = df_uwl_uk_vic.query(f'group == \"{col_val}\"')\n",
    "    \n",
    "    ax.hlines(xmin=df_temp.query('country==\"UK\"').ppv_ci_l, \n",
    "              xmax=df_temp.query('country==\"UK\"').ppv_ci_r, \n",
    "              y=df_temp.query('country==\"UK\"').order)\n",
    "    \n",
    "    ax.hlines(xmin=df_temp.query('country==\"AU\"').ppv_ci_l, \n",
    "              xmax=df_temp.query('country==\"AU\"').ppv_ci_r, \n",
    "              y=df_temp.query('country==\"AU\"').order, color='r')\n",
    "    \n",
    "g.set_axis_labels('Positive Predictive Value', '')\n",
    "g.set_titles(col_template=\"{col_name}\")\n",
    "g.add_legend()\n",
    "g.set(yticks=np.arange(0,10) + 0.125)\n",
    "g.set_yticklabels(yticklabels)\n",
    "\n",
    "plt.show()"
   ]
  },
  {
   "cell_type": "markdown",
   "id": "be4a4e14",
   "metadata": {},
   "source": [
    "## 1.2. PPVs with abnormal test result values\n",
    "\n",
    "Test results that are considered abnormal by BN\n",
    "- albumin: low\n",
    "- platelets: raised (abnormal_high)\n",
    "- calcium: raised (high)\n",
    "- white cell: raised (high, abnormal_high)\n",
    "- crp: raised (elevated)\n",
    "- haemaglobin: low (low)\n",
    "- alp: raised (abnormal_high, high)\n",
    "- bilirubin: raised (high, abnormal_high)\n",
    "- esr: raised (high)\n",
    "- creatinine: raised (high)"
   ]
  },
  {
   "cell_type": "markdown",
   "id": "a138223a",
   "metadata": {},
   "source": [
    "### By age, gender and pathology result value\n",
    "\n",
    "Consider the following combinations of pathology test results (within period of 3 months before to 1 month after index date):\n",
    "- Hb + CRP + Plt + Alb\n",
    "- Hb + CRP + Plt\n",
    "- Alb + CRP\n",
    "- Hb + CRP\n",
    "- Plt\n",
    "- CRP\n",
    "- Alb\n",
    "- Hb\n",
    "\n",
    "And the following age groups:\n",
    "- 40 - 59 years\n",
    "- 60 - 79 years\n",
    "- 80+ years\n",
    "\n",
    "Calculate PPV for each subset of patients in UWL for which all data available (i.e., no imputation). Why is this reasonable?\n",
    "\n",
    "For each patient and pathology result:\n",
    "- If there is a result in the 1 month after the index date, use this\n",
    "- Otherwise use the one closest to the index date"
   ]
  },
  {
   "cell_type": "markdown",
   "id": "0fb7104a",
   "metadata": {},
   "source": [
    "## 1.3. Calculate PPVs for cancer based on UWL and abnormal path tests\n",
    "\n",
    "For each pathology test grouping and age group and sex:\n",
    "- calculate number of patients with cancer\n",
    "- total number of patients in cohort with cancer\n",
    "- ppv\n",
    "- confidence intervals of ppv"
   ]
  },
  {
   "cell_type": "code",
   "execution_count": 104,
   "id": "d49bc66d",
   "metadata": {},
   "outputs": [],
   "source": [
    "# define the different pathology groups\n",
    "path_group1 = ['HAEMOGLOBIN']\n",
    "path_group2 = ['ALBUMIN']\n",
    "path_group3 = ['CRP']\n",
    "path_group4 = ['PLATELETS']\n",
    "path_group5 = ['HAEMOGLOBIN', 'CRP']\n",
    "path_group6 = ['ALBUMIN', 'CRP']\n",
    "path_group7 = ['HAEMOGLOBIN', 'CRP', 'PLATELETS']\n",
    "path_group8 = ['HAEMOGLOBIN', 'CRP', 'PLATELETS', 'ALBUMIN']\n",
    "\n",
    "path_groups = [path_group1, \n",
    "               path_group2, \n",
    "               path_group3, \n",
    "               path_group4, \n",
    "               path_group5, \n",
    "               path_group6, \n",
    "               path_group7, \n",
    "               path_group8]\n",
    "\n",
    "path_group_names = ['+'.join(path_group).lower() for path_group in path_groups]"
   ]
  },
  {
   "cell_type": "code",
   "execution_count": null,
   "id": "b8a10be2",
   "metadata": {},
   "outputs": [],
   "source": [
    "cohort.query('usi in @patient_uwl_usi').query('event_type == \"pathology\"').event_subtype.value_counts()"
   ]
  },
  {
   "cell_type": "code",
   "execution_count": null,
   "id": "a7fa307f",
   "metadata": {},
   "outputs": [],
   "source": [
    "cohort.event_type.value_counts()"
   ]
  },
  {
   "cell_type": "code",
   "execution_count": null,
   "id": "530cbb57",
   "metadata": {},
   "outputs": [],
   "source": [
    "cohort.query('usi in @patient_uwl_usi').query('event_type == \"pathology\"').groupby(['event_subtype', 'value3']).size()"
   ]
  },
  {
   "cell_type": "code",
   "execution_count": 108,
   "id": "948bb546",
   "metadata": {},
   "outputs": [],
   "source": [
    "pathology = cohort.query('event_type == \"pathology\"')"
   ]
  },
  {
   "cell_type": "code",
   "execution_count": null,
   "id": "ba09ebdb",
   "metadata": {},
   "outputs": [],
   "source": [
    "pathology.shape"
   ]
  },
  {
   "cell_type": "code",
   "execution_count": null,
   "id": "ada93a39",
   "metadata": {},
   "outputs": [],
   "source": [
    "num_uwl_patients"
   ]
  },
  {
   "cell_type": "code",
   "execution_count": null,
   "id": "2e398864",
   "metadata": {},
   "outputs": [],
   "source": [
    "pathology.usi.unique().shape"
   ]
  },
  {
   "cell_type": "code",
   "execution_count": 112,
   "id": "bf22abfd",
   "metadata": {},
   "outputs": [],
   "source": [
    "# filter to those path results that are three months prior to one month after the index date\n",
    "pathology_within_window = pathology.query('usi in @patient_uwl_usi').query('(three_months_before == True) or (one_month_after == True)')\n",
    "pathology_within_window2 = pathology.query('(three_months_before == True) or (three_months_after == True)')"
   ]
  },
  {
   "cell_type": "code",
   "execution_count": null,
   "id": "e3c51ce6",
   "metadata": {},
   "outputs": [],
   "source": [
    "pathology_within_window[['usi', 'event_subtype']].drop_duplicates()['event_subtype'].value_counts()"
   ]
  },
  {
   "cell_type": "code",
   "execution_count": null,
   "id": "72b625e1",
   "metadata": {},
   "outputs": [],
   "source": []
  },
  {
   "cell_type": "code",
   "execution_count": null,
   "id": "b897a104",
   "metadata": {},
   "outputs": [],
   "source": [
    "pathology_within_window[['usi', 'event_subtype']].drop_duplicates()['event_subtype'].value_counts()"
   ]
  },
  {
   "cell_type": "code",
   "execution_count": null,
   "id": "75c357d8",
   "metadata": {},
   "outputs": [],
   "source": [
    "pathology_within_window[['usi', 'event_subtype']].drop_duplicates()['event_subtype'].value_counts() / num_uwl_patients * 100"
   ]
  },
  {
   "cell_type": "code",
   "execution_count": 117,
   "id": "f5654611",
   "metadata": {},
   "outputs": [],
   "source": [
    "#pathology_within_window2[['usi', 'event_subtype']].drop_duplicates()['event_subtype'].value_counts() / num_uwl_patients * 100"
   ]
  },
  {
   "cell_type": "code",
   "execution_count": null,
   "id": "e13a225d",
   "metadata": {},
   "outputs": [],
   "source": [
    "# how many patients have at least one of each type?\n",
    "pathology_within_window[['usi', 'event_subtype']].drop_duplicates()['event_subtype'].value_counts()"
   ]
  },
  {
   "cell_type": "code",
   "execution_count": null,
   "id": "905864f0",
   "metadata": {},
   "outputs": [],
   "source": []
  },
  {
   "cell_type": "code",
   "execution_count": null,
   "id": "99ef7b54",
   "metadata": {},
   "outputs": [],
   "source": [
    "# how many patients have at least one of each type?\n",
    "pathology_within_window[['usi', 'event_subtype']].drop_duplicates()['event_subtype'].value_counts() / num_uwl_patients * 100"
   ]
  },
  {
   "cell_type": "code",
   "execution_count": null,
   "id": "73ad38cb",
   "metadata": {},
   "outputs": [],
   "source": [
    "(\n",
    "    pathology_within_window\n",
    "    .loc[:, ['usi', 'event_subtype', 'value3']]\n",
    "    .drop_duplicates()\n",
    "    .groupby(['event_subtype', 'value3'])\n",
    "    .size()\n",
    ")"
   ]
  },
  {
   "cell_type": "code",
   "execution_count": null,
   "id": "f200b160",
   "metadata": {},
   "outputs": [],
   "source": [
    "(\n",
    "    pathology_within_window\n",
    "    .loc[:, ['usi', 'event_subtype', 'value3']]\n",
    "    .drop_duplicates()\n",
    "    .groupby(['event_subtype', 'value3'])\n",
    "    .size() / num_uwl_patients * 100\n",
    ")"
   ]
  },
  {
   "cell_type": "code",
   "execution_count": null,
   "id": "54b8cf5d",
   "metadata": {},
   "outputs": [],
   "source": [
    "# proportion of path results that are abnormal within each test (in three months prior to one month after)\n",
    "pathology_ranges = (\n",
    "    pathology_within_window\n",
    "    .groupby(['event_subtype', 'value3'], as_index=False)\n",
    "    .agg('size')\n",
    "    .rename(columns={'size': 'num_measurements'})\n",
    "    .assign(measurements_perc=lambda df_: df_.num_measurements \n",
    "            / df_.groupby('event_subtype')['num_measurements'].transform('sum') * 100)\n",
    ")\n",
    "\n",
    "pathology_ranges"
   ]
  },
  {
   "cell_type": "code",
   "execution_count": null,
   "id": "15f6aecf",
   "metadata": {},
   "outputs": [],
   "source": [
    "# proportion of path results that are abnormal within each test\n",
    "pathology_ranges = (\n",
    "    pathology\n",
    "    .groupby(['event_subtype', 'value3'], as_index=False)\n",
    "    .agg('size')\n",
    "    .rename(columns={'size': 'num_measurements'})\n",
    "    .assign(measurements_perc=lambda df_: df_.num_measurements \n",
    "            / df_.groupby('event_subtype')['num_measurements'].transform('sum') * 100)\n",
    ")\n",
    "\n",
    "pathology_ranges"
   ]
  },
  {
   "cell_type": "code",
   "execution_count": 124,
   "id": "ceed2945",
   "metadata": {},
   "outputs": [],
   "source": [
    "time_period_vars = ['five_years_before', \n",
    "                    'two_years_before', \n",
    "                    'one_year_before', \n",
    "                    'six_months_before', \n",
    "                    'three_months_before', \n",
    "                    'one_month_before', \n",
    "                    'at_index_date',\n",
    "                    'one_month_after',\n",
    "                    'three_months_after',\n",
    "                    'six_months_after', \n",
    "                    'one_year_after', \n",
    "                    'two_years_after',\n",
    "                    'five_years_after']"
   ]
  },
  {
   "cell_type": "code",
   "execution_count": 125,
   "id": "2b22a4dd",
   "metadata": {},
   "outputs": [],
   "source": [
    "# how many test results are there by time period?\n",
    "pathology_times = pathology.query('usi in @patient_uwl_usi')[['usi', 'dte', 'event_subtype', 'value', 'usi_linked'] + time_period_vars]"
   ]
  },
  {
   "cell_type": "code",
   "execution_count": 126,
   "id": "d340b35e",
   "metadata": {},
   "outputs": [],
   "source": [
    "# convert to tidy form to make calculations easier\n",
    "pathology_tidy = (\n",
    "    pd.melt(pathology_times, \n",
    "            id_vars=['usi', 'dte', 'event_subtype', 'value', 'usi_linked'], \n",
    "            value_vars=time_period_vars, \n",
    "            value_name='in_time_period', \n",
    "            var_name='time_period')\n",
    "    .assign(time_period=lambda df_: pd.Categorical(df_.time_period, time_period_vars))\n",
    ")"
   ]
  },
  {
   "cell_type": "code",
   "execution_count": 127,
   "id": "243fbbb1",
   "metadata": {},
   "outputs": [],
   "source": [
    "# number of pathology tests by time_period\n",
    "pathology_test_time_period = (\n",
    "    pathology_tidy\n",
    "    .query('in_time_period == True')\n",
    "    .groupby(['event_subtype', 'time_period'], as_index=False)\n",
    "    .size()\n",
    ")"
   ]
  },
  {
   "cell_type": "code",
   "execution_count": null,
   "id": "efb163fc",
   "metadata": {},
   "outputs": [],
   "source": [
    "# pivot table showing number of patients with at least n weight measurements for each of the time periods (1 <= n <= 5)\n",
    "time_period_count_pivot = pathology_test_time_period.pivot(index='event_subtype', \n",
    "                                                           columns='time_period', \n",
    "                                                           values='size').T\n",
    "\n",
    "time_period_count_pivot"
   ]
  },
  {
   "cell_type": "code",
   "execution_count": null,
   "id": "051f937a",
   "metadata": {},
   "outputs": [],
   "source": [
    "plt.figure(figsize=(12, 8))\n",
    "ax = sns.heatmap(time_period_count_pivot.T, annot=True, fmt='d')\n",
    "plt.show()"
   ]
  },
  {
   "cell_type": "code",
   "execution_count": 130,
   "id": "4600d074",
   "metadata": {},
   "outputs": [],
   "source": [
    "# number of patients that have k of each test within time period\n",
    "pathology_tidy_small = pathology_tidy[['usi', 'event_subtype', 'usi_linked', 'time_period', 'in_time_period']]\n",
    "pathology_tidy_small = pathology_tidy_small.query('in_time_period == True')"
   ]
  },
  {
   "cell_type": "code",
   "execution_count": null,
   "id": "58212a2b",
   "metadata": {},
   "outputs": [],
   "source": [
    "pathology_tidy_small"
   ]
  },
  {
   "cell_type": "code",
   "execution_count": 132,
   "id": "c7a7568b",
   "metadata": {},
   "outputs": [],
   "source": [
    "usi_test_time_period_counts = pathology_tidy_small.groupby(['usi', 'event_subtype', 'time_period'], as_index=False).size()"
   ]
  },
  {
   "cell_type": "code",
   "execution_count": 133,
   "id": "284ae0b1",
   "metadata": {},
   "outputs": [],
   "source": [
    "# for each time period and size how many patients are there?\n",
    "time_period_size_counts = (\n",
    "    usi_test_time_period_counts\n",
    "    .groupby(['event_subtype', \n",
    "              'time_period', \n",
    "              'size'], as_index=False)\n",
    "    .count()\n",
    "    .query('size > 0')\n",
    "    .rename(columns={'usi': 'num_usi'})\n",
    ")"
   ]
  },
  {
   "cell_type": "code",
   "execution_count": 134,
   "id": "c19ffbe9",
   "metadata": {},
   "outputs": [],
   "source": [
    "# sort the data and calculate number of usi in time period with at least size n\n",
    "time_period_size_counts['cumulative_count'] = (\n",
    "    time_period_size_counts\n",
    "    .sort_values(by=['event_subtype', 'time_period', 'size'], ascending=[True, True, False])\n",
    "    .groupby('time_period')['num_usi']\n",
    "    .cumsum()\n",
    ")"
   ]
  },
  {
   "cell_type": "code",
   "execution_count": null,
   "id": "3240b000",
   "metadata": {},
   "outputs": [],
   "source": [
    "# pivot table showing number of patients with at least n weight measurements for each of the time periods (1 <= n <= 5)\n",
    "time_period_count_pivot = (\n",
    "    time_period_size_counts[['event_subtype', 'time_period', \n",
    "                             'size', 'cumulative_count']]\n",
    "    .query('size < 6')\n",
    "    .pivot(index='time_period', columns=['event_subtype', 'size'], values='cumulative_count')\n",
    "    .T\n",
    ")\n",
    "\n",
    "time_period_count_pivot"
   ]
  },
  {
   "cell_type": "code",
   "execution_count": 136,
   "id": "0910e01c",
   "metadata": {},
   "outputs": [],
   "source": [
    "pathology = pathology.assign(value3=lambda df_: df_.value3.str.lower())"
   ]
  },
  {
   "cell_type": "code",
   "execution_count": 137,
   "id": "8a727718",
   "metadata": {},
   "outputs": [],
   "source": [
    "# filter to abnormal test results\n",
    "tests = ['ALBUMIN', \n",
    "         'ALP', \n",
    "         'BILIRUBIN', \n",
    "         'CALCIUM', \n",
    "         'CRP', \n",
    "         'CREATININE', \n",
    "         'ESR', \n",
    "         'HAEMOGLOBIN', \n",
    "         'PLATELETS', \n",
    "         'LEUCOCYTES']\n",
    "\n",
    "abnormal_codes = [['low'], \n",
    "                  ['abnormal_high', 'high'], \n",
    "                  ['abnormal_high', 'high'], \n",
    "                  ['high'],  ['elevated'], \n",
    "                  ['high'], \n",
    "                  ['high'], \n",
    "                  ['low'], \n",
    "                  ['high'], \n",
    "                  ['high', 'abnormal_high']]\n",
    "\n",
    "test_to_code = dict(zip(tests, abnormal_codes))\n",
    "\n",
    "# for each of the pathology tests above, filter to those with abnormal values\n",
    "path_abnormals = []\n",
    "\n",
    "for test, codeset in test_to_code.items():\n",
    "    path_test_abnormal = pathology.query(f'event_subtype == \"{test}\"').query(f\"value3 == @codeset\")\n",
    "    path_abnormals.append(path_test_abnormal)\n",
    "    \n",
    "pathology_abnormal = pd.concat(path_abnormals)"
   ]
  },
  {
   "cell_type": "code",
   "execution_count": null,
   "id": "8ff052d0",
   "metadata": {},
   "outputs": [],
   "source": [
    "(\n",
    "    pathology_abnormal\n",
    "    .query('(three_months_before == True) or (one_month_after == True)')\n",
    "    .loc[:, ['usi', 'event_subtype', 'value3']]\n",
    "    .drop_duplicates()\n",
    "    .event_subtype\n",
    "    .value_counts()# / 5603 * 100\n",
    ")"
   ]
  },
  {
   "cell_type": "code",
   "execution_count": null,
   "id": "5f0397f5",
   "metadata": {},
   "outputs": [],
   "source": [
    "pathology_abnormal['event_subtype'].value_counts()"
   ]
  },
  {
   "cell_type": "code",
   "execution_count": 141,
   "id": "483b487d",
   "metadata": {},
   "outputs": [],
   "source": [
    "# how many test results are there by time period?\n",
    "pathology_times = (\n",
    "    pathology_abnormal[['usi', 'dte', 'event_subtype', 'value', 'usi_linked'] + time_period_vars]\n",
    ")"
   ]
  },
  {
   "cell_type": "code",
   "execution_count": 142,
   "id": "8e0f87ff",
   "metadata": {},
   "outputs": [],
   "source": [
    "# convert to tidy form to make calculations easier\n",
    "pathology_tidy = pd.melt(pathology_times, \n",
    "                         id_vars=['usi', 'dte', 'event_subtype', 'value', 'usi_linked'], \n",
    "                         value_vars=time_period_vars, \n",
    "                         value_name='in_time_period', \n",
    "                         var_name='time_period')\n",
    "\n",
    "# convert time period to categorical based on time ordering\n",
    "pathology_tidy['time_period'] = pd.Categorical(pathology_tidy['time_period'], time_period_vars)"
   ]
  },
  {
   "cell_type": "code",
   "execution_count": 143,
   "id": "af75e4b9",
   "metadata": {},
   "outputs": [],
   "source": [
    "# number of patients that have k of each test within time period\n",
    "pathology_tidy_small = pathology_tidy[['usi', 'event_subtype', 'usi_linked', 'time_period', 'in_time_period']]\n",
    "pathology_tidy_small = pathology_tidy_small.query('in_time_period == True').query('usi_linked == True')"
   ]
  },
  {
   "cell_type": "code",
   "execution_count": 144,
   "id": "8bde89ca",
   "metadata": {},
   "outputs": [],
   "source": [
    "# number of events for each usi and time period?\n",
    "usi_test_time_period_counts = (\n",
    "    pathology_tidy_small\n",
    "    .groupby(['usi', 'event_subtype', 'time_period'], as_index=False)\n",
    "    .size()\n",
    ")"
   ]
  },
  {
   "cell_type": "code",
   "execution_count": 145,
   "id": "1857e005",
   "metadata": {},
   "outputs": [],
   "source": [
    "# for each time period and size how many patients are there?\n",
    "time_period_size_counts = (\n",
    "    usi_test_time_period_counts\n",
    "    .groupby(['event_subtype', 'time_period', 'size'], as_index=False)\n",
    "    .count()\n",
    "    .query('size > 0')\n",
    ")"
   ]
  },
  {
   "cell_type": "code",
   "execution_count": 146,
   "id": "57961b7a",
   "metadata": {},
   "outputs": [],
   "source": [
    "# sort the data and calculate number of usi in time period with at least size n\n",
    "time_period_size_counts['cumulative_count'] = (\n",
    "    time_period_size_counts\n",
    "    .sort_values(by=['event_subtype', 'time_period', 'size'], \n",
    "                 ascending=[True, True, False])\n",
    "    .groupby(['event_subtype', 'time_period'])['usi']\n",
    "    .cumsum()\n",
    ")"
   ]
  },
  {
   "cell_type": "code",
   "execution_count": null,
   "id": "f0924249",
   "metadata": {},
   "outputs": [],
   "source": [
    "# pivot table showing number of patients with at least n weight measurements for each of the time periods (1 <= n <= 5)\n",
    "time_period_count_pivot = (\n",
    "    time_period_size_counts[['event_subtype', 'time_period', 'size', 'cumulative_count']]\n",
    "    .query('size < 6')\n",
    "    .pivot(index='time_period', \n",
    "           columns=['event_subtype', 'size'], \n",
    "           values='cumulative_count')\n",
    "    .T\n",
    ")\n",
    "\n",
    "time_period_count_pivot"
   ]
  },
  {
   "cell_type": "code",
   "execution_count": null,
   "id": "331302e8",
   "metadata": {},
   "outputs": [],
   "source": [
    "plt.figure(figsize=(12, 8))\n",
    "ax = sns.heatmap(time_period_count_pivot.query('size == 1'), annot=True, fmt='d')\n",
    "plt.show()"
   ]
  },
  {
   "cell_type": "code",
   "execution_count": 149,
   "id": "1d5d8e24",
   "metadata": {},
   "outputs": [],
   "source": [
    "path_group1 = ['HAEMOGLOBIN']\n",
    "path_group2 = ['ALBUMIN']\n",
    "path_group3 = ['CRP']\n",
    "path_group4 = ['PLATELETS']\n",
    "path_group5 = ['HAEMOGLOBIN', 'CRP']\n",
    "path_group6 = ['ALBUMIN', 'CRP']\n",
    "path_group7 = ['HAEMOGLOBIN', 'CRP', 'PLATELETS']\n",
    "path_group8 = ['HAEMOGLOBIN', 'CRP', 'PLATELETS', 'ALBUMIN']\n",
    "\n",
    "path_group9 = ['CALCIUM']\n",
    "path_group10 = ['CREATININE']\n",
    "path_group11 = ['ALP']\n",
    "path_group12 = ['BILIRUBIN']\n",
    "path_group13 = ['LEUCOCYTES']\n",
    "path_group14 = ['ESR']\n",
    "\n",
    "path_groups = [path_group1, \n",
    "               path_group2, \n",
    "               path_group3, \n",
    "               path_group4, \n",
    "               path_group5, \n",
    "               path_group6, \n",
    "               path_group7, \n",
    "               path_group8, \n",
    "               path_group9, \n",
    "               path_group10, \n",
    "               path_group11, \n",
    "               path_group12, \n",
    "               path_group13, \n",
    "               path_group14]\n",
    "\n",
    "path_group_names = ['_'.join(path_group).lower() for path_group in path_groups]"
   ]
  },
  {
   "cell_type": "code",
   "execution_count": null,
   "id": "afd1485b",
   "metadata": {},
   "outputs": [],
   "source": [
    "pathology_abnormal.columns"
   ]
  },
  {
   "cell_type": "code",
   "execution_count": 151,
   "id": "43f8ed59",
   "metadata": {},
   "outputs": [],
   "source": [
    "# find the closest abnormal result for each test for each patient\n",
    "pathology_abnormal_closest = pathology_abnormal.groupby(['usi', 'event_subtype'], as_index=False).apply(lambda g: best_pathology_result(g))\n",
    "pathology_abnormal_closest = pathology_abnormal_closest.reset_index().iloc[:, 2:]"
   ]
  },
  {
   "cell_type": "code",
   "execution_count": null,
   "id": "06f5f30c",
   "metadata": {},
   "outputs": [],
   "source": [
    "pathology_abnormal_closest['event_subtype'].value_counts()"
   ]
  },
  {
   "cell_type": "code",
   "execution_count": 40,
   "id": "dd903683",
   "metadata": {},
   "outputs": [],
   "source": [
    "# for each of the pathology gruops and patients, create a flag for whether the event is part of this group\n",
    "pathology_abnormal_closest.shape, pathology_abnormal_closest[['usi', 'event_subtype']].drop_duplicates().shape"
   ]
  },
  {
   "cell_type": "code",
   "execution_count": 154,
   "id": "0915b7a6",
   "metadata": {},
   "outputs": [],
   "source": [
    "# how many path results for each patient\n",
    "pathology_small = pathology_abnormal_closest[['usi', 'dte', 'event_subtype', 'value3', 'usi_linked', 'index_date_dt']]"
   ]
  },
  {
   "cell_type": "code",
   "execution_count": 155,
   "id": "5e7b3352",
   "metadata": {},
   "outputs": [],
   "source": [
    "path_group = path_groups[0]"
   ]
  },
  {
   "cell_type": "code",
   "execution_count": null,
   "id": "fe1caa97",
   "metadata": {},
   "outputs": [],
   "source": [
    "pathology_small.groupby('usi', as_index=False)['event_subtype'].transform(lambda events: set(events) >= set(path_group))"
   ]
  },
  {
   "cell_type": "code",
   "execution_count": null,
   "id": "f96b1039",
   "metadata": {},
   "outputs": [],
   "source": [
    "for path_group, path_group_label in zip(path_groups, path_group_names):\n",
    "    results = pathology_small.groupby('usi', as_index=False)['event_subtype'].transform(\n",
    "        lambda events: set(events) >= set(path_group))\n",
    "    pathology_small[path_group_label] = results"
   ]
  },
  {
   "cell_type": "code",
   "execution_count": null,
   "id": "61a8429f",
   "metadata": {},
   "outputs": [],
   "source": [
    "# how many patients in each group\n",
    "(pathology_small.groupby('usi', as_index=False)[path_group_names].sum()[path_group_names] > 0).sum()"
   ]
  },
  {
   "cell_type": "code",
   "execution_count": 183,
   "id": "1f4ae301",
   "metadata": {},
   "outputs": [],
   "source": [
    "pathology_small.to_csv(f'{source_folder1}/pathology_index_values_all_230224.csv', index=False)"
   ]
  },
  {
   "cell_type": "markdown",
   "id": "53f265b0",
   "metadata": {},
   "source": [
    "### 1.4. Calculate for age, pathology test group"
   ]
  },
  {
   "cell_type": "code",
   "execution_count": 160,
   "id": "7c255eec",
   "metadata": {},
   "outputs": [],
   "source": [
    "usi_cancer = cohort.query('cancer_within_6months_index_date == True').usi.unique()\n",
    "usi_non_cancer = cohort.query('cancer_within_6months_index_date == False').usi.unique()"
   ]
  },
  {
   "cell_type": "code",
   "execution_count": 161,
   "id": "7bc9279f",
   "metadata": {},
   "outputs": [],
   "source": [
    "dfs = []\n",
    "\n",
    "# for each pathology group calculate the number of cancer patients and total number of patients\n",
    "for n in range(len(path_groups)):\n",
    "    usi_path_group = pathology_small.query(f'{path_group_names[n]} == True').usi.unique()\n",
    "    \n",
    "    counts_by_age = (\n",
    "        patient\n",
    "        .query('usi in @usi_path_group')\n",
    "        .assign(cancer=False)\n",
    "        .assign(cancer=lambda df_: df_.usi.isin(usi_cancer))    \n",
    "        .sort_values(by=['age_group2_at_index_date'])\n",
    "        .groupby(['age_group2_at_index_date'])['cancer']\n",
    "        .agg(['sum', 'size'])\n",
    "        .reset_index()\n",
    "        .rename(columns={'sum': 'num_cancer', 'size': 'num_patients'})\n",
    "        .assign(test_group=path_group_names[n])\n",
    "    )\n",
    "    dfs.append(counts_by_age)\n",
    "\n",
    "# concate all the test groups together\n",
    "cohort_counts = (\n",
    "    pd.concat(dfs)\n",
    "    .loc[:, ['test_group', 'age_group2_at_index_date', 'num_cancer', 'num_patients']]\n",
    "    .reset_index()\n",
    "    .iloc[:, 1:]\n",
    "    .assign(test_group=lambda df_: pd.Categorical(df_.test_group, categories=path_group_names))\n",
    "    .query('num_patients > 0')\n",
    "    .sort_values(by=['age_group2_at_index_date', 'test_group'])\n",
    "    .reset_index()\n",
    "    .iloc[:, 1:]\n",
    ")\n",
    "\n",
    "# calculate the PPVs\n",
    "cohort_ppv = (\n",
    "    pd.DataFrame(\n",
    "        cohort_counts\n",
    "        .apply(lambda r: calculate_ppv_with_ci(r['num_cancer'], r['num_patients'] - r['num_cancer']), axis=1)\n",
    "        .to_list(), columns=['ppv', 'ppv_ci_l', 'ppv_ci_r']\n",
    "    ) * 100\n",
    ")\n",
    "\n",
    "# combine with the cohort counts\n",
    "age_test_ppv = (\n",
    "    pd.concat([cohort_counts, cohort_ppv], axis=1)\n",
    "    .sort_values(by=['age_group2_at_index_date', 'test_group'], ascending=[True, False])\n",
    "    .reset_index()\n",
    "    .iloc[:, 1:]\n",
    "    .query('age_group2_at_index_date != \"<40\"')\n",
    ")"
   ]
  },
  {
   "cell_type": "code",
   "execution_count": 162,
   "id": "2d6c9a19",
   "metadata": {
    "scrolled": false
   },
   "outputs": [],
   "source": [
    "# subset of tests that appear in paper\n",
    "path_groups_small = ['haemoglobin_crp_platelets_albumin', \n",
    "                     'haemoglobin_crp_platelets', \n",
    "                     'albumin_crp', \n",
    "                     'haemoglobin_crp', \n",
    "                     'platelets', \n",
    "                     'crp', \n",
    "                     'albumin', \n",
    "                     'haemoglobin']\n",
    "\n",
    "test_group_label_abbrev = ['Hb+CRP+Plt+Alb', 'Hb+CRP+Plt', 'Alb+CRP', 'Hb+CRP', 'Plt', 'CRP', 'Alb', 'Hb']*3"
   ]
  },
  {
   "cell_type": "code",
   "execution_count": 163,
   "id": "c9384985",
   "metadata": {},
   "outputs": [],
   "source": [
    "age_test_ppv = age_test_ppv.reset_index().iloc[:, 1:]"
   ]
  },
  {
   "cell_type": "code",
   "execution_count": null,
   "id": "4c57093f",
   "metadata": {},
   "outputs": [],
   "source": [
    "age_test_ppv"
   ]
  },
  {
   "cell_type": "code",
   "execution_count": 165,
   "id": "05913f13",
   "metadata": {},
   "outputs": [],
   "source": [
    "age_test_ppv_small = (\n",
    "    age_test_ppv\n",
    "    .query('test_group in @path_groups_small').reset_index().iloc[:, 1:].reset_index()\n",
    "    .assign(study='Victoria')\n",
    "    .assign(y=lambda df_: 24-df_.index.values)\n",
    "    .assign(test_group_label_abbrev=test_group_label_abbrev)\n",
    ")"
   ]
  },
  {
   "cell_type": "code",
   "execution_count": 166,
   "id": "a32dff97",
   "metadata": {},
   "outputs": [],
   "source": [
    "# these are publicly available number's from Brian Nicholson's study\n",
    "ppv_ci_l_bn = [1.79, 1.88, 2.13, 1.79, 2.13, 1.71, 1.28, 0.94, \n",
    "               12.37, 11.60, 10.49, 8.19, 6.91, 6.4, 8.96, 5.12, \n",
    "               7.51, 11.17, 4.95, 5.80, 4.95, 5.54, 4.35, 4.18]\n",
    "\n",
    "ppv_ci_r_bn = [25.84, 23.03, 14.16, 9.21, 6.40, 4.86, 5.29, 2.99, \n",
    "               34.80, 31.81, 18.76, 13.73, 10.92, 9.55, 12.71, 6.91, \n",
    "               33.60, 30.96, 11.68, 11.26, 9.72, 9.04, 6.99, 5.54]\n",
    "\n",
    "ppv_bn = [9.55, 8.61, 6.23, 4.43, 3.75, 2.90, 2.81, 1.79, \n",
    "          21.92, 20.21, 14.33, 10.58, 8.61, 7.85, 10.49, 5.71, \n",
    "          17.83, 16.89, 7.59, 8.10, 6.91, 6.99, 5.54, 4.95]"
   ]
  },
  {
   "cell_type": "code",
   "execution_count": 167,
   "id": "901bdb15",
   "metadata": {},
   "outputs": [],
   "source": [
    "age_test_ppv_bn = (\n",
    "    age_test_ppv_small\n",
    "    .loc[:, ['index', 'test_group', 'age_group2_at_index_date']]\n",
    "    .assign(ppv_ci_l=ppv_ci_l_bn)\n",
    "    .assign(ppv_ci_r=ppv_ci_r_bn)\n",
    "    .assign(ppv=ppv_bn)\n",
    "    .assign(y=lambda df_: 24-df_.index.values+0.25)\n",
    "    .assign(study='UK')\n",
    ")"
   ]
  },
  {
   "cell_type": "code",
   "execution_count": 168,
   "id": "69af2a6a",
   "metadata": {},
   "outputs": [],
   "source": [
    "age_test_ppv_all = pd.concat([age_test_ppv_small, age_test_ppv_bn])"
   ]
  },
  {
   "cell_type": "code",
   "execution_count": null,
   "id": "742b5dc8",
   "metadata": {},
   "outputs": [],
   "source": [
    "age_test_ppv_all.query('study == \"Victoria\"')"
   ]
  },
  {
   "cell_type": "code",
   "execution_count": null,
   "id": "d5b234f7",
   "metadata": {},
   "outputs": [],
   "source": [
    "sns.set_style('white')\n",
    "\n",
    "# change the labels of the groups\n",
    "#ticklabels = age_test_ppv_small['age_group2_at_index_date'].str.replace('+', '').str.split('-').apply(lambda l: l[0])\n",
    "ticklabels = age_test_ppv_small['age_group2_at_index_date'].astype(str).values + ' years, ' + age_test_ppv_small['test_group_label_abbrev'].astype(str).values\n",
    "\n",
    "# plot these out\n",
    "plt.figure(figsize=(10, 13))\n",
    "\n",
    "# AL study\n",
    "plt.hlines(y=age_test_ppv_all.query('study==\"Victoria\"').y, \n",
    "           xmin=age_test_ppv_all.query('study==\"Victoria\"').ppv_ci_l, \n",
    "           xmax=age_test_ppv_all.query('study==\"Victoria\"').ppv_ci_r, \n",
    "           color='r',\n",
    "           alpha=0.5)\n",
    "\n",
    "#sns.scatterplot(data=age_test_ppv_all.query('study==\"AL\"'), x='ppv_ci_l', y='y', color='k')\n",
    "#sns.scatterplot(data=age_test_ppv_all.query('study==\"AL\"'), x='ppv_ci_r', y='y', color='k')\n",
    "sns.scatterplot(data=age_test_ppv_all.query('study==\"Victoria\"'), x='ppv', y='y', color='r', label='AU')\n",
    "\n",
    "# BN study\n",
    "plt.hlines(y=age_test_ppv_all.query('study==\"UK\"').y, \n",
    "           xmin=age_test_ppv_all.query('study==\"UK\"').ppv_ci_l, \n",
    "           xmax=age_test_ppv_all.query('study==\"UK\"').ppv_ci_r, \n",
    "           color='b',\n",
    "           alpha=0.5)\n",
    "\n",
    "#sns.scatterplot(data=age_test_ppv_all.query('study==\"BN\"'), x='ppv_ci_l', y='y', color='k')\n",
    "#sns.scatterplot(data=age_test_ppv_all.query('study==\"BN\"'), x='ppv_ci_r', y='y', color='k')\n",
    "sns.scatterplot(data=age_test_ppv_all.query('study==\"UK\"'), x='ppv', y='y', color='b', label='UK')\n",
    "\n",
    "plt.yticks(ticks=age_test_ppv_all.query('study==\"Victoria\"').y.values, labels=ticklabels)\n",
    "plt.xlabel('Positive Predictive Values')\n",
    "plt.ylabel('Age Group')\n",
    "plt.xlim(-5, 60)\n",
    "plt.legend()\n",
    "plt.axvline(x=3, color='gray', linestyle='--', alpha=0.5, label='3% threshold')\n",
    "plt.title('Positive predictive values of UWL patients by age group and pathology group')\n",
    "plt.show()"
   ]
  },
  {
   "cell_type": "markdown",
   "id": "d1493ef2",
   "metadata": {},
   "source": [
    "### 1.4. Calculate by Age group, Gender, pathology test group"
   ]
  },
  {
   "cell_type": "code",
   "execution_count": 171,
   "id": "275fa28b",
   "metadata": {},
   "outputs": [],
   "source": [
    "#cancer_counts_by_age_gender = patient_uwl_temp.sort_values(by=\n",
    "#                                                           ['gender_code', 'age_group2']).groupby(['gender_code', 'age_group2'])['cancer'].sum().reset_index().rename(columns={'cancer': 'num_cancer'})\n",
    "#patient_counts_by_age_gender = patient_uwl_temp.sort_values(by=\n",
    "#                                                            ['gender_code', 'age_group2']).groupby(['gender_code', 'age_group2'])['cancer'].size().reset_index().rename(columns={'cancer': 'num_patients'})"
   ]
  },
  {
   "cell_type": "code",
   "execution_count": 41,
   "id": "e4142ec6",
   "metadata": {},
   "outputs": [],
   "source": [
    "# filter to a given path group\n",
    "cancer_counts_by_age_gender"
   ]
  },
  {
   "cell_type": "code",
   "execution_count": 42,
   "id": "a6bc162a",
   "metadata": {},
   "outputs": [],
   "source": [
    "# filter to a given path group\n",
    "patient_counts_by_age_gender"
   ]
  },
  {
   "cell_type": "markdown",
   "id": "2c297018",
   "metadata": {},
   "source": [
    "## Repeating these calculations for the 'Unintended' only encounter reasons"
   ]
  },
  {
   "cell_type": "code",
   "execution_count": null,
   "id": "d56b713d",
   "metadata": {},
   "outputs": [],
   "source": [
    "temp_cohort = cohort[cohort['usi'].isin(usi_temp_cohort1)]\n",
    "patient_uwl_temp = patient_uwl[patient_uwl['usi'].isin(usi_temp_cohort1)]\n",
    "\n",
    "usi_cancer = temp_cohort[temp_cohort['cancer_within_6months_index_date'] == True]['usi'].unique()\n",
    "usi_non_cancer = temp_cohort[temp_cohort['cancer_within_6months_index_date'] == False]['usi'].unique()\n",
    "\n",
    "patient_uwl_temp['cancer'] = False\n",
    "patient_uwl_temp.loc[patient_uwl_temp['usi'].isin(usi_cancer), 'cancer'] = True\n",
    "\n",
    "cancer_counts_by_age_gender = patient_uwl_temp.sort_values(by=['gender_code', 'age_group']).groupby(['gender_code', 'age_group'])['cancer'].sum().reset_index().rename(columns={'cancer': 'num_cancer'})\n",
    "patient_counts_by_age_gender = patient_uwl_temp.sort_values(by=['gender_code', 'age_group']).groupby(['gender_code', 'age_group'])['cancer'].size().reset_index().rename(columns={'cancer': 'num_patients'})"
   ]
  },
  {
   "cell_type": "code",
   "execution_count": null,
   "id": "9c99ffb1",
   "metadata": {},
   "outputs": [],
   "source": [
    "# ppv: given that a patient has UWL, what is the probability of developing cancer within 6 months\n",
    "temp_cohort[['usi', 'cancer_within_6months_index_date']].drop_duplicates()['cancer_within_6months_index_date'].value_counts()"
   ]
  },
  {
   "cell_type": "code",
   "execution_count": null,
   "id": "b4f21650",
   "metadata": {},
   "outputs": [],
   "source": [
    "genders = ['Male', 'Female']\n",
    "\n",
    "cancer_counts_by_age_gender = cancer_counts_by_age_gender.query('gender_code in @genders') \n",
    "patient_counts_by_age_gender =  patient_counts_by_age_gender.query('gender_code in @genders')\n",
    "\n",
    "patient_counts_by_age_gender"
   ]
  },
  {
   "cell_type": "code",
   "execution_count": null,
   "id": "1bc6a12a",
   "metadata": {},
   "outputs": [],
   "source": [
    "cohort_counts = cancer_counts_by_age_gender\n",
    "cohort_counts['num_patients'] = patient_counts_by_age_gender['num_patients'].values"
   ]
  },
  {
   "cell_type": "code",
   "execution_count": null,
   "id": "75631422",
   "metadata": {},
   "outputs": [],
   "source": [
    "# since interested in cumulative counts (number greater than a given age group) rather than less than\n",
    "# we sort by reversed age order\n",
    "cohort_counts = cohort_counts.sort_values(by=['gender_code', 'age_group'], \n",
    "                                          ascending=[True, False])\n",
    "\n",
    "cohort_counts['num_no_cancer'] = cohort_counts['num_patients'] - cohort_counts['num_cancer']\n",
    "\n",
    "# cumulative counts of cancer and non cancer patients\n",
    "cohort_counts['num_cancer_cumulative'] = cohort_counts.sort_values(by=['gender_code', 'age_group'], \n",
    "                                                                   ascending=[True, False]).groupby('gender_code')['num_cancer'].cumsum()\n",
    "\n",
    "cohort_counts['num_no_cancer_cumulative'] = cohort_counts.sort_values(by=['gender_code', 'age_group'], \n",
    "                                                                      ascending=[True, False]).groupby('gender_code')['num_no_cancer'].cumsum()"
   ]
  },
  {
   "cell_type": "code",
   "execution_count": null,
   "id": "e3b34623",
   "metadata": {},
   "outputs": [],
   "source": [
    "# calculate the PPVs\n",
    "cohort_ppv = pd.DataFrame(cohort_counts.apply(\n",
    "    lambda r: calculate_ppv_with_ci(r['num_cancer_cumulative'], \n",
    "                                    r['num_no_cancer_cumulative']), axis=1).to_list(), \n",
    "             columns=['ppv', 'ppv_ci_l', 'ppv_ci_r'])*100\n",
    "\n",
    "cohort_counts_final = pd.concat([cohort_counts.reset_index().iloc[:, 1:], cohort_ppv.reset_index().iloc[:, 1:]], axis=1)\n",
    "\n",
    "cohort_counts_final = cohort_counts_final.sort_values(\n",
    "    by=['gender_code', 'age_group'], ascending=[True, True]).reset_index().iloc[:, 1:]\n",
    "\n",
    "cohort_counts_final['index'] = np.arange(cohort_counts_final.shape[0], 0, -1)"
   ]
  },
  {
   "cell_type": "code",
   "execution_count": null,
   "id": "2aa79b8c",
   "metadata": {},
   "outputs": [],
   "source": [
    "cohort_counts_final"
   ]
  }
 ],
 "metadata": {
  "kernelspec": {
   "display_name": "Python 3 (ipykernel)",
   "language": "python",
   "name": "python3"
  },
  "language_info": {
   "codemirror_mode": {
    "name": "ipython",
    "version": 3
   },
   "file_extension": ".py",
   "mimetype": "text/x-python",
   "name": "python",
   "nbconvert_exporter": "python",
   "pygments_lexer": "ipython3",
   "version": "3.9.12"
  }
 },
 "nbformat": 4,
 "nbformat_minor": 5
}
