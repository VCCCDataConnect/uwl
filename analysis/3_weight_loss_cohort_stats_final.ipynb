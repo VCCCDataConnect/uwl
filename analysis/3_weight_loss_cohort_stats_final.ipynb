{
 "cells": [
  {
   "cell_type": "markdown",
   "id": "f59219cb",
   "metadata": {},
   "source": [
    "# Summary stats of UWL patients\n",
    "\n",
    "4 July 2022\n",
    "\n",
    "Updated 5 August\n",
    "\n",
    "Updated 8 February 2024\n",
    "\n",
    "---\n",
    "\n",
    "## Description\n",
    "\n",
    "This notebook covers the generation of statistics from the cohort of Unexpected Weight Loss (UWL) patients. The statistics allow for comparison with the UK study (Nicholson et al.).\n",
    "\n",
    "Similar to other cohort stats notebook but this time we remove those patients with an encounter reason that has been assigned either 'Intended' or 'Not relevant'.\n",
    "\n",
    "Statistics generated include:\n",
    "- Baseline characteristics of the UWL cohort\n",
    "- Missingness of variables: pathology, observations, smoking, alcohol\n",
    "- Weight and BMI distributions (overall and by age)\n",
    "- Weight changes of UWL cohort patients up to index date\n",
    "- Prevalence of recording of pathology test results (including over different time periods)\n",
    "- Prevalence of abnormal pathology test results"
   ]
  },
  {
   "cell_type": "markdown",
   "id": "6c31d61d",
   "metadata": {},
   "source": [
    "## 0.1. Config"
   ]
  },
  {
   "cell_type": "code",
   "execution_count": 95,
   "id": "a0e7ec32",
   "metadata": {},
   "outputs": [],
   "source": [
    "import pandas as pd\n",
    "import numpy as np\n",
    "import matplotlib.pyplot as plt\n",
    "import seaborn as sns\n",
    "import plotly.express as px\n",
    "\n",
    "import re\n",
    "\n",
    "sns.set()\n",
    "%matplotlib inline"
   ]
  },
  {
   "cell_type": "code",
   "execution_count": 96,
   "id": "f0523a0e",
   "metadata": {},
   "outputs": [],
   "source": [
    "pd.set_option(\"display.max_rows\", 1000)\n",
    "pd.set_option(\"display.max_columns\", 100)"
   ]
  },
  {
   "cell_type": "markdown",
   "id": "eef6b0ba",
   "metadata": {},
   "source": [
    "## 0.2. Load data"
   ]
  },
  {
   "cell_type": "code",
   "execution_count": 97,
   "id": "b2385a53",
   "metadata": {},
   "outputs": [],
   "source": [
    "source_folder = \"M:/AL/projects/weight_loss/outputs\"\n",
    "source_folder2 = \"M:/MDAP_Collaboration/data/original/NPS_Complete\"\n",
    "source_folder4 = \"M:/DataAnalysis/RCOLD/DataFiles\"\n",
    "\n",
    "source_folder = \"M:/Working/AL/projects/weight_loss/outputs\"\n",
    "source_folder2 = \"M:/Working/MDAP_Collaboration/data/original/NPS_Complete\"\n",
    "source_folder4 = \"M:/Working/DataAnalysis/RCOLD/DataFiles\"\n",
    "\n",
    "filename_cohort = 'uwl_cohort_210422.parquet'\n",
    "filename_cohort = 'uwl_cohort_130722b.parquet' # this includes the VAED cancer coding and UWL subclasses\n",
    "filename_cohort = 'uwl_cohort_020822b.parquet'\n",
    "filename_cohort = 'uwl_cohort_201122.parquet'\n",
    "\n",
    "filename_cohort = 'uwl_cohort_201122.csv'\n",
    "filename_patient = \"NPS_Patient_202107.parquet\"\n",
    "filename_patient = \"NPS_Patient_202107.csv\"\n",
    "\n",
    "#filename_cohort = 'cohort_patron_nps_with_labels_060323.parquet' \n",
    "#filename_patient = \"patron_nps_with_age_groups_060323.parquet\"\n",
    "\n",
    "filename_cohort = 'cohort_patron_nps_with_labels_BN_ranges_210323.parquet'\n",
    "filename_patient = \"patron_nps_with_age_groups_BN_ranges_210323.parquet\"\n",
    "\n",
    "filename_cohort = 'nps_patron_cohort_020224.parquet'\n",
    "filename_patient = 'nps_patron_with_age_groups_uk_ranges_020224.parquet'\n",
    "\n",
    "filename_cancer = 'VAED_Cancers_coded.csv'"
   ]
  },
  {
   "cell_type": "code",
   "execution_count": 98,
   "id": "a276c0c9",
   "metadata": {},
   "outputs": [],
   "source": [
    "# the cohort of all weight related patients\n",
    "#cohort_base = pd.read_parquet(f'{source_folder}/{filename_cohort}')\n",
    "cohort_base = pd.read_parquet(f'{source_folder}/{filename_cohort}')\n",
    "\n",
    "# patient table\n",
    "#patient = pd.read_parquet(f'{source_folder2}/{filename_patient}')\n",
    "patient = pd.read_parquet(f'{source_folder}/{filename_patient}')\n",
    "\n",
    "# filter to those patients in the cohort who do not have a weight increase\n",
    "#cohort = cohort_base.query('weight_increase == False')\n",
    "\n",
    "# VAED cancer coding\n",
    "#cancer = pd.read_csv(f'{source_folder4}/{filename_cancer}')"
   ]
  },
  {
   "cell_type": "code",
   "execution_count": 99,
   "id": "24457029",
   "metadata": {},
   "outputs": [],
   "source": [
    "# filter to those patients in the cohort who do not have a weight increase\n",
    "cohort = cohort_base.query('weight_increase == False')\n",
    "\n",
    "# VAED cancer coding\n",
    "# convert cancer usi to standard 10-digit format\n",
    "cancer = (\n",
    "    pd.read_csv(f'{source_folder4}/{filename_cancer}')\n",
    "    .assign(usi=lambda df_: df_.usi.astype(str).str.pad(side='left', fillchar='0', width=10))\n",
    ")"
   ]
  },
  {
   "cell_type": "code",
   "execution_count": 100,
   "id": "f0b1e210",
   "metadata": {},
   "outputs": [],
   "source": [
    "# standardize the linkable USI values to be 10 digit left zero-padded integers\n",
    "patient = (\n",
    "    patient\n",
    "    .query('usi.isnull() == False')\n",
    "    .query('usi.str.startswith(\"G\") == False')\n",
    "    .assign(usi=lambda df_: df_.usi\n",
    "            .astype(float)\n",
    "            .astype(int)\n",
    "            .astype(str)\n",
    "            .str\n",
    "            .pad(width=10, side='left', fillchar='0'))\n",
    ")"
   ]
  },
  {
   "cell_type": "code",
   "execution_count": 101,
   "id": "ab83b07a",
   "metadata": {},
   "outputs": [],
   "source": [
    "# datetime conversions\n",
    "cohort = (\n",
    "    cohort\n",
    "    .assign(dte=pd.to_datetime(cohort.dte))\n",
    "  #  .assign(dte2=pd.to_datetime(cohort.dte2))\n",
    "    .assign(dte=lambda df_: df_.dte.dt.normalize())\n",
    "  #  .assign(dte2=lambda df_: df_.dte2.dt.normalize())\n",
    "    .drop_duplicates()\n",
    ")"
   ]
  },
  {
   "cell_type": "markdown",
   "id": "a8e50f2b",
   "metadata": {},
   "source": [
    "## 0.3. Useful functions"
   ]
  },
  {
   "cell_type": "code",
   "execution_count": 102,
   "id": "d05c5515",
   "metadata": {},
   "outputs": [],
   "source": [
    "from scipy.stats import norm"
   ]
  },
  {
   "cell_type": "code",
   "execution_count": 103,
   "id": "0f778d15",
   "metadata": {},
   "outputs": [],
   "source": [
    "# for calculating Positive Predictive Values and confidence intervals\n",
    "def z_value(alpha):\n",
    "    return norm.ppf(1 - alpha/2)\n",
    "\n",
    "def calculate_ppv(tp, fp):\n",
    "    return tp / (tp + fp)\n",
    "\n",
    "def calculate_seppv(tp, fp):\n",
    "    ppv = calculate_ppv(tp, fp)\n",
    "    se = np.sqrt(ppv * (1 - ppv) / (tp + fp))\n",
    "    return se\n",
    "\n",
    "def calculate_cippv(tp, fp, alpha):\n",
    "    ppv = calculate_ppv(tp, fp)\n",
    "    se = calculate_seppv(tp, fp)\n",
    "    ci_l = ppv - z_value(alpha)*se\n",
    "    ci_r = ppv + z_value(alpha)*se\n",
    "    return ci_l, ci_r"
   ]
  },
  {
   "cell_type": "code",
   "execution_count": 104,
   "id": "ae57cfd6",
   "metadata": {},
   "outputs": [],
   "source": [
    "def recent_weight_change(df, perc=False):\n",
    "    \"\"\"\n",
    "    Calculate difference in weights up to index date\n",
    "    \n",
    "    Args\n",
    "    df (pd.DataFrame): a patien event log for a given patient\n",
    "    perc (bool, default=False): whether or not to calculate the change as a percentage\n",
    "    \n",
    "    Return\n",
    "    weight_change (float): change between weight before and at index date\n",
    "    \n",
    "    \"\"\"\n",
    "    index_date = df[df['index_case'] == 1]['dte'].values[0]\n",
    "    df_recent = df[df['dte'] <= index_date]\n",
    "    weights_recent = df_recent.query('event_subtype == \"WEIGHT\"')\n",
    "    weights = weights_recent['value'].astype(float).values\n",
    "    if perc:\n",
    "        weight_change = (weights[-1] - weights[-2]) / weights[-2] * 100\n",
    "    else:\n",
    "        weight_change = weights[-1] - weights[-2]\n",
    "    return weight_change\n",
    "\n",
    "\n",
    "def weight_change_over_period(df, perc=False):\n",
    "    \"\"\"\n",
    "    Calculate difference in weights up to index date\n",
    "    \n",
    "    Args\n",
    "    df (pd.DataFrame): a patien event log for a given patient\n",
    "    perc (bool, default=False): whether or not to calculate the change as a percentage\n",
    "    \n",
    "    Return\n",
    "    weight_change (float): change between weight before and at index date\n",
    "    \n",
    "    \"\"\"\n",
    "    index_date = df[df['index_case'] == 1]['dte'].values[0]\n",
    "    df_recent = df[df['dte'] <= index_date]\n",
    "    weights_recent = df_recent.query('event_subtype == \"WEIGHT\"')\n",
    "    weights = weights_recent['value'].astype(float).values\n",
    "    if perc:\n",
    "        weight_change = (weights[-1] - weights[0]) / weights[0] * 100\n",
    "    else:\n",
    "        weight_change = weights[-1] - weights[0]\n",
    "    return weight_change"
   ]
  },
  {
   "cell_type": "code",
   "execution_count": 105,
   "id": "63cf1b5a",
   "metadata": {},
   "outputs": [],
   "source": [
    "def best_pathology_result(results):\n",
    "    \"\"\"\n",
    "    Given a set of results, return the one that is either \n",
    "    within one month after the index date or if this does \n",
    "    not exist then the one that is the closest in the previous \n",
    "    3 months\n",
    "    \n",
    "    Args\n",
    "    results (pd.DataFrame): dataframe with at least the following fields\n",
    "        1month_after\n",
    "        3months_before\n",
    "        dte\n",
    "        result\n",
    "        \n",
    "    Return\n",
    "    best_result (pd.DataFrame): most representative pathology results\n",
    "    \"\"\"\n",
    "    results_after = results[results['1month_after'] == True]\n",
    "    results_before = results[results['3months_before'] == True]\n",
    "    \n",
    "    if results_after.shape[0] > 0:\n",
    "        best_result = results_after.sort_values(by='index_date_dt').iloc[0:1]\n",
    "    elif results_before.shape[0] > 0:\n",
    "        best_result = results_before.sort_values(by='index_date_dt').iloc[0:1]\n",
    "    else:\n",
    "        best_result = results_after\n",
    "        \n",
    "    return best_result\n",
    "\n",
    "\n",
    "def results_in_pathology_group(results, pathology_group):\n",
    "    \"\"\"\n",
    "    Given a set of results and list of pathology test names\n",
    "    determine if the results contains them all\n",
    "    \n",
    "    Args\n",
    "    results (pd.DataFrame): dataframe with pathology data\n",
    "    pathology_group (list of str): pathology test names\n",
    "    \n",
    "    Returns\n",
    "    result_in_group (bool): True if results contains all the \n",
    "        result names\n",
    "    \"\"\"\n",
    "    results_overlap = set(results['event_subtype'].values).intersection(pathology_group)\n",
    "    results_in_group = (len(results_overlap) == len(pathology_group))\n",
    "    return results_in_group\n",
    "\n",
    "\n",
    "def calculate_cohort_counts(patients, groups=['age_group', 'gender_code'], ascending_order=[True, False]):\n",
    "    \"\"\"\n",
    "    Calculate the numbers of cancer and non-cancer patients\n",
    "    \n",
    "    Args\n",
    "    patients (pd.DataFrame): has columns usi, num_cancer_patients along with columns in groups\n",
    "    groups (list of str): the columns that define the grouping of the data\n",
    "    ascending_order (list of bool): ordering of the values for each of the columns in groups\n",
    "    \n",
    "    Returns\n",
    "    ppv_results (pd.DataFrame): patients dataframe with ppvs calculated\n",
    "    \"\"\"\n",
    "    cohort_counts = patients.groupby(groups)['cancer'].agg(num_patients=('size'), num_cancer=('sum'))\n",
    "    \n",
    "    # order the groups\n",
    "    cohort_counts = cohort_counts.sort_values(by=groups, ascending=ascending_order)\n",
    "    cohort_counts['num_no_cancer'] = cohort_counts['num_patients'] - cohort_counts['num_cancer']\n",
    "    \n",
    "    return cohort_counts"
   ]
  },
  {
   "cell_type": "code",
   "execution_count": 106,
   "id": "8063cb9d",
   "metadata": {},
   "outputs": [],
   "source": [
    "def results_in_pathology_group(results, pathology_group):\n",
    "    \"\"\"\n",
    "    Given a set of results and list of pathology test names\n",
    "    determine if the results contains them all\n",
    "    \n",
    "    Args\n",
    "    results (pd.DataFrame): dataframe with pathology data\n",
    "    pathology_group (list of str): pathology test names\n",
    "    \n",
    "    Returns\n",
    "    result_in_group (bool): True if results contains all the \n",
    "        result names\n",
    "    \"\"\"\n",
    "    results_overlap = set(results['event_subtype'].values).intersection(pathology_group)\n",
    "    results_in_group = (len(results_overlap) == len(pathology_group))\n",
    "    return results_in_group"
   ]
  },
  {
   "cell_type": "markdown",
   "id": "ed2367b3",
   "metadata": {},
   "source": [
    "## 1. Overall statistics\n",
    "\n",
    "For each of the subcohorts (Unintended weight loss, Intent unknown, combined, and all), calculate:\n",
    "\n",
    "- Number of patients\n",
    "- Number of patients diagnosed with cancer within 6 months of index date\n",
    "- Number of events\n",
    "- Number of events before and after the index date\n",
    "- Number of patients that can be linked"
   ]
  },
  {
   "cell_type": "markdown",
   "id": "7d33c57d",
   "metadata": {},
   "source": [
    "### 1.1. Number of patients\n",
    "\n",
    "How many patients in each of the subcohorts:\n",
    "- Unintended weight loss\n",
    "- Intent unknown\n",
    "- Either intent"
   ]
  },
  {
   "cell_type": "code",
   "execution_count": 1,
   "id": "3c9bf96c",
   "metadata": {},
   "outputs": [],
   "source": [
    "# how many patients in cohort\n",
    "patient['usi'].unique().shape"
   ]
  },
  {
   "cell_type": "code",
   "execution_count": 2,
   "id": "0903f80b",
   "metadata": {},
   "outputs": [],
   "source": [
    "# how many of the USI can be linked (e.g., do not have a G?)\n",
    "cohort.query('uwl_flag == 1')[['usi', 'usi_linked']].drop_duplicates()['usi_linked'].value_counts()"
   ]
  },
  {
   "cell_type": "code",
   "execution_count": 3,
   "id": "9b3f9b87",
   "metadata": {},
   "outputs": [],
   "source": [
    "# only unintended\n",
    "cohort.query('uwl_prediction == 1')['usi'].unique().shape"
   ]
  },
  {
   "cell_type": "code",
   "execution_count": 4,
   "id": "dc29bc02",
   "metadata": {},
   "outputs": [],
   "source": [
    "# how many of the USI can be linked (e.g., do not have a G?)\n",
    "cohort.query('uwl_prediction == 1')[['usi', 'usi_linked']].drop_duplicates()['usi_linked'].value_counts()"
   ]
  },
  {
   "cell_type": "code",
   "execution_count": 5,
   "id": "5849f6a7",
   "metadata": {},
   "outputs": [],
   "source": [
    "# intent unknown\n",
    "cohort.query('uwl_prediction == 2')[['usi', 'usi_linked']].drop_duplicates()['usi_linked'].value_counts()"
   ]
  },
  {
   "cell_type": "code",
   "execution_count": 208,
   "id": "3c5dae69",
   "metadata": {},
   "outputs": [],
   "source": [
    "# different subcohorts based on intent\n",
    "cohort1 = cohort[cohort.usi.isin(cohort.query('uwl_prediction == 1').usi.unique())]\n",
    "cohort2 = cohort[cohort.usi.isin(cohort.query('uwl_prediction == 2').usi.unique())]\n",
    "cohort12 = cohort[cohort.usi.isin(cohort.query('uwl_prediction in [1, 2]').usi.unique())]"
   ]
  },
  {
   "cell_type": "code",
   "execution_count": 210,
   "id": "93e1af92",
   "metadata": {},
   "outputs": [],
   "source": [
    "cohort_uwl = cohort12.query('usi_linked == True')\n",
    "#cohort_uwl.query('event_type == \"pathology\"')['event_subtype'].value_counts()"
   ]
  },
  {
   "cell_type": "markdown",
   "id": "1c63f88d",
   "metadata": {},
   "source": [
    "### 1.2. Number of events\n",
    "\n",
    "How many different events in each of the subcohorts."
   ]
  },
  {
   "cell_type": "code",
   "execution_count": null,
   "id": "e8e2e9a6",
   "metadata": {},
   "outputs": [],
   "source": [
    "cohort_uwl['usi'].shape"
   ]
  },
  {
   "cell_type": "code",
   "execution_count": 271,
   "id": "cc1e24bb",
   "metadata": {},
   "outputs": [],
   "source": [
    "usi_12_linked = cohort12.query('usi_linked == True').usi.unique()\n",
    "usi_1_linked = cohort1.query('usi_linked == True').usi.unique()\n",
    "usi_2_linked = cohort2.query('usi_linked == True').usi.unique()"
   ]
  },
  {
   "cell_type": "code",
   "execution_count": 272,
   "id": "f3917592",
   "metadata": {},
   "outputs": [],
   "source": [
    "cohort1_linkable = cohort1.query('usi in @usi_1_linked')\n",
    "cohort2_linkable = cohort2.query('usi in @usi_2_linked')\n",
    "cohort12_linkable = cohort12.query('usi in @usi_12_linked')"
   ]
  },
  {
   "cell_type": "code",
   "execution_count": null,
   "id": "5de92138",
   "metadata": {},
   "outputs": [],
   "source": [
    "cohort1_linkable.shape, cohort2_linkable.shape, cohort12_linkable.shape"
   ]
  },
  {
   "cell_type": "code",
   "execution_count": 274,
   "id": "14cd4650",
   "metadata": {},
   "outputs": [],
   "source": [
    "num_uwl1_linkable = cohort1_linkable['usi'].unique().shape[0]\n",
    "num_uwl12_linkable = cohort12_linkable['usi'].unique().shape[0]\n",
    "\n",
    "num_uwl1_linkable_cancer = cohort1_linkable.merge(cancer, \n",
    "                                                  left_on='usi', \n",
    "                                                  right_on='usi', \n",
    "                                                  how='inner')['usi'].unique().shape[0]\n",
    "num_uwl12_linkable_cancer = cohort12_linkable.merge(cancer, \n",
    "                                                    left_on='usi', \n",
    "                                                    right_on='usi', \n",
    "                                                    how='inner')['usi'].unique().shape[0]"
   ]
  },
  {
   "cell_type": "code",
   "execution_count": null,
   "id": "145599b4",
   "metadata": {},
   "outputs": [],
   "source": [
    "print(f'Proportion of patients in NPS who have a cancer diagnosis in VAED: {num_uwl1_linkable_cancer / num_uwl1_linkable * 100}')\n",
    "print(f'Proportion of patients in UWL cohort who have a cancer diagnosis in VAED: {num_uwl12_linkable_cancer / num_uwl12_linkable * 100}')"
   ]
  },
  {
   "cell_type": "code",
   "execution_count": 276,
   "id": "57af0c00",
   "metadata": {},
   "outputs": [],
   "source": [
    "#print(f'Proportion of patients in NPS who have a cancer diagnosis in VAED: {num_nps_linkable_cancer / num_nps_linkable * 100}')\n",
    "#print(f'Proportion of patients in UWL cohort who have a cancer diagnosis in VAED: {num_uwl_linkable_cancer / num_uwl_linkable * 100}')"
   ]
  },
  {
   "cell_type": "code",
   "execution_count": 277,
   "id": "e23db4c2",
   "metadata": {},
   "outputs": [],
   "source": [
    "usi_uwl = cohort_uwl['usi'].unique()\n",
    "patient_uwl = patient[patient['usi'].isin(usi_uwl)]"
   ]
  },
  {
   "cell_type": "code",
   "execution_count": null,
   "id": "41011c9a",
   "metadata": {},
   "outputs": [],
   "source": [
    "cohort_uwl['index_case'].value_counts()"
   ]
  },
  {
   "cell_type": "code",
   "execution_count": null,
   "id": "24f674c6",
   "metadata": {},
   "outputs": [],
   "source": [
    "cohort1['usi'].unique().shape, cohort2['usi'].unique().shape, cohort12['usi'].unique().shape"
   ]
  },
  {
   "cell_type": "code",
   "execution_count": 280,
   "id": "1cf74043",
   "metadata": {},
   "outputs": [],
   "source": [
    "# ignore events that occur before 2000\n",
    "# what is the time period for each patient? unintended\n",
    "usi_time_period = cohort1.query('dte > \"2000-01-01\"').groupby('usi')['dte'].agg([np.min, np.max]).apply(lambda r: \n",
    "                                                                                     r['amax'] - r['amin'], axis=1) / np.timedelta64(1, 'Y')"
   ]
  },
  {
   "cell_type": "code",
   "execution_count": null,
   "id": "ce6c9513",
   "metadata": {},
   "outputs": [],
   "source": [
    "usi_time_period.agg([np.min, np.max, np.median, np.max, np.mean])"
   ]
  },
  {
   "cell_type": "code",
   "execution_count": 228,
   "id": "f10b6f6c",
   "metadata": {},
   "outputs": [],
   "source": [
    "# ignore events that occur before 2000\n",
    "# what is the time period for each patient? intent unknown subcohort\n",
    "usi_time_period = cohort2.query('dte > \"2000-01-01\"').groupby('usi')['dte'].agg([np.min, np.max]).apply(lambda r: \n",
    "                                                                                     r['amax'] - r['amin'], axis=1) / np.timedelta64(1, 'Y')"
   ]
  },
  {
   "cell_type": "code",
   "execution_count": null,
   "id": "2d7f0696",
   "metadata": {},
   "outputs": [],
   "source": [
    "usi_time_period.agg([np.min, np.max, np.median, np.max, np.mean])"
   ]
  },
  {
   "cell_type": "code",
   "execution_count": 230,
   "id": "55728f04",
   "metadata": {},
   "outputs": [],
   "source": [
    "# ignore events that occur before 2000\n",
    "# what is the time period for each patient? combined 12 subcohort\n",
    "usi_time_period = cohort12.query('dte > \"2000-01-01\"').groupby('usi')['dte'].agg([np.min, np.max]).apply(lambda r: \n",
    "                                                                                     r['amax'] - r['amin'], axis=1) / np.timedelta64(1, 'Y')"
   ]
  },
  {
   "cell_type": "code",
   "execution_count": null,
   "id": "cc00718e",
   "metadata": {},
   "outputs": [],
   "source": [
    "usi_time_period.agg([np.min, np.max, np.median, np.max, np.mean])"
   ]
  },
  {
   "cell_type": "markdown",
   "id": "9f63f1f9",
   "metadata": {},
   "source": [
    "### 1.3. Cancer status\n",
    "\n",
    "How many patients have cancer within 6 months of index date?"
   ]
  },
  {
   "cell_type": "code",
   "execution_count": null,
   "id": "4bd59d8c",
   "metadata": {},
   "outputs": [],
   "source": [
    "# in original cohort\n",
    "num_cancer = cohort.query('cancer_within_6months_index_date == True')['usi'].unique().shape[0]; num_cancer"
   ]
  },
  {
   "cell_type": "code",
   "execution_count": null,
   "id": "c8c26cd7",
   "metadata": {},
   "outputs": [],
   "source": [
    "# unintended\n",
    "num_cancer1 = cohort1.query('cancer_within_6months_index_date == True')['usi'].unique().shape[0]; num_cancer1"
   ]
  },
  {
   "cell_type": "code",
   "execution_count": null,
   "id": "0974bfec",
   "metadata": {},
   "outputs": [],
   "source": [
    "# intent unknown\n",
    "num_cancer2 = cohort2.query('cancer_within_6months_index_date == True')['usi'].unique().shape[0]; num_cancer2"
   ]
  },
  {
   "cell_type": "code",
   "execution_count": null,
   "id": "adb6fe69",
   "metadata": {},
   "outputs": [],
   "source": [
    "# intent unknown or unintended\n",
    "num_cancer12 = cohort12.query('cancer_within_6months_index_date == True')['usi'].unique().shape[0]; num_cancer12"
   ]
  },
  {
   "cell_type": "code",
   "execution_count": null,
   "id": "9a3da0c5",
   "metadata": {},
   "outputs": [],
   "source": [
    "# fraction of patients who develop cancer (who can be linked)\n",
    "# unintended WL\n",
    "num_linked_usi1 = cohort1.query('usi_linked == True')['usi'].unique().shape[0]\n",
    "num_cancer1 / num_linked_usi1 * 100"
   ]
  },
  {
   "cell_type": "code",
   "execution_count": null,
   "id": "27b7c081",
   "metadata": {},
   "outputs": [],
   "source": [
    "# fraction of patients who develop cancer (who can be linked)\n",
    "# intent unknown\n",
    "num_linked_usi2 = cohort2.query('usi_linked == True')['usi'].unique().shape[0]\n",
    "num_cancer2 / num_linked_usi2 * 100"
   ]
  },
  {
   "cell_type": "code",
   "execution_count": null,
   "id": "c6f9553b",
   "metadata": {},
   "outputs": [],
   "source": [
    "# fraction of patients (who can be linked)\n",
    "num_linked_likely_unintended = cohort12.query('usi_linked == True')['usi'].unique().shape[0]\n",
    "num_cancer12 / num_linked_likely_unintended * 100"
   ]
  },
  {
   "cell_type": "code",
   "execution_count": null,
   "id": "5cea9f6b",
   "metadata": {},
   "outputs": [],
   "source": [
    "num_linked_likely_unintended"
   ]
  },
  {
   "cell_type": "markdown",
   "id": "42c38076",
   "metadata": {},
   "source": [
    "Check that we have removed all patients who have had a diagnosis of cancer before the index date\n"
   ]
  },
  {
   "cell_type": "code",
   "execution_count": null,
   "id": "fdc0ff04",
   "metadata": {},
   "outputs": [],
   "source": [
    "# patients who had a diagnosis of cancer before the index date\n",
    "usi_cancer_before = cohort.query('cancer_before_index_date == True')['usi'].unique()\n",
    "usi_cancer_before.shape[0]"
   ]
  },
  {
   "cell_type": "code",
   "execution_count": null,
   "id": "cd82cb61",
   "metadata": {},
   "outputs": [],
   "source": [
    "# patients who have UWL and can be linked\n",
    "num_uwl_patients = cohort12.query('usi_linked == True')['usi'].unique().shape[0]\n",
    "num_uwl_patients, num_uwl_patients - num_cancer"
   ]
  },
  {
   "cell_type": "code",
   "execution_count": 140,
   "id": "7fd3d9d3",
   "metadata": {},
   "outputs": [],
   "source": [
    "# filter to only UWL patients who can be linked\n",
    "cohort_uwl = cohort12.query('usi_linked == True')"
   ]
  },
  {
   "cell_type": "code",
   "execution_count": null,
   "id": "efc1b3ea",
   "metadata": {},
   "outputs": [],
   "source": [
    "cohort_uwl.usi.unique().shape[0]"
   ]
  },
  {
   "cell_type": "code",
   "execution_count": 142,
   "id": "48b0f7fc",
   "metadata": {},
   "outputs": [],
   "source": [
    "num_uwl_patients = cohort_uwl.usi.unique().shape[0]"
   ]
  },
  {
   "cell_type": "code",
   "execution_count": 143,
   "id": "5a08231b",
   "metadata": {},
   "outputs": [],
   "source": [
    "cohort_1 = cohort1.query('usi_linked == True')"
   ]
  },
  {
   "cell_type": "code",
   "execution_count": 144,
   "id": "a9d68fc4",
   "metadata": {},
   "outputs": [],
   "source": [
    "cohort_2 = cohort2.query('usi_linked == True')"
   ]
  },
  {
   "cell_type": "code",
   "execution_count": null,
   "id": "1047dbba",
   "metadata": {},
   "outputs": [],
   "source": [
    "num_uwl_patients"
   ]
  },
  {
   "cell_type": "code",
   "execution_count": 146,
   "id": "432ab5fe",
   "metadata": {},
   "outputs": [
    {
     "name": "stderr",
     "output_type": "stream",
     "text": [
      "C:\\Users\\alexalee\\AppData\\Local\\Temp\\4\\ipykernel_12812\\2252054473.py:2: SettingWithCopyWarning: \n",
      "A value is trying to be set on a copy of a slice from a DataFrame.\n",
      "Try using .loc[row_indexer,col_indexer] = value instead\n",
      "\n",
      "See the caveats in the documentation: https://pandas.pydata.org/pandas-docs/stable/user_guide/indexing.html#returning-a-view-versus-a-copy\n",
      "  cohort_uwl['usi'] = cohort_uwl['usi'].astype(str).str.pad(width=10, side='left', fillchar='0')\n"
     ]
    }
   ],
   "source": [
    "# convert to 10 digit 0-padded usi\n",
    "cohort_uwl['usi'] = cohort_uwl['usi'].astype(str).str.pad(width=10, side='left', fillchar='0')"
   ]
  },
  {
   "cell_type": "markdown",
   "id": "6779c3e6",
   "metadata": {},
   "source": [
    "## 2. Observations: Weight and BMI\n",
    "\n",
    "How many BMI and weight measurements are there of these (overall and between particular time periods)?"
   ]
  },
  {
   "cell_type": "code",
   "execution_count": null,
   "id": "4bbf46d7",
   "metadata": {},
   "outputs": [],
   "source": [
    "cohort_uwl.usi_linked.value_counts()"
   ]
  },
  {
   "cell_type": "code",
   "execution_count": 236,
   "id": "ba829801",
   "metadata": {},
   "outputs": [],
   "source": [
    "weights = cohort_uwl.query('event_subtype == \"WEIGHT\"')[['usi', \n",
    "                                                         'dte', \n",
    "                                                         'value', \n",
    "                                                         'at_index_date', \n",
    "                                                         'five_years_before', \n",
    "                                                         'two_years_before', \n",
    "                                                         'one_year_before',\n",
    "                                                         'six_months_before', \n",
    "                                                         'three_months_before', \n",
    "                                                         'one_month_before',\n",
    "                                                         'one_month_after', \n",
    "                                                         'six_months_after']].drop_duplicates()\n",
    "\n",
    "bmi = cohort_uwl.query('event_subtype == \"BMI\"')[['usi', \n",
    "                                                  'dte', \n",
    "                                                  'value', \n",
    "                                                  'at_index_date', \n",
    "                                                  'five_years_before', \n",
    "                                                  'two_years_before', \n",
    "                                                  'one_year_before',\n",
    "                                                  'six_months_before',\n",
    "                                                  'three_months_before', \n",
    "                                                  'one_month_before',\n",
    "                                                  'one_month_after', \n",
    "                                                  'six_months_after']].drop_duplicates()\n",
    "\n",
    "weights1 = cohort_1.query('event_subtype == \"WEIGHT\"')[['usi', \n",
    "                                                         'dte', \n",
    "                                                         'value', \n",
    "                                                         'at_index_date', \n",
    "                                                         'five_years_before', \n",
    "                                                         'two_years_before', \n",
    "                                                         'one_year_before',\n",
    "                                                         'six_months_before', \n",
    "                                                         'three_months_before', \n",
    "                                                         'one_month_before',\n",
    "                                                         'one_month_after', \n",
    "                                                         'six_months_after']].drop_duplicates()\n",
    "\n",
    "bmi1 = cohort_1.query('event_subtype == \"BMI\"')[['usi', \n",
    "                                                 'dte', \n",
    "                                                 'value',\n",
    "                                                 'at_index_date', \n",
    "                                                 'five_years_before',\n",
    "                                                 'two_years_before', \n",
    "                                                 'one_year_before',\n",
    "                                                 'six_months_before', \n",
    "                                                 'three_months_before', \n",
    "                                                 'one_month_before',\n",
    "                                                 'one_month_after', \n",
    "                                                 'six_months_after']].drop_duplicates()\n",
    "\n",
    "weights2 = cohort_2.query('event_subtype == \"WEIGHT\"')[['usi', \n",
    "                                                         'dte', \n",
    "                                                         'value', \n",
    "                                                         'at_index_date', \n",
    "                                                         'five_years_before', \n",
    "                                                         'two_years_before', \n",
    "                                                         'one_year_before',\n",
    "                                                         'six_months_before', \n",
    "                                                         'three_months_before', \n",
    "                                                         'one_month_before',\n",
    "                                                         'one_month_after', \n",
    "                                                         'six_months_after']].drop_duplicates()\n",
    "\n",
    "bmi2 = cohort_2.query('event_subtype == \"BMI\"')[['usi', \n",
    "                                                 'dte', \n",
    "                                                 'value',\n",
    "                                                 'at_index_date', \n",
    "                                                 'five_years_before', \n",
    "                                                 'two_years_before', \n",
    "                                                 'one_year_before',\n",
    "                                                 'six_months_before', \n",
    "                                                 'three_months_before', \n",
    "                                                 'one_month_before',\n",
    "                                                 'one_month_after', \n",
    "                                                 'six_months_after']].drop_duplicates()"
   ]
  },
  {
   "cell_type": "code",
   "execution_count": null,
   "id": "1c1d3e9b",
   "metadata": {},
   "outputs": [],
   "source": [
    "# how many patients have at least one weight measurement?\n",
    "weights['usi'].unique().shape, weights['usi'].unique().shape[0] / num_uwl_patients * 100"
   ]
  },
  {
   "cell_type": "code",
   "execution_count": null,
   "id": "f2b8652d",
   "metadata": {},
   "outputs": [],
   "source": [
    "# how many patients have at least one weight measurement?\n",
    "weights1['usi'].unique().shape, weights1['usi'].unique().shape[0] / num_linked_usi1 * 100"
   ]
  },
  {
   "cell_type": "code",
   "execution_count": null,
   "id": "98a83520",
   "metadata": {},
   "outputs": [],
   "source": [
    "# how many patients have at least one weight measurement?\n",
    "weights2['usi'].unique().shape, weights2['usi'].unique().shape[0] / num_linked_usi2 * 100"
   ]
  },
  {
   "cell_type": "markdown",
   "id": "2f71447f",
   "metadata": {},
   "source": [
    "### 2.1. Weights"
   ]
  },
  {
   "cell_type": "code",
   "execution_count": 287,
   "id": "a4ec56b4",
   "metadata": {},
   "outputs": [],
   "source": [
    "# convert to tidy form to make calculations easier\n",
    "weights_tidy = pd.melt(weights, \n",
    "                       id_vars=['usi', 'dte', 'value'], \n",
    "                       value_vars=['at_index_date', \n",
    "                                   'one_month_before', \n",
    "                                   'five_years_before',\n",
    "                                   'two_years_before',\n",
    "                                   'one_year_before',\n",
    "                                   'six_months_before',\n",
    "                                   'three_months_before',\n",
    "                                   'one_month_before',\n",
    "                                   'one_month_after', \n",
    "                                   'six_months_after'], \n",
    "                       value_name='in_time_period', \n",
    "                       var_name='time_period')"
   ]
  },
  {
   "cell_type": "code",
   "execution_count": 288,
   "id": "00e40273",
   "metadata": {},
   "outputs": [],
   "source": [
    "# convert to tidy form to make calculations easier\n",
    "weights_tidy1 = pd.melt(weights1, \n",
    "                       id_vars=['usi', 'dte', 'value'], \n",
    "                       value_vars=['at_index_date', \n",
    "                                   'one_month_before', \n",
    "                                   'five_years_before',\n",
    "                                   'two_years_before',\n",
    "                                   'one_year_before',\n",
    "                                   'six_months_before',\n",
    "                                   'three_months_before',\n",
    "                                   'one_month_before',\n",
    "                                   'one_month_after', \n",
    "                                   'six_months_after'], \n",
    "                       value_name='in_time_period', \n",
    "                       var_name='time_period')"
   ]
  },
  {
   "cell_type": "code",
   "execution_count": 289,
   "id": "0bcc2822",
   "metadata": {},
   "outputs": [],
   "source": [
    "# convert to tidy form to make calculations easier\n",
    "weights_tidy2 = pd.melt(weights2, \n",
    "                       id_vars=['usi', 'dte', 'value'], \n",
    "                       value_vars=['at_index_date', \n",
    "                                   'one_month_before', \n",
    "                                   'five_years_before',\n",
    "                                   'two_years_before',\n",
    "                                   'one_year_before',\n",
    "                                   'six_months_before',\n",
    "                                   'three_months_before',\n",
    "                                   'one_month_before',\n",
    "                                   'one_month_after', \n",
    "                                   'six_months_after'], \n",
    "                       value_name='in_time_period', \n",
    "                       var_name='time_period')"
   ]
  },
  {
   "cell_type": "code",
   "execution_count": 290,
   "id": "0874ccf1",
   "metadata": {},
   "outputs": [],
   "source": [
    "# convert time period to categorical based on time ordering\n",
    "weights_tidy['time_period'] = pd.Categorical(weights_tidy['time_period'], \n",
    "                                             ['five_years_before', \n",
    "                                              'two_years_before', \n",
    "                                              'one_year_before', \n",
    "                                              'six_months_before', \n",
    "                                              'three_months_before', \n",
    "                                              'one_month_before', \n",
    "                                              'at_index_date', \n",
    "                                              'one_month_after', \n",
    "                                              'six_months_after'])\n",
    "\n",
    "# convert time period to categorical based on time ordering\n",
    "weights_tidy1['time_period'] = pd.Categorical(weights_tidy1['time_period'], \n",
    "                                             ['five_years_before', \n",
    "                                              'two_years_before', \n",
    "                                              'one_year_before', \n",
    "                                              'six_months_before', \n",
    "                                              'three_months_before', \n",
    "                                              'one_month_before', \n",
    "                                              'at_index_date', \n",
    "                                              'one_month_after', \n",
    "                                              'six_months_after'])\n",
    "\n",
    "# convert time period to categorical based on time ordering\n",
    "weights_tidy2['time_period'] = pd.Categorical(weights_tidy2['time_period'], \n",
    "                                             ['five_years_before', \n",
    "                                              'two_years_before', \n",
    "                                              'one_year_before', \n",
    "                                              'six_months_before', \n",
    "                                              'three_months_before', \n",
    "                                              'one_month_before', \n",
    "                                              'at_index_date', \n",
    "                                              'one_month_after', \n",
    "                                              'six_months_after'])"
   ]
  },
  {
   "cell_type": "code",
   "execution_count": null,
   "id": "a4a63a58",
   "metadata": {},
   "outputs": [],
   "source": [
    "# number of total weight measurements in cohort by time period\n",
    "weights_tidy.query('in_time_period == True').groupby('time_period').size()"
   ]
  },
  {
   "cell_type": "code",
   "execution_count": null,
   "id": "95bf0286",
   "metadata": {},
   "outputs": [],
   "source": [
    "# for each usi and time period, how many weight measurements are there?\n",
    "usi_time_period_counts = weights_tidy.query('in_time_period == True').groupby(['usi', 'time_period'], as_index=False).size()\n",
    "usi_time_period_counts\n",
    "\n",
    "# for each usi and time period, how many weight measurements are there?\n",
    "usi_time_period_counts1 = weights_tidy1.query('in_time_period == True').groupby(['usi', 'time_period'], as_index=False).size()\n",
    "usi_time_period_counts1\n",
    "\n",
    "# for each usi and time period, how many weight measurements are there?\n",
    "usi_time_period_counts2 = weights_tidy2.query('in_time_period == True').groupby(['usi', 'time_period'], as_index=False).size()\n",
    "usi_time_period_counts2"
   ]
  },
  {
   "cell_type": "code",
   "execution_count": 293,
   "id": "e86279e2",
   "metadata": {},
   "outputs": [],
   "source": [
    "# for each time period and size how many patients are there?\n",
    "time_period_size_counts = usi_time_period_counts.groupby(['time_period', 'size'], as_index=False).count().query('size > 0')\n",
    "\n",
    "# for each time period and size how many patients are there?\n",
    "time_period_size_counts1 = usi_time_period_counts1.groupby(['time_period', 'size'], as_index=False).count().query('size > 0')\n",
    "\n",
    "# for each time period and size how many patients are there?\n",
    "time_period_size_counts2 = usi_time_period_counts2.groupby(['time_period', 'size'], as_index=False).count().query('size > 0')"
   ]
  },
  {
   "cell_type": "code",
   "execution_count": 294,
   "id": "acba86af",
   "metadata": {},
   "outputs": [],
   "source": [
    "# sort the data and calculate number of usi in time period with at least size n\n",
    "time_period_size_counts['cumulative_count'] = time_period_size_counts.sort_values(by=['time_period', 'size'], ascending=[True, False]).groupby('time_period')['usi'].cumsum()\n",
    "\n",
    "# sort the data and calculate number of usi in time period with at least size n\n",
    "time_period_size_counts1['cumulative_count'] = time_period_size_counts1.sort_values(by=['time_period', 'size'], ascending=[True, False]).groupby('time_period')['usi'].cumsum()\n",
    "\n",
    "# sort the data and calculate number of usi in time period with at least size n\n",
    "time_period_size_counts2['cumulative_count'] = time_period_size_counts2.sort_values(by=['time_period', 'size'], ascending=[True, False]).groupby('time_period')['usi'].cumsum()"
   ]
  },
  {
   "cell_type": "code",
   "execution_count": null,
   "id": "55b526fc",
   "metadata": {},
   "outputs": [],
   "source": [
    "# pivot table showing number of patients with at least n weight measurements for each of the time periods (1 <= n <= 5)\n",
    "time_period_count_pivot = time_period_size_counts[['time_period', \n",
    "                                                   'size', \n",
    "                                                   'cumulative_count']].query('size < 6').pivot(index='time_period', \n",
    "                                                                                                columns='size', \n",
    "                                                                                                values='cumulative_count').T\n",
    "\n",
    "time_period_count_pivot"
   ]
  },
  {
   "cell_type": "code",
   "execution_count": null,
   "id": "7ec79574",
   "metadata": {},
   "outputs": [],
   "source": [
    "# pivot table showing number of patients with at least n weight measurements for each of the time periods (1 <= n <= 5)\n",
    "time_period_count_pivot1 = time_period_size_counts1[['time_period', \n",
    "                                                   'size', \n",
    "                                                   'cumulative_count']].query('size < 6').pivot(index='time_period', \n",
    "                                                                                                columns='size', \n",
    "                                                                                                values='cumulative_count').T\n",
    "\n",
    "time_period_count_pivot1"
   ]
  },
  {
   "cell_type": "code",
   "execution_count": null,
   "id": "0101d11f",
   "metadata": {},
   "outputs": [],
   "source": [
    "# pivot table showing number of patients with at least n weight measurements for each of the time periods (1 <= n <= 5)\n",
    "time_period_count_pivot2 = time_period_size_counts2[['time_period', \n",
    "                                                   'size', \n",
    "                                                   'cumulative_count']].query('size < 6').pivot(index='time_period', \n",
    "                                                                                                columns='size', \n",
    "                                                                                                values='cumulative_count').T\n",
    "\n",
    "time_period_count_pivot2"
   ]
  },
  {
   "cell_type": "code",
   "execution_count": null,
   "id": "e3475335",
   "metadata": {},
   "outputs": [],
   "source": [
    "plt.figure(figsize=(12, 8))\n",
    "ax = sns.heatmap(time_period_count_pivot.T, annot=True, fmt='d')\n",
    "ax.set_xlabel('Number of measurements')\n",
    "ax.set_ylabel('Time period')\n",
    "ax.set_xticklabels(['$\\geq 1$', '$\\geq 2$', '$\\geq 3$', '$\\geq 4$', '$\\geq 5$'])\n",
    "ax.set_yticklabels(['5 years before', '2 years before', '1 year before', \n",
    "                    '6 months before', '3 months before', '1 month before', \n",
    "                    'at index date', '1 month after', 'six months after'])\n",
    "plt.show()"
   ]
  },
  {
   "cell_type": "code",
   "execution_count": null,
   "id": "d65cea42",
   "metadata": {},
   "outputs": [],
   "source": [
    "plt.figure(figsize=(12, 8))\n",
    "ax = sns.heatmap(time_period_count_pivot.T / num_uwl_patients * 100, annot=True)\n",
    "ax.set_xlabel('Number of measurements')\n",
    "ax.set_ylabel('Time period')\n",
    "ax.set_xticklabels(['$\\geq 1$', '$\\geq 2$', '$\\geq 3$', '$\\geq 4$', '$\\geq 5$'])\n",
    "ax.set_yticklabels(['5 years before', '2 years before', '1 year before', \n",
    "                    '6 months before', '3 months before', '1 month before', \n",
    "                    'at index date', '1 month after', 'six months after'])\n",
    "plt.show()"
   ]
  },
  {
   "cell_type": "code",
   "execution_count": null,
   "id": "026f383a",
   "metadata": {},
   "outputs": [],
   "source": [
    "# how many distinct weight measurements?\n",
    "weights[['usi', 'dte', 'value']].shape[0]"
   ]
  },
  {
   "cell_type": "markdown",
   "id": "c4bc4723",
   "metadata": {},
   "source": [
    "### 2.2. Weight changes\n",
    "\n",
    "For those patients who have at least two weight recordings in the 24 months up until the index date, what are the distributions in the weight changes?"
   ]
  },
  {
   "cell_type": "code",
   "execution_count": null,
   "id": "2143c4df",
   "metadata": {},
   "outputs": [],
   "source": [
    "# filter to patients who have at least two weight recordings in 30 days up to index date\n",
    "usi_two_weights = usi_time_period_counts.query('size >= 2').query('time_period == [\"two_years_before\", \"at_index_date\"]')['usi'].values\n",
    "usi_two_weights.shape\n",
    "\n",
    "# filter to patients who have at least two weight recordings in 30 days up to index date\n",
    "usi_two_weights1 = usi_time_period_counts1.query('size >= 2').query('time_period == [\"two_years_before\", \"at_index_date\"]')['usi'].values\n",
    "usi_two_weights1.shape\n",
    "\n",
    "# filter to patients who have at least two weight recordings in 30 days up to index date\n",
    "usi_two_weights2 = usi_time_period_counts2.query('size >= 2').query('time_period == [\"two_years_before\", \"at_index_date\"]')['usi'].values\n",
    "usi_two_weights2.shape"
   ]
  },
  {
   "cell_type": "code",
   "execution_count": null,
   "id": "da7070ce",
   "metadata": {},
   "outputs": [],
   "source": [
    "usi_two_weights.shape, usi_two_weights.shape[0] / num_uwl_patients * 100"
   ]
  },
  {
   "cell_type": "code",
   "execution_count": null,
   "id": "243c8f14",
   "metadata": {},
   "outputs": [],
   "source": [
    "usi_two_weights1.shape, usi_two_weights1.shape[0] / num_uwl1_linkable * 100"
   ]
  },
  {
   "cell_type": "code",
   "execution_count": null,
   "id": "af13b9bc",
   "metadata": {},
   "outputs": [],
   "source": [
    "usi_two_weights2.shape, usi_two_weights2.shape[0] / num_linked_usi2 * 100"
   ]
  },
  {
   "cell_type": "code",
   "execution_count": 309,
   "id": "7b0aaf5c",
   "metadata": {},
   "outputs": [],
   "source": [
    "# the event log of patients who have at least two weight measurements in the time window\n",
    "cohort_double_weights = cohort_uwl[cohort_uwl['usi'].isin(usi_two_weights)].sort_values(by=['usi', 'dte'])\n",
    "\n",
    "# the event log of patients who have at least two weight measurements in the time window\n",
    "cohort_double_weights1 = cohort_uwl[cohort_uwl['usi'].isin(usi_two_weights1)].sort_values(by=['usi', 'dte'])\n",
    "\n",
    "# the event log of patients who have at least two weight measurements in the time window\n",
    "cohort_double_weights2 = cohort_uwl[cohort_uwl['usi'].isin(usi_two_weights2)].sort_values(by=['usi', 'dte'])"
   ]
  },
  {
   "cell_type": "code",
   "execution_count": 310,
   "id": "2725dcb7",
   "metadata": {},
   "outputs": [],
   "source": [
    "# cohort_double_weights\n",
    "weight_counts_temp = cohort_double_weights.reset_index().groupby('usi').apply(lambda g: recent_weight_change(g))"
   ]
  },
  {
   "cell_type": "code",
   "execution_count": null,
   "id": "c3548472",
   "metadata": {},
   "outputs": [],
   "source": [
    "# calculate the weight changes\n",
    "weight_changes = cohort_double_weights.reset_index().groupby('usi').apply(lambda g: recent_weight_change(g))\n",
    "weight_changes_perc = cohort_double_weights.groupby('usi').apply(lambda g: recent_weight_change(g, perc=True))\n",
    "weight_changes.mean(), weight_changes_perc.mean(), weight_changes.median(), weight_changes_perc.median()"
   ]
  },
  {
   "cell_type": "code",
   "execution_count": null,
   "id": "7dc13c4b",
   "metadata": {},
   "outputs": [],
   "source": [
    "# calculate the weight changes\n",
    "weight_changes1 = cohort_double_weights1.reset_index().groupby('usi').apply(lambda g: recent_weight_change(g))\n",
    "weight_changes_perc1 = cohort_double_weights1.groupby('usi').apply(lambda g: recent_weight_change(g, perc=True))\n",
    "weight_changes1.mean(), weight_changes_perc1.mean(), weight_changes1.median(), weight_changes_perc1.median()"
   ]
  },
  {
   "cell_type": "code",
   "execution_count": null,
   "id": "d4c66ba5",
   "metadata": {},
   "outputs": [],
   "source": [
    "# calculate the weight changes\n",
    "weight_changes2 = cohort_double_weights2.reset_index().groupby('usi').apply(lambda g: recent_weight_change(g))\n",
    "weight_changes_perc2 = cohort_double_weights2.groupby('usi').apply(lambda g: recent_weight_change(g, perc=True))\n",
    "weight_changes2.mean(), weight_changes_perc2.mean(), weight_changes2.median(), weight_changes_perc2.median()"
   ]
  },
  {
   "cell_type": "code",
   "execution_count": null,
   "id": "35cf251b",
   "metadata": {},
   "outputs": [],
   "source": [
    "plt.figure(figsize=(12, 8))\n",
    "sns.boxplot(weight_changes1)\n",
    "plt.xlabel('Weight change in 2 years up to index date')\n",
    "plt.show()"
   ]
  },
  {
   "cell_type": "markdown",
   "id": "04bdf729",
   "metadata": {},
   "source": [
    "### 2.3. BMI"
   ]
  },
  {
   "cell_type": "code",
   "execution_count": 177,
   "id": "7bf2598e",
   "metadata": {},
   "outputs": [
    {
     "data": {
      "text/plain": [
       "25375"
      ]
     },
     "execution_count": 177,
     "metadata": {},
     "output_type": "execute_result"
    }
   ],
   "source": [
    "# how many distinct BMI measurements?\n",
    "bmi[['usi', 'dte', 'value']].drop_duplicates().shape[0]"
   ]
  },
  {
   "cell_type": "code",
   "execution_count": null,
   "id": "483ece51",
   "metadata": {},
   "outputs": [],
   "source": [
    "# convert to tidy form\n",
    "bmi_tidy = pd.melt(bmi,\n",
    "                   id_vars=['usi', 'dte', 'value'],\n",
    "                   value_vars=['at_index_date',\n",
    "                               '1month_before', \n",
    "                               '5years_before',\n",
    "                               '24months_before',\n",
    "                               '12months_before',\n",
    "                               '6months_before',\n",
    "                               '3months_before',\n",
    "                               '1month_before',\n",
    "                               '1month_after', \n",
    "                               '6months_after'], \n",
    "                   value_name='in_time_period', \n",
    "                   var_name='time_period')"
   ]
  },
  {
   "cell_type": "code",
   "execution_count": null,
   "id": "3466a4e7",
   "metadata": {},
   "outputs": [],
   "source": [
    "# convert time period to categorical based on time ordering\n",
    "bmi_tidy['time_period'] = pd.Categorical(bmi_tidy['time_period'],\n",
    "                                         ['5years_before', '24months_before', '12months_before', \n",
    "                                          '6months_before', '3months_before', '1month_before', \n",
    "                                          'at_index_date', \n",
    "                                          '1month_after', '6months_after'])"
   ]
  },
  {
   "cell_type": "code",
   "execution_count": null,
   "id": "531c744e",
   "metadata": {},
   "outputs": [],
   "source": [
    "# for each usi and time period, how many bmi measurements are there?\n",
    "usi_time_period_counts = bmi_tidy.query('in_time_period == True').groupby(['usi', 'time_period'], as_index=False).size()\n",
    "\n",
    "# for each time period and size how many patients are there?\n",
    "time_period_size_counts = usi_time_period_counts.groupby(['time_period', 'size'], as_index=False).count().query('size > 0')\n",
    "\n",
    "# sort the data and calculate number of usi in time period with at least size n\n",
    "time_period_size_counts['cumulative_count'] = time_period_size_counts.sort_values(by=['time_period', 'size'], ascending=[True, False]).groupby('time_period')['usi'].cumsum()\n",
    "\n",
    "# pivot table showing number of patients with at least n bmi measurements for each of the time periods (1 <= n <= 5)\n",
    "time_period_count_pivot = time_period_size_counts[['time_period', \n",
    "                                                   'size', \n",
    "                                                   'cumulative_count']].query('size < 6').pivot(index='time_period', \n",
    "                                                                                                columns='size', \n",
    "                                                                                                values='cumulative_count').T\n",
    "\n",
    "time_period_count_pivot"
   ]
  },
  {
   "cell_type": "code",
   "execution_count": null,
   "id": "8033e377",
   "metadata": {},
   "outputs": [],
   "source": [
    "plt.figure(figsize=(12, 8))\n",
    "ax = sns.heatmap(time_period_count_pivot.T, annot=True, fmt='d')\n",
    "plt.show()"
   ]
  },
  {
   "cell_type": "code",
   "execution_count": null,
   "id": "e1aa5638",
   "metadata": {},
   "outputs": [],
   "source": [
    "plt.figure(figsize=(12, 8))\n",
    "ax = sns.heatmap(time_period_count_pivot.T / num_uwl_patients * 100, annot=True)\n",
    "plt.show()"
   ]
  },
  {
   "cell_type": "markdown",
   "id": "7c7951b2",
   "metadata": {},
   "source": [
    "## 3. Demographics\n",
    "\n",
    "Calculate the baseline characteristics of the cohort"
   ]
  },
  {
   "cell_type": "code",
   "execution_count": null,
   "id": "81619513",
   "metadata": {},
   "outputs": [],
   "source": [
    "usi_uwl = cohort_uwl['usi'].unique()\n",
    "usi_uwl.shape"
   ]
  },
  {
   "cell_type": "code",
   "execution_count": 244,
   "id": "f58607ba",
   "metadata": {},
   "outputs": [],
   "source": [
    "patient_uwl['index_date'] = pd.to_datetime(patient_uwl['index_date'])"
   ]
  },
  {
   "cell_type": "code",
   "execution_count": 245,
   "id": "dca6850d",
   "metadata": {},
   "outputs": [],
   "source": [
    "#cohort_linkable = (\n",
    "#    cohort_linkable\n",
    "#    .assign(usi=cohort_linkable.usi.astype(float).astype(int).astype(str).str.pad(width=10, side='left', fillchar='0'))\n",
    "#)"
   ]
  },
  {
   "cell_type": "code",
   "execution_count": 246,
   "id": "b2715f6c",
   "metadata": {},
   "outputs": [],
   "source": [
    "# patient age at index date\n",
    "usi_to_index_date = dict(cohort.query('index_case == True')[['usi', 'dte']].values)\n",
    "\n",
    "# consider only those patients that are UWL and can be linked\n",
    "patient_uwl = patient[patient['usi'].isin(usi_uwl)]\n",
    "patient_uwl = patient_uwl.query('usi != \"\"')\n",
    "\n",
    "patient_uwl['index_date'] = patient_uwl['usi'].apply(lambda u: usi_to_index_date[u])\n",
    "patient_uwl['index_date'] = pd.to_datetime(patient_uwl['index_date'])\n",
    "patient_uwl['age_at_index'] = patient_uwl['index_date'].dt.year - patient_uwl['year_of_birth']"
   ]
  },
  {
   "cell_type": "code",
   "execution_count": 247,
   "id": "fb6e0253",
   "metadata": {},
   "outputs": [],
   "source": [
    "# where duplicate ages recorded, select first\n",
    "patient_uwl = patient_uwl.groupby('usi', as_index=False).first()"
   ]
  },
  {
   "cell_type": "code",
   "execution_count": 248,
   "id": "74032d21",
   "metadata": {},
   "outputs": [],
   "source": [
    "# create the age group variable\n",
    "bins = [17, 39, 49, 59, 69, 79, 119]\n",
    "labels = ['18 - 39', '40 - 49', '50 - 59', '60 - 69', '70 - 79', '80+']\n",
    "\n",
    "patient_uwl['age_group'] = pd.cut(x=patient_uwl['age_at_index'], bins=bins, labels=labels)"
   ]
  },
  {
   "cell_type": "code",
   "execution_count": 249,
   "id": "4bfac221",
   "metadata": {},
   "outputs": [],
   "source": [
    "# second age group variable \n",
    "# (used when calculating PPV values for pathology results as these are larger to include more patients)\n",
    "bins = [39, 59, 79, 119]\n",
    "labels = ['40 - 59', '60 - 79', '80+']\n",
    "\n",
    "patient_uwl['age_group2'] = pd.cut(x=patient_uwl['age_at_index'], bins=bins, labels=labels)"
   ]
  },
  {
   "cell_type": "code",
   "execution_count": 250,
   "id": "e17e569a",
   "metadata": {},
   "outputs": [],
   "source": [
    "# write this as a new patient file with the additional fields included\n",
    "#patient_uwl.to_parquet(f'{source_folder}/NPS_Patient_202107_derived_fields_250123.parquet')\n",
    "#patient_uwl.to_csv(f'{source_folder}/cohort_patient_202107_derived_fields_210224.csv', index=False)"
   ]
  },
  {
   "cell_type": "markdown",
   "id": "4e69741c",
   "metadata": {},
   "source": [
    "### 3.1. Characteristics of baseline cohort\n",
    "\n",
    "- Cohort defined as patients with at least one UWL event.\n",
    "- What is the base line? Use the patient table for age, gender, smoking status codes"
   ]
  },
  {
   "cell_type": "code",
   "execution_count": null,
   "id": "e74ddd65",
   "metadata": {},
   "outputs": [],
   "source": [
    "# consider only those patients who can be linked\n",
    "num_uwl_patients = patient_uwl['usi'].unique().shape[0]\n",
    "num_uwl_patients"
   ]
  },
  {
   "cell_type": "code",
   "execution_count": null,
   "id": "aa3938c7",
   "metadata": {},
   "outputs": [],
   "source": [
    "patient_uwl[patient_uwl['usi'].isin(usi_uwl)].groupby(['age_group']).size()"
   ]
  },
  {
   "cell_type": "code",
   "execution_count": null,
   "id": "1d48f6fc",
   "metadata": {},
   "outputs": [],
   "source": [
    "patient_uwl[patient_uwl['usi'].isin(usi_uwl)].groupby(['age_group']).size() / num_uwl_patients * 100"
   ]
  },
  {
   "cell_type": "code",
   "execution_count": null,
   "id": "79681b52",
   "metadata": {},
   "outputs": [],
   "source": [
    "patient_uwl.groupby('gender_code').size()"
   ]
  },
  {
   "cell_type": "code",
   "execution_count": null,
   "id": "3bde609d",
   "metadata": {},
   "outputs": [],
   "source": [
    "patient_uwl.groupby('gender_code').size() / num_uwl_patients * 100"
   ]
  },
  {
   "cell_type": "code",
   "execution_count": null,
   "id": "1fb0948a",
   "metadata": {},
   "outputs": [],
   "source": [
    "patient_uwl.groupby('smoking_status_code').size()"
   ]
  },
  {
   "cell_type": "code",
   "execution_count": null,
   "id": "33b7261d",
   "metadata": {},
   "outputs": [],
   "source": [
    "patient_uwl.groupby('smoking_status_code').size() / num_uwl_patients * 100"
   ]
  },
  {
   "cell_type": "code",
   "execution_count": null,
   "id": "194fc29e",
   "metadata": {},
   "outputs": [],
   "source": [
    "patient_uwl.groupby('smoking_status_code').size()"
   ]
  },
  {
   "cell_type": "code",
   "execution_count": 266,
   "id": "be080b15",
   "metadata": {},
   "outputs": [],
   "source": [
    "#usi_to_age = dict(patient_uwl[['usi', 'age_at_index']].drop_duplicates().values)\n",
    "#usi_to_sex = dict(patient_uwl[['usi', 'gender_code']].drop_duplicates().values)\n",
    "#usi_to_irsad = dict(patient_uwl[['usi', 'irsad_decile']].drop_duplicates().values)"
   ]
  },
  {
   "cell_type": "code",
   "execution_count": null,
   "id": "41553c2f",
   "metadata": {},
   "outputs": [],
   "source": [
    "patient_uwl_small = patient_uwl[['usi', 'phn_code', 'remoteness_area_cde', 'sa3_code_2016', \n",
    "                                 'irsad_decile', 'gender_code', 'atsi_code', 'year_of_birth']].drop_duplicates()"
   ]
  },
  {
   "cell_type": "code",
   "execution_count": null,
   "id": "adc8dc15",
   "metadata": {},
   "outputs": [],
   "source": [
    "uwl_patients_phn = patient_uwl_small[['usi', 'phn_code']].drop_duplicates().groupby('phn_code').size().reset_index()\n",
    "uwl_patients_irsad = patient_uwl_small[['usi', 'irsad_decile']].drop_duplicates().groupby('irsad_decile').size().reset_index()\n",
    "uwl_patients_gender = patient_uwl_small[['usi', 'gender_code']].drop_duplicates().groupby('gender_code').size().reset_index()"
   ]
  },
  {
   "cell_type": "code",
   "execution_count": null,
   "id": "ed19e937",
   "metadata": {},
   "outputs": [],
   "source": [
    "cohort_linkable.usi.unique().shape[0]"
   ]
  },
  {
   "cell_type": "code",
   "execution_count": null,
   "id": "99f0fc82",
   "metadata": {},
   "outputs": [],
   "source": []
  },
  {
   "cell_type": "markdown",
   "id": "d4044966",
   "metadata": {},
   "source": [
    "## 4. Pathology results"
   ]
  },
  {
   "cell_type": "markdown",
   "id": "45d34b37",
   "metadata": {},
   "source": [
    "### 4.1. Prevalence of recording of path results"
   ]
  },
  {
   "cell_type": "markdown",
   "id": "7adff814",
   "metadata": {},
   "source": [
    "How many patients have at least one type of each pathology result ever recorded?"
   ]
  },
  {
   "cell_type": "code",
   "execution_count": 93,
   "id": "83756045",
   "metadata": {},
   "outputs": [
    {
     "data": {
      "text/plain": [
       "Series([], dtype: int64)"
      ]
     },
     "execution_count": 93,
     "metadata": {},
     "output_type": "execute_result"
    }
   ],
   "source": [
    "# how many patients have at least one of each type of pathology test?\n",
    "(cohort_uwl.query('event_type == \"pathology_test_result\"').groupby(['usi', 'event_subtype']).size() >= 1).reset_index().groupby('event_subtype').size()"
   ]
  },
  {
   "cell_type": "code",
   "execution_count": null,
   "id": "46b95583",
   "metadata": {},
   "outputs": [],
   "source": [
    "# percentages\n",
    "(cohort_uwl.query('event_type == \"pathology_test_result\"').groupby(['usi', 'event_subtype']).size() >= 1).reset_index().groupby('event_subtype').size() / num_uwl_patients * 100"
   ]
  },
  {
   "cell_type": "markdown",
   "id": "b4aff66b",
   "metadata": {},
   "source": [
    "Filter cohort to within 4 month window of index date (3 months before to 1 month after)"
   ]
  },
  {
   "cell_type": "code",
   "execution_count": 97,
   "id": "ba1a45e7",
   "metadata": {},
   "outputs": [],
   "source": [
    "cohort_within_4month_period = pd.concat([cohort_uwl[cohort_uwl['3months_before'] == True], \n",
    "                                         cohort_uwl[cohort_uwl['1month_after'] == True]])"
   ]
  },
  {
   "cell_type": "code",
   "execution_count": null,
   "id": "15015afe",
   "metadata": {},
   "outputs": [],
   "source": [
    "(cohort_within_4month_period.query('event_type == \"pathology_test_result\"').groupby(['usi', 'event_subtype']).size() >= 1).reset_index().groupby('event_subtype').size()"
   ]
  },
  {
   "cell_type": "code",
   "execution_count": null,
   "id": "880c50a1",
   "metadata": {},
   "outputs": [],
   "source": [
    "(cohort_within_4month_period.query('event_type == \"pathology_test_result\"').groupby(['usi', 'event_subtype']).size() >= 1).reset_index().groupby('event_subtype').size() / num_uwl_patients * 100"
   ]
  },
  {
   "cell_type": "markdown",
   "id": "2d3f4753",
   "metadata": {},
   "source": [
    "Cohort covering 7 month window (6 months before to 1 month after)"
   ]
  },
  {
   "cell_type": "code",
   "execution_count": 100,
   "id": "951a3837",
   "metadata": {},
   "outputs": [],
   "source": [
    "cohort_within_7month_period = pd.concat([cohort_uwl[cohort_uwl['6months_before'] == True], \n",
    "                                         cohort_uwl[cohort_uwl['1month_after'] == True]])"
   ]
  },
  {
   "cell_type": "code",
   "execution_count": null,
   "id": "16597fd6",
   "metadata": {},
   "outputs": [],
   "source": [
    "(cohort_within_7month_period.query('event_type == \"pathology_test_result\"').groupby(['usi', 'event_subtype']).size() >= 1).reset_index().groupby('event_subtype').size() / num_uwl_patients * 100"
   ]
  },
  {
   "cell_type": "markdown",
   "id": "dd88c921",
   "metadata": {},
   "source": [
    "### 4.2. Abnormal pathology results"
   ]
  },
  {
   "cell_type": "code",
   "execution_count": null,
   "id": "93dd02af",
   "metadata": {},
   "outputs": [],
   "source": [
    "cohort_uwl.query('event_type == \"pathology_test_result\"').groupby(['event_subtype', 'value3']).size()"
   ]
  },
  {
   "cell_type": "code",
   "execution_count": 103,
   "id": "139274ef",
   "metadata": {},
   "outputs": [],
   "source": [
    "# how many abnormal results "
   ]
  },
  {
   "cell_type": "code",
   "execution_count": null,
   "id": "9bd1d590",
   "metadata": {},
   "outputs": [],
   "source": []
  }
 ],
 "metadata": {
  "kernelspec": {
   "display_name": "Python 3 (ipykernel)",
   "language": "python",
   "name": "python3"
  },
  "language_info": {
   "codemirror_mode": {
    "name": "ipython",
    "version": 3
   },
   "file_extension": ".py",
   "mimetype": "text/x-python",
   "name": "python",
   "nbconvert_exporter": "python",
   "pygments_lexer": "ipython3",
   "version": "3.9.12"
  }
 },
 "nbformat": 4,
 "nbformat_minor": 5
}
